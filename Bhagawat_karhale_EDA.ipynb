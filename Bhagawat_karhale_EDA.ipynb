{
 "cells": [
  {
   "cell_type": "code",
   "execution_count": 2,
   "id": "e2c94e08-3d96-430c-b336-5c67bf009362",
   "metadata": {
    "id": "e2c94e08-3d96-430c-b336-5c67bf009362"
   },
   "outputs": [],
   "source": [
    "import pandas as pd\n",
    "import numpy as np\n",
    "import matplotlib.pyplot as plt\n",
    "import seaborn as sns"
   ]
  },
  {
   "cell_type": "code",
   "execution_count": 3,
   "id": "4c2499d3-5edc-419f-af79-2fbfa1a35ed5",
   "metadata": {
    "id": "4c2499d3-5edc-419f-af79-2fbfa1a35ed5"
   },
   "outputs": [],
   "source": [
    "customers = pd.read_csv(\"Customers.csv\")\n",
    "products = pd.read_csv(\"Products.csv\")\n",
    "transactions = pd.read_csv(\"Transactions.csv\")"
   ]
  },
  {
   "cell_type": "code",
   "execution_count": 4,
   "id": "36c44f36-9db1-43b1-b5b6-6107551d5c80",
   "metadata": {
    "colab": {
     "base_uri": "https://localhost:8080/"
    },
    "id": "36c44f36-9db1-43b1-b5b6-6107551d5c80",
    "outputId": "cad560f5-a3c9-4c96-d651-829c312e064b"
   },
   "outputs": [
    {
     "name": "stdout",
     "output_type": "stream",
     "text": [
      "<class 'pandas.core.frame.DataFrame'>\n",
      "RangeIndex: 200 entries, 0 to 199\n",
      "Data columns (total 4 columns):\n",
      " #   Column        Non-Null Count  Dtype \n",
      "---  ------        --------------  ----- \n",
      " 0   CustomerID    200 non-null    object\n",
      " 1   CustomerName  200 non-null    object\n",
      " 2   Region        200 non-null    object\n",
      " 3   SignupDate    200 non-null    object\n",
      "dtypes: object(4)\n",
      "memory usage: 6.4+ KB\n"
     ]
    }
   ],
   "source": [
    "customers.info()"
   ]
  },
  {
   "cell_type": "code",
   "execution_count": 5,
   "id": "b1532949-da9d-40e7-b73d-b028fefc15e8",
   "metadata": {
    "colab": {
     "base_uri": "https://localhost:8080/",
     "height": 143
    },
    "id": "b1532949-da9d-40e7-b73d-b028fefc15e8",
    "outputId": "9b863b26-f71b-458e-8686-e811160e3432"
   },
   "outputs": [
    {
     "data": {
      "text/html": [
       "<div>\n",
       "<style scoped>\n",
       "    .dataframe tbody tr th:only-of-type {\n",
       "        vertical-align: middle;\n",
       "    }\n",
       "\n",
       "    .dataframe tbody tr th {\n",
       "        vertical-align: top;\n",
       "    }\n",
       "\n",
       "    .dataframe thead th {\n",
       "        text-align: right;\n",
       "    }\n",
       "</style>\n",
       "<table border=\"1\" class=\"dataframe\">\n",
       "  <thead>\n",
       "    <tr style=\"text-align: right;\">\n",
       "      <th></th>\n",
       "      <th>CustomerID</th>\n",
       "      <th>CustomerName</th>\n",
       "      <th>Region</th>\n",
       "      <th>SignupDate</th>\n",
       "    </tr>\n",
       "  </thead>\n",
       "  <tbody>\n",
       "    <tr>\n",
       "      <th>184</th>\n",
       "      <td>C0185</td>\n",
       "      <td>Kathleen Logan</td>\n",
       "      <td>North America</td>\n",
       "      <td>2023-10-17</td>\n",
       "    </tr>\n",
       "    <tr>\n",
       "      <th>135</th>\n",
       "      <td>C0136</td>\n",
       "      <td>Kristen Holder</td>\n",
       "      <td>Asia</td>\n",
       "      <td>2024-03-14</td>\n",
       "    </tr>\n",
       "    <tr>\n",
       "      <th>171</th>\n",
       "      <td>C0172</td>\n",
       "      <td>Jamie Webb</td>\n",
       "      <td>Europe</td>\n",
       "      <td>2024-09-09</td>\n",
       "    </tr>\n",
       "  </tbody>\n",
       "</table>\n",
       "</div>"
      ],
      "text/plain": [
       "    CustomerID    CustomerName         Region  SignupDate\n",
       "184      C0185  Kathleen Logan  North America  2023-10-17\n",
       "135      C0136  Kristen Holder           Asia  2024-03-14\n",
       "171      C0172      Jamie Webb         Europe  2024-09-09"
      ]
     },
     "execution_count": 5,
     "metadata": {},
     "output_type": "execute_result"
    }
   ],
   "source": [
    "customers.sample(3)"
   ]
  },
  {
   "cell_type": "code",
   "execution_count": 6,
   "id": "76aa0a77-e215-4f01-80e7-1533d0ce4b23",
   "metadata": {
    "colab": {
     "base_uri": "https://localhost:8080/",
     "height": 241
    },
    "id": "76aa0a77-e215-4f01-80e7-1533d0ce4b23",
    "outputId": "f15f63e1-63c8-4c57-9934-6901182b9faa"
   },
   "outputs": [
    {
     "data": {
      "text/plain": [
       "Region\n",
       "South America    59\n",
       "Europe           50\n",
       "North America    46\n",
       "Asia             45\n",
       "Name: count, dtype: int64"
      ]
     },
     "execution_count": 6,
     "metadata": {},
     "output_type": "execute_result"
    }
   ],
   "source": [
    "customers['Region'].value_counts()"
   ]
  },
  {
   "cell_type": "code",
   "execution_count": 7,
   "id": "24152dcd-09a5-46ee-8d05-d70de72fb975",
   "metadata": {
    "colab": {
     "base_uri": "https://localhost:8080/"
    },
    "id": "24152dcd-09a5-46ee-8d05-d70de72fb975",
    "outputId": "1c622209-3a0f-4269-aac7-0f9f50af93e2"
   },
   "outputs": [
    {
     "name": "stdout",
     "output_type": "stream",
     "text": [
      "<class 'pandas.core.frame.DataFrame'>\n",
      "RangeIndex: 100 entries, 0 to 99\n",
      "Data columns (total 4 columns):\n",
      " #   Column       Non-Null Count  Dtype  \n",
      "---  ------       --------------  -----  \n",
      " 0   ProductID    100 non-null    object \n",
      " 1   ProductName  100 non-null    object \n",
      " 2   Category     100 non-null    object \n",
      " 3   Price        100 non-null    float64\n",
      "dtypes: float64(1), object(3)\n",
      "memory usage: 3.3+ KB\n"
     ]
    }
   ],
   "source": [
    "products.info()"
   ]
  },
  {
   "cell_type": "code",
   "execution_count": 8,
   "id": "1642a5b9-4ba6-4786-8714-ca210b99a3ac",
   "metadata": {
    "colab": {
     "base_uri": "https://localhost:8080/",
     "height": 143
    },
    "id": "1642a5b9-4ba6-4786-8714-ca210b99a3ac",
    "outputId": "c58fa75f-d1e2-4a77-f235-03fe2e52dfb7"
   },
   "outputs": [
    {
     "data": {
      "text/html": [
       "<div>\n",
       "<style scoped>\n",
       "    .dataframe tbody tr th:only-of-type {\n",
       "        vertical-align: middle;\n",
       "    }\n",
       "\n",
       "    .dataframe tbody tr th {\n",
       "        vertical-align: top;\n",
       "    }\n",
       "\n",
       "    .dataframe thead th {\n",
       "        text-align: right;\n",
       "    }\n",
       "</style>\n",
       "<table border=\"1\" class=\"dataframe\">\n",
       "  <thead>\n",
       "    <tr style=\"text-align: right;\">\n",
       "      <th></th>\n",
       "      <th>ProductID</th>\n",
       "      <th>ProductName</th>\n",
       "      <th>Category</th>\n",
       "      <th>Price</th>\n",
       "    </tr>\n",
       "  </thead>\n",
       "  <tbody>\n",
       "    <tr>\n",
       "      <th>1</th>\n",
       "      <td>P002</td>\n",
       "      <td>ActiveWear Smartwatch</td>\n",
       "      <td>Electronics</td>\n",
       "      <td>346.30</td>\n",
       "    </tr>\n",
       "    <tr>\n",
       "      <th>60</th>\n",
       "      <td>P061</td>\n",
       "      <td>HomeSense Desk Lamp</td>\n",
       "      <td>Home Decor</td>\n",
       "      <td>156.96</td>\n",
       "    </tr>\n",
       "    <tr>\n",
       "      <th>73</th>\n",
       "      <td>P074</td>\n",
       "      <td>SoundWave Desk Lamp</td>\n",
       "      <td>Home Decor</td>\n",
       "      <td>295.58</td>\n",
       "    </tr>\n",
       "  </tbody>\n",
       "</table>\n",
       "</div>"
      ],
      "text/plain": [
       "   ProductID            ProductName     Category   Price\n",
       "1       P002  ActiveWear Smartwatch  Electronics  346.30\n",
       "60      P061    HomeSense Desk Lamp   Home Decor  156.96\n",
       "73      P074    SoundWave Desk Lamp   Home Decor  295.58"
      ]
     },
     "execution_count": 8,
     "metadata": {},
     "output_type": "execute_result"
    }
   ],
   "source": [
    "products.sample(3)"
   ]
  },
  {
   "cell_type": "code",
   "execution_count": 9,
   "id": "ff0c8f4b-4198-452e-8d6f-5f02138d16bb",
   "metadata": {
    "colab": {
     "base_uri": "https://localhost:8080/",
     "height": 241
    },
    "id": "ff0c8f4b-4198-452e-8d6f-5f02138d16bb",
    "outputId": "964e4e01-ad37-450b-8ad3-213b663a672a"
   },
   "outputs": [
    {
     "data": {
      "text/plain": [
       "Category\n",
       "Books          26\n",
       "Electronics    26\n",
       "Clothing       25\n",
       "Home Decor     23\n",
       "Name: count, dtype: int64"
      ]
     },
     "execution_count": 9,
     "metadata": {},
     "output_type": "execute_result"
    }
   ],
   "source": [
    "products['Category'].value_counts()"
   ]
  },
  {
   "cell_type": "code",
   "execution_count": 10,
   "id": "b34c66bb-3f62-4467-b495-90dd514a565d",
   "metadata": {
    "colab": {
     "base_uri": "https://localhost:8080/",
     "height": 143
    },
    "id": "b34c66bb-3f62-4467-b495-90dd514a565d",
    "outputId": "eb80666b-f546-4ab3-d180-4c3e73d59c35"
   },
   "outputs": [
    {
     "data": {
      "text/html": [
       "<div>\n",
       "<style scoped>\n",
       "    .dataframe tbody tr th:only-of-type {\n",
       "        vertical-align: middle;\n",
       "    }\n",
       "\n",
       "    .dataframe tbody tr th {\n",
       "        vertical-align: top;\n",
       "    }\n",
       "\n",
       "    .dataframe thead th {\n",
       "        text-align: right;\n",
       "    }\n",
       "</style>\n",
       "<table border=\"1\" class=\"dataframe\">\n",
       "  <thead>\n",
       "    <tr style=\"text-align: right;\">\n",
       "      <th></th>\n",
       "      <th>TransactionID</th>\n",
       "      <th>CustomerID</th>\n",
       "      <th>ProductID</th>\n",
       "      <th>TransactionDate</th>\n",
       "      <th>Quantity</th>\n",
       "      <th>TotalValue</th>\n",
       "      <th>Price</th>\n",
       "    </tr>\n",
       "  </thead>\n",
       "  <tbody>\n",
       "    <tr>\n",
       "      <th>210</th>\n",
       "      <td>T00023</td>\n",
       "      <td>C0012</td>\n",
       "      <td>P061</td>\n",
       "      <td>2024-06-18 10:55:39</td>\n",
       "      <td>4</td>\n",
       "      <td>627.84</td>\n",
       "      <td>156.96</td>\n",
       "    </tr>\n",
       "    <tr>\n",
       "      <th>123</th>\n",
       "      <td>T00261</td>\n",
       "      <td>C0125</td>\n",
       "      <td>P041</td>\n",
       "      <td>2024-02-20 06:00:07</td>\n",
       "      <td>2</td>\n",
       "      <td>912.56</td>\n",
       "      <td>456.28</td>\n",
       "    </tr>\n",
       "    <tr>\n",
       "      <th>227</th>\n",
       "      <td>T00100</td>\n",
       "      <td>C0197</td>\n",
       "      <td>P084</td>\n",
       "      <td>2024-05-08 15:48:20</td>\n",
       "      <td>3</td>\n",
       "      <td>1013.73</td>\n",
       "      <td>337.91</td>\n",
       "    </tr>\n",
       "  </tbody>\n",
       "</table>\n",
       "</div>"
      ],
      "text/plain": [
       "    TransactionID CustomerID ProductID      TransactionDate  Quantity  \\\n",
       "210        T00023      C0012      P061  2024-06-18 10:55:39         4   \n",
       "123        T00261      C0125      P041  2024-02-20 06:00:07         2   \n",
       "227        T00100      C0197      P084  2024-05-08 15:48:20         3   \n",
       "\n",
       "     TotalValue   Price  \n",
       "210      627.84  156.96  \n",
       "123      912.56  456.28  \n",
       "227     1013.73  337.91  "
      ]
     },
     "execution_count": 10,
     "metadata": {},
     "output_type": "execute_result"
    }
   ],
   "source": [
    "transactions.sample(3)"
   ]
  },
  {
   "cell_type": "code",
   "execution_count": 11,
   "id": "e192ec6c-8518-4244-a4a0-bb0bf0c3653e",
   "metadata": {
    "colab": {
     "base_uri": "https://localhost:8080/"
    },
    "id": "e192ec6c-8518-4244-a4a0-bb0bf0c3653e",
    "outputId": "1210b2a3-a728-425c-b06f-a7b7cbf20404"
   },
   "outputs": [
    {
     "data": {
      "text/plain": [
       "1000"
      ]
     },
     "execution_count": 11,
     "metadata": {},
     "output_type": "execute_result"
    }
   ],
   "source": [
    "transactions['TransactionID'].nunique()"
   ]
  },
  {
   "cell_type": "code",
   "execution_count": 12,
   "id": "beec5930-003f-4d6d-85f4-ecd6eb8bfc90",
   "metadata": {
    "colab": {
     "base_uri": "https://localhost:8080/"
    },
    "id": "beec5930-003f-4d6d-85f4-ecd6eb8bfc90",
    "outputId": "de3040ea-caa4-4e6d-e4ad-34db660a785a"
   },
   "outputs": [
    {
     "name": "stdout",
     "output_type": "stream",
     "text": [
      "<class 'pandas.core.frame.DataFrame'>\n",
      "RangeIndex: 1000 entries, 0 to 999\n",
      "Data columns (total 7 columns):\n",
      " #   Column           Non-Null Count  Dtype  \n",
      "---  ------           --------------  -----  \n",
      " 0   TransactionID    1000 non-null   object \n",
      " 1   CustomerID       1000 non-null   object \n",
      " 2   ProductID        1000 non-null   object \n",
      " 3   TransactionDate  1000 non-null   object \n",
      " 4   Quantity         1000 non-null   int64  \n",
      " 5   TotalValue       1000 non-null   float64\n",
      " 6   Price            1000 non-null   float64\n",
      "dtypes: float64(2), int64(1), object(4)\n",
      "memory usage: 54.8+ KB\n"
     ]
    }
   ],
   "source": [
    "transactions.info()"
   ]
  },
  {
   "cell_type": "code",
   "execution_count": 13,
   "id": "95ae6f51-3f47-410c-aa21-1e6920aa7804",
   "metadata": {
    "id": "95ae6f51-3f47-410c-aa21-1e6920aa7804"
   },
   "outputs": [],
   "source": [
    "merged_data = transactions.merge(customers, on=\"CustomerID\", how=\"left\")\n",
    "\n",
    "merged_data = merged_data.merge(products, on=\"ProductID\", how=\"left\")"
   ]
  },
  {
   "cell_type": "code",
   "execution_count": 14,
   "id": "ed6bde69-31fb-4d1f-a08f-2a91b07d55a1",
   "metadata": {
    "colab": {
     "base_uri": "https://localhost:8080/",
     "height": 264
    },
    "id": "ed6bde69-31fb-4d1f-a08f-2a91b07d55a1",
    "outputId": "a7eff7e9-6d74-4807-9e68-753faf3cd2bf"
   },
   "outputs": [
    {
     "data": {
      "text/html": [
       "<div>\n",
       "<style scoped>\n",
       "    .dataframe tbody tr th:only-of-type {\n",
       "        vertical-align: middle;\n",
       "    }\n",
       "\n",
       "    .dataframe tbody tr th {\n",
       "        vertical-align: top;\n",
       "    }\n",
       "\n",
       "    .dataframe thead th {\n",
       "        text-align: right;\n",
       "    }\n",
       "</style>\n",
       "<table border=\"1\" class=\"dataframe\">\n",
       "  <thead>\n",
       "    <tr style=\"text-align: right;\">\n",
       "      <th></th>\n",
       "      <th>TransactionID</th>\n",
       "      <th>CustomerID</th>\n",
       "      <th>ProductID</th>\n",
       "      <th>TransactionDate</th>\n",
       "      <th>Quantity</th>\n",
       "      <th>TotalValue</th>\n",
       "      <th>Price_x</th>\n",
       "      <th>CustomerName</th>\n",
       "      <th>Region</th>\n",
       "      <th>SignupDate</th>\n",
       "      <th>ProductName</th>\n",
       "      <th>Category</th>\n",
       "      <th>Price_y</th>\n",
       "    </tr>\n",
       "  </thead>\n",
       "  <tbody>\n",
       "    <tr>\n",
       "      <th>695</th>\n",
       "      <td>T00552</td>\n",
       "      <td>C0096</td>\n",
       "      <td>P064</td>\n",
       "      <td>2024-12-11 17:46:24</td>\n",
       "      <td>4</td>\n",
       "      <td>1809.68</td>\n",
       "      <td>452.42</td>\n",
       "      <td>Benjamin Mcclure</td>\n",
       "      <td>South America</td>\n",
       "      <td>2022-11-18</td>\n",
       "      <td>HomeSense Running Shoes</td>\n",
       "      <td>Clothing</td>\n",
       "      <td>452.42</td>\n",
       "    </tr>\n",
       "    <tr>\n",
       "      <th>749</th>\n",
       "      <td>T00804</td>\n",
       "      <td>C0134</td>\n",
       "      <td>P035</td>\n",
       "      <td>2024-12-10 06:40:49</td>\n",
       "      <td>4</td>\n",
       "      <td>122.36</td>\n",
       "      <td>30.59</td>\n",
       "      <td>Theresa Gonzalez</td>\n",
       "      <td>Asia</td>\n",
       "      <td>2022-02-19</td>\n",
       "      <td>ActiveWear T-Shirt</td>\n",
       "      <td>Clothing</td>\n",
       "      <td>30.59</td>\n",
       "    </tr>\n",
       "    <tr>\n",
       "      <th>854</th>\n",
       "      <td>T00170</td>\n",
       "      <td>C0038</td>\n",
       "      <td>P082</td>\n",
       "      <td>2024-02-29 01:45:41</td>\n",
       "      <td>3</td>\n",
       "      <td>167.97</td>\n",
       "      <td>55.99</td>\n",
       "      <td>Jeffrey Perkins</td>\n",
       "      <td>North America</td>\n",
       "      <td>2022-04-16</td>\n",
       "      <td>ComfortLiving Rug</td>\n",
       "      <td>Home Decor</td>\n",
       "      <td>55.99</td>\n",
       "    </tr>\n",
       "    <tr>\n",
       "      <th>192</th>\n",
       "      <td>T00323</td>\n",
       "      <td>C0082</td>\n",
       "      <td>P038</td>\n",
       "      <td>2024-09-22 07:51:55</td>\n",
       "      <td>4</td>\n",
       "      <td>588.88</td>\n",
       "      <td>147.22</td>\n",
       "      <td>Aimee Taylor</td>\n",
       "      <td>South America</td>\n",
       "      <td>2022-05-13</td>\n",
       "      <td>TechPro Vase</td>\n",
       "      <td>Home Decor</td>\n",
       "      <td>147.22</td>\n",
       "    </tr>\n",
       "  </tbody>\n",
       "</table>\n",
       "</div>"
      ],
      "text/plain": [
       "    TransactionID CustomerID ProductID      TransactionDate  Quantity  \\\n",
       "695        T00552      C0096      P064  2024-12-11 17:46:24         4   \n",
       "749        T00804      C0134      P035  2024-12-10 06:40:49         4   \n",
       "854        T00170      C0038      P082  2024-02-29 01:45:41         3   \n",
       "192        T00323      C0082      P038  2024-09-22 07:51:55         4   \n",
       "\n",
       "     TotalValue  Price_x      CustomerName         Region  SignupDate  \\\n",
       "695     1809.68   452.42  Benjamin Mcclure  South America  2022-11-18   \n",
       "749      122.36    30.59  Theresa Gonzalez           Asia  2022-02-19   \n",
       "854      167.97    55.99   Jeffrey Perkins  North America  2022-04-16   \n",
       "192      588.88   147.22      Aimee Taylor  South America  2022-05-13   \n",
       "\n",
       "                 ProductName    Category  Price_y  \n",
       "695  HomeSense Running Shoes    Clothing   452.42  \n",
       "749       ActiveWear T-Shirt    Clothing    30.59  \n",
       "854        ComfortLiving Rug  Home Decor    55.99  \n",
       "192             TechPro Vase  Home Decor   147.22  "
      ]
     },
     "execution_count": 14,
     "metadata": {},
     "output_type": "execute_result"
    }
   ],
   "source": [
    "merged_data.sample(4)"
   ]
  },
  {
   "cell_type": "code",
   "execution_count": 15,
   "id": "084d9c13-bff7-4e60-a19c-7249a19aa1a6",
   "metadata": {
    "colab": {
     "base_uri": "https://localhost:8080/"
    },
    "id": "084d9c13-bff7-4e60-a19c-7249a19aa1a6",
    "outputId": "2e7e77b8-a0a2-439d-bb9b-219f7929702e"
   },
   "outputs": [
    {
     "data": {
      "text/plain": [
       "1000"
      ]
     },
     "execution_count": 15,
     "metadata": {},
     "output_type": "execute_result"
    }
   ],
   "source": [
    "merged_data['TransactionID'].nunique()"
   ]
  },
  {
   "cell_type": "code",
   "execution_count": 16,
   "id": "e9e29d5e-4cbe-4c2f-9921-d63a79cc8945",
   "metadata": {
    "id": "e9e29d5e-4cbe-4c2f-9921-d63a79cc8945"
   },
   "outputs": [],
   "source": [
    "merged_data = merged_data.drop(columns=['Price_x'])"
   ]
  },
  {
   "cell_type": "code",
   "execution_count": 17,
   "id": "1625622c-21f7-4d73-9a81-36742756ae07",
   "metadata": {
    "id": "1625622c-21f7-4d73-9a81-36742756ae07"
   },
   "outputs": [],
   "source": [
    "merged_data.rename(columns ={\"Price_y\" : \"Price\"} , inplace=True)"
   ]
  },
  {
   "cell_type": "code",
   "execution_count": 18,
   "id": "d69b973c-0e82-425a-9028-31a196fbd772",
   "metadata": {
    "colab": {
     "base_uri": "https://localhost:8080/"
    },
    "id": "d69b973c-0e82-425a-9028-31a196fbd772",
    "outputId": "a7f2bf2d-0544-4bff-bcd0-491e3cf05941"
   },
   "outputs": [
    {
     "name": "stdout",
     "output_type": "stream",
     "text": [
      "<class 'pandas.core.frame.DataFrame'>\n",
      "RangeIndex: 1000 entries, 0 to 999\n",
      "Data columns (total 12 columns):\n",
      " #   Column           Non-Null Count  Dtype  \n",
      "---  ------           --------------  -----  \n",
      " 0   TransactionID    1000 non-null   object \n",
      " 1   CustomerID       1000 non-null   object \n",
      " 2   ProductID        1000 non-null   object \n",
      " 3   TransactionDate  1000 non-null   object \n",
      " 4   Quantity         1000 non-null   int64  \n",
      " 5   TotalValue       1000 non-null   float64\n",
      " 6   CustomerName     1000 non-null   object \n",
      " 7   Region           1000 non-null   object \n",
      " 8   SignupDate       1000 non-null   object \n",
      " 9   ProductName      1000 non-null   object \n",
      " 10  Category         1000 non-null   object \n",
      " 11  Price            1000 non-null   float64\n",
      "dtypes: float64(2), int64(1), object(9)\n",
      "memory usage: 93.9+ KB\n"
     ]
    }
   ],
   "source": [
    "merged_data.info()"
   ]
  },
  {
   "cell_type": "code",
   "execution_count": 19,
   "id": "5a4f761c-c64f-4aca-85f7-03bdda3c2cbd",
   "metadata": {
    "id": "5a4f761c-c64f-4aca-85f7-03bdda3c2cbd"
   },
   "outputs": [],
   "source": [
    "df = merged_data.copy()"
   ]
  },
  {
   "cell_type": "code",
   "execution_count": 20,
   "id": "5a7bd3da-34e6-4c92-b59c-0ba92d417e26",
   "metadata": {
    "colab": {
     "base_uri": "https://localhost:8080/",
     "height": 195
    },
    "id": "5a7bd3da-34e6-4c92-b59c-0ba92d417e26",
    "outputId": "e7c9957c-3ff8-4cfd-9e6c-8fbe9f494207"
   },
   "outputs": [
    {
     "data": {
      "text/html": [
       "<div>\n",
       "<style scoped>\n",
       "    .dataframe tbody tr th:only-of-type {\n",
       "        vertical-align: middle;\n",
       "    }\n",
       "\n",
       "    .dataframe tbody tr th {\n",
       "        vertical-align: top;\n",
       "    }\n",
       "\n",
       "    .dataframe thead th {\n",
       "        text-align: right;\n",
       "    }\n",
       "</style>\n",
       "<table border=\"1\" class=\"dataframe\">\n",
       "  <thead>\n",
       "    <tr style=\"text-align: right;\">\n",
       "      <th></th>\n",
       "      <th>TransactionID</th>\n",
       "      <th>CustomerID</th>\n",
       "      <th>ProductID</th>\n",
       "      <th>TransactionDate</th>\n",
       "      <th>Quantity</th>\n",
       "      <th>TotalValue</th>\n",
       "      <th>CustomerName</th>\n",
       "      <th>Region</th>\n",
       "      <th>SignupDate</th>\n",
       "      <th>ProductName</th>\n",
       "      <th>Category</th>\n",
       "      <th>Price</th>\n",
       "    </tr>\n",
       "  </thead>\n",
       "  <tbody>\n",
       "    <tr>\n",
       "      <th>521</th>\n",
       "      <td>T00677</td>\n",
       "      <td>C0100</td>\n",
       "      <td>P009</td>\n",
       "      <td>2024-03-05 23:39:40</td>\n",
       "      <td>4</td>\n",
       "      <td>1300.04</td>\n",
       "      <td>Clinton Gomez</td>\n",
       "      <td>Europe</td>\n",
       "      <td>2023-03-16</td>\n",
       "      <td>BookWorld Wall Art</td>\n",
       "      <td>Home Decor</td>\n",
       "      <td>325.01</td>\n",
       "    </tr>\n",
       "    <tr>\n",
       "      <th>668</th>\n",
       "      <td>T00661</td>\n",
       "      <td>C0049</td>\n",
       "      <td>P073</td>\n",
       "      <td>2024-05-25 20:16:42</td>\n",
       "      <td>2</td>\n",
       "      <td>53.98</td>\n",
       "      <td>Jason Yates</td>\n",
       "      <td>North America</td>\n",
       "      <td>2024-09-18</td>\n",
       "      <td>ComfortLiving Laptop</td>\n",
       "      <td>Electronics</td>\n",
       "      <td>26.99</td>\n",
       "    </tr>\n",
       "    <tr>\n",
       "      <th>541</th>\n",
       "      <td>T00848</td>\n",
       "      <td>C0108</td>\n",
       "      <td>P011</td>\n",
       "      <td>2024-09-25 01:50:13</td>\n",
       "      <td>2</td>\n",
       "      <td>522.40</td>\n",
       "      <td>David Davis</td>\n",
       "      <td>South America</td>\n",
       "      <td>2022-09-28</td>\n",
       "      <td>SoundWave Desk Lamp</td>\n",
       "      <td>Home Decor</td>\n",
       "      <td>261.20</td>\n",
       "    </tr>\n",
       "  </tbody>\n",
       "</table>\n",
       "</div>"
      ],
      "text/plain": [
       "    TransactionID CustomerID ProductID      TransactionDate  Quantity  \\\n",
       "521        T00677      C0100      P009  2024-03-05 23:39:40         4   \n",
       "668        T00661      C0049      P073  2024-05-25 20:16:42         2   \n",
       "541        T00848      C0108      P011  2024-09-25 01:50:13         2   \n",
       "\n",
       "     TotalValue   CustomerName         Region  SignupDate  \\\n",
       "521     1300.04  Clinton Gomez         Europe  2023-03-16   \n",
       "668       53.98    Jason Yates  North America  2024-09-18   \n",
       "541      522.40    David Davis  South America  2022-09-28   \n",
       "\n",
       "              ProductName     Category   Price  \n",
       "521    BookWorld Wall Art   Home Decor  325.01  \n",
       "668  ComfortLiving Laptop  Electronics   26.99  \n",
       "541   SoundWave Desk Lamp   Home Decor  261.20  "
      ]
     },
     "execution_count": 20,
     "metadata": {},
     "output_type": "execute_result"
    }
   ],
   "source": [
    "df.sample(3)"
   ]
  },
  {
   "cell_type": "code",
   "execution_count": 21,
   "id": "TJ3Jr5cNEctU",
   "metadata": {
    "colab": {
     "base_uri": "https://localhost:8080/",
     "height": 491
    },
    "id": "TJ3Jr5cNEctU",
    "outputId": "33269c95-8467-4918-b842-876181771857"
   },
   "outputs": [
    {
     "data": {
      "text/plain": [
       "TransactionID      0\n",
       "CustomerID         0\n",
       "ProductID          0\n",
       "TransactionDate    0\n",
       "Quantity           0\n",
       "TotalValue         0\n",
       "CustomerName       0\n",
       "Region             0\n",
       "SignupDate         0\n",
       "ProductName        0\n",
       "Category           0\n",
       "Price              0\n",
       "dtype: int64"
      ]
     },
     "execution_count": 21,
     "metadata": {},
     "output_type": "execute_result"
    }
   ],
   "source": [
    "df.isna().sum()"
   ]
  },
  {
   "cell_type": "code",
   "execution_count": 22,
   "id": "PyPEs6Y8BPE2",
   "metadata": {
    "id": "PyPEs6Y8BPE2"
   },
   "outputs": [],
   "source": [
    "df[\"TransactionDate\"] = pd.to_datetime(df[\"TransactionDate\"])\n",
    "df[\"SignupDate\"] = pd.to_datetime(df[\"SignupDate\"])\n"
   ]
  },
  {
   "cell_type": "markdown",
   "id": "d7d82866-05d3-4a21-9a87-11ed21a9a1e2",
   "metadata": {
    "id": "d7d82866-05d3-4a21-9a87-11ed21a9a1e2"
   },
   "source": [
    "# EDA"
   ]
  },
  {
   "cell_type": "code",
   "execution_count": 23,
   "id": "iV1ygBFvCY2Z",
   "metadata": {
    "id": "iV1ygBFvCY2Z"
   },
   "outputs": [],
   "source": [
    "#Which products are the most popular and should be prioritized for inventory and marketing?"
   ]
  },
  {
   "cell_type": "code",
   "execution_count": 24,
   "id": "93201ef3-9529-404c-bfea-8f77de8c5694",
   "metadata": {
    "colab": {
     "base_uri": "https://localhost:8080/"
    },
    "id": "93201ef3-9529-404c-bfea-8f77de8c5694",
    "outputId": "29a42ce7-e40a-481a-e294-91469c288c70"
   },
   "outputs": [
    {
     "name": "stdout",
     "output_type": "stream",
     "text": [
      "ProductName\n",
      "ActiveWear Smartwatch    100\n",
      "SoundWave Headphones      97\n",
      "HomeSense Desk Lamp       81\n",
      "ActiveWear Rug            79\n",
      "SoundWave Cookbook        78\n",
      "Name: Quantity, dtype: int64\n"
     ]
    }
   ],
   "source": [
    "top_products = df.groupby(\"ProductName\")[\"Quantity\"].sum().sort_values(ascending=False).head(5)\n",
    "print(top_products)\n"
   ]
  },
  {
   "cell_type": "code",
   "execution_count": 25,
   "id": "e5GZQfYIIOSJ",
   "metadata": {
    "id": "e5GZQfYIIOSJ"
   },
   "outputs": [],
   "source": [
    "# Revenue Contribution by customers"
   ]
  },
  {
   "cell_type": "code",
   "execution_count": 26,
   "id": "qxgo7tSi_1S1",
   "metadata": {
    "colab": {
     "base_uri": "https://localhost:8080/",
     "height": 272
    },
    "id": "qxgo7tSi_1S1",
    "outputId": "38283794-0063-4f87-cd1e-639a0521e9c6"
   },
   "outputs": [
    {
     "data": {
      "text/plain": [
       "CustomerID\n",
       "C0141    10673.87\n",
       "C0054     8040.39\n",
       "C0065     7663.70\n",
       "C0156     7634.45\n",
       "C0082     7572.91\n",
       "Name: TotalValue, dtype: float64"
      ]
     },
     "execution_count": 26,
     "metadata": {},
     "output_type": "execute_result"
    }
   ],
   "source": [
    "top_customer = df.groupby(\"CustomerID\")['TotalValue'].sum().sort_values(ascending=False)\n",
    "top_customer.head(5)"
   ]
  },
  {
   "cell_type": "code",
   "execution_count": 27,
   "id": "B4dmJdUuGAsG",
   "metadata": {
    "colab": {
     "base_uri": "https://localhost:8080/",
     "height": 742
    },
    "id": "B4dmJdUuGAsG",
    "outputId": "83b817ff-c012-48c7-837b-9252199dd6c6"
   },
   "outputs": [
    {
     "data": {
      "text/plain": [
       "CustomerID\n",
       "C0141    10673.87\n",
       "C0054     8040.39\n",
       "C0065     7663.70\n",
       "C0156     7634.45\n",
       "C0082     7572.91\n",
       "C0188     7111.32\n",
       "C0059     7073.28\n",
       "C0028     6819.57\n",
       "C0099     6715.72\n",
       "C0165     6708.10\n",
       "C0087     6604.23\n",
       "C0104     6579.10\n",
       "C0175     6210.53\n",
       "C0041     6149.78\n",
       "C0102     6132.36\n",
       "C0096     6072.92\n",
       "C0143     6044.63\n",
       "C0045     6021.80\n",
       "C0013     6000.56\n",
       "C0068     5950.42\n",
       "Name: TotalValue, dtype: float64"
      ]
     },
     "execution_count": 27,
     "metadata": {},
     "output_type": "execute_result"
    }
   ],
   "source": [
    "top_10_percent_customers = top_customer[top_customer > top_customer.quantile(0.90)]\n",
    "\n",
    "top_10_percent_customers"
   ]
  },
  {
   "cell_type": "code",
   "execution_count": 28,
   "id": "GpDVdvbDHl8L",
   "metadata": {
    "id": "GpDVdvbDHl8L"
   },
   "outputs": [],
   "source": [
    "contribution_of_top_10_percent = (top_10_percent_customers.sum() / df[\"TotalValue\"].sum()) * 100"
   ]
  },
  {
   "cell_type": "code",
   "execution_count": 29,
   "id": "o2IaPJW5HNdP",
   "metadata": {
    "colab": {
     "base_uri": "https://localhost:8080/"
    },
    "id": "o2IaPJW5HNdP",
    "outputId": "b2f8b409-bd96-4454-fdce-2250ea869910"
   },
   "outputs": [
    {
     "data": {
      "text/plain": [
       "19.96819225909222"
      ]
     },
     "execution_count": 29,
     "metadata": {},
     "output_type": "execute_result"
    }
   ],
   "source": [
    "contribution_of_top_10_percent"
   ]
  },
  {
   "cell_type": "code",
   "execution_count": 30,
   "id": "29Q9nAxNNZK1",
   "metadata": {
    "colab": {
     "base_uri": "https://localhost:8080/",
     "height": 1000
    },
    "id": "29Q9nAxNNZK1",
    "outputId": "2420ad43-3ad3-4682-9650-bbae1e704326"
   },
   "outputs": [
    {
     "data": {
      "text/plain": [
       "CustomerID\n",
       "C0141    10673.87\n",
       "C0054     8040.39\n",
       "C0065     7663.70\n",
       "C0156     7634.45\n",
       "C0082     7572.91\n",
       "C0188     7111.32\n",
       "C0059     7073.28\n",
       "C0028     6819.57\n",
       "C0099     6715.72\n",
       "C0165     6708.10\n",
       "C0087     6604.23\n",
       "C0104     6579.10\n",
       "C0175     6210.53\n",
       "C0041     6149.78\n",
       "C0102     6132.36\n",
       "C0096     6072.92\n",
       "C0143     6044.63\n",
       "C0045     6021.80\n",
       "C0013     6000.56\n",
       "C0068     5950.42\n",
       "C0075     5848.97\n",
       "C0173     5808.04\n",
       "C0114     5780.43\n",
       "C0163     5775.28\n",
       "C0145     5771.27\n",
       "C0051     5699.57\n",
       "C0046     5627.83\n",
       "C0138     5610.25\n",
       "C0101     5550.99\n",
       "C0109     5487.25\n",
       "C0148     5457.79\n",
       "C0021     5419.92\n",
       "C0155     5377.83\n",
       "C0004     5354.88\n",
       "C0053     5316.46\n",
       "C0093     5294.99\n",
       "C0012     5231.26\n",
       "C0023     5158.65\n",
       "C0171     5145.35\n",
       "C0122     5072.55\n",
       "Name: TotalValue, dtype: float64"
      ]
     },
     "execution_count": 30,
     "metadata": {},
     "output_type": "execute_result"
    }
   ],
   "source": [
    "top_20_percent_customers = top_customer[top_customer > top_customer.quantile(0.80)]\n",
    "\n",
    "top_20_percent_customers"
   ]
  },
  {
   "cell_type": "code",
   "execution_count": 31,
   "id": "-dxF6aG_NZOX",
   "metadata": {
    "id": "-dxF6aG_NZOX"
   },
   "outputs": [],
   "source": [
    "contribution_of_top_20_percent = (top_20_percent_customers.sum() / df[\"TotalValue\"].sum()) * 100"
   ]
  },
  {
   "cell_type": "code",
   "execution_count": 32,
   "id": "1D_dyyt8NZer",
   "metadata": {
    "colab": {
     "base_uri": "https://localhost:8080/"
    },
    "id": "1D_dyyt8NZer",
    "outputId": "876c4eb0-2b76-4906-8182-22c46eaaf2de"
   },
   "outputs": [
    {
     "data": {
      "text/plain": [
       "35.879825081772985"
      ]
     },
     "execution_count": 32,
     "metadata": {},
     "output_type": "execute_result"
    }
   ],
   "source": [
    "contribution_of_top_20_percent"
   ]
  },
  {
   "cell_type": "code",
   "execution_count": 33,
   "id": "TiV41xVqCFLH",
   "metadata": {
    "id": "TiV41xVqCFLH"
   },
   "outputs": [],
   "source": [
    "# contribution of top 10% customers is nearly 20% of total revenue\n",
    "# contribution of top 20% customers is nearly 35% of total revenue"
   ]
  },
  {
   "cell_type": "code",
   "execution_count": 34,
   "id": "8H1cgD65CySs",
   "metadata": {
    "colab": {
     "base_uri": "https://localhost:8080/"
    },
    "id": "8H1cgD65CySs",
    "outputId": "bf22928e-0618-4ae5-afb1-3628df7c1c72"
   },
   "outputs": [
    {
     "name": "stdout",
     "output_type": "stream",
     "text": [
      "Category\n",
      "Books          192147.47\n",
      "Electronics    180783.50\n",
      "Clothing       166170.66\n",
      "Home Decor     150893.93\n",
      "Name: TotalValue, dtype: float64\n"
     ]
    }
   ],
   "source": [
    "category_revenue = df.groupby(\"Category\")[\"TotalValue\"].sum().sort_values(ascending=False)\n",
    "print(category_revenue)\n"
   ]
  },
  {
   "cell_type": "code",
   "execution_count": 35,
   "id": "prlhn_8EI5Dl",
   "metadata": {
    "id": "prlhn_8EI5Dl"
   },
   "outputs": [],
   "source": [
    "# Books contribute the most revenue ($192,147.47), followed by Electronics ($180,783.50)."
   ]
  },
  {
   "cell_type": "code",
   "execution_count": 36,
   "id": "IaFHMS6_JCpK",
   "metadata": {
    "id": "IaFHMS6_JCpK"
   },
   "outputs": [],
   "source": [
    "# High-Value Customers:"
   ]
  },
  {
   "cell_type": "code",
   "execution_count": 37,
   "id": "xjYfriVrCycf",
   "metadata": {
    "colab": {
     "base_uri": "https://localhost:8080/"
    },
    "id": "xjYfriVrCycf",
    "outputId": "04c3a36a-1720-4bd2-9179-a08526f4bced"
   },
   "outputs": [
    {
     "name": "stdout",
     "output_type": "stream",
     "text": [
      "CustomerID\n",
      "C0109    11\n",
      "C0156    11\n",
      "C0141    10\n",
      "C0175    10\n",
      "C0065    10\n",
      "C0008    10\n",
      "C0147     9\n",
      "C0093     9\n",
      "C0075     9\n",
      "C0084     9\n",
      "Name: count, dtype: int64\n"
     ]
    }
   ],
   "source": [
    "customer_purchases = df[\"CustomerID\"].value_counts().head(10)\n",
    "print(customer_purchases)\n"
   ]
  },
  {
   "cell_type": "code",
   "execution_count": 38,
   "id": "8jbt-tckJT67",
   "metadata": {
    "colab": {
     "base_uri": "https://localhost:8080/"
    },
    "id": "8jbt-tckJT67",
    "outputId": "09c37992-aecd-4336-b15e-4b842b1e0b0f"
   },
   "outputs": [
    {
     "data": {
      "text/plain": [
       "89.44723618090453"
      ]
     },
     "execution_count": 38,
     "metadata": {},
     "output_type": "execute_result"
    }
   ],
   "source": [
    "repeat_customers = df[\"CustomerID\"].value_counts()\n",
    "#more than 2 purchases\n",
    "repeat_rate = ((repeat_customers[repeat_customers > 2].count()) / repeat_customers.count()) * 100\n",
    "\n",
    "repeat_rate"
   ]
  },
  {
   "cell_type": "code",
   "execution_count": 48,
   "id": "rBkYs5wvOYtm",
   "metadata": {
    "id": "rBkYs5wvOYtm"
   },
   "outputs": [],
   "source": [
    "# After the singup of customer there are nearly 90% chances that cunstomer can perform at 2 transcations\n",
    "# Customer retention is high"
   ]
  },
  {
   "cell_type": "code",
   "execution_count": null,
   "id": "f69906f2-969c-4929-97f2-185004fe6ae9",
   "metadata": {},
   "outputs": [],
   "source": [
    "# Seasonal Trends in Sales"
   ]
  },
  {
   "cell_type": "code",
   "execution_count": 40,
   "id": "suNvQlZQJ9nO",
   "metadata": {
    "colab": {
     "base_uri": "https://localhost:8080/",
     "height": 272
    },
    "id": "suNvQlZQJ9nO",
    "outputId": "78340ead-5e92-4ed0-fed2-b3c156368630"
   },
   "outputs": [
    {
     "data": {
      "text/plain": [
       "Quarter\n",
       "2023Q4      3769.52\n",
       "2024Q1    165664.39\n",
       "2024Q2    170817.98\n",
       "2024Q3    205406.88\n",
       "2024Q4    144336.79\n",
       "Freq: Q-DEC, Name: TotalValue, dtype: float64"
      ]
     },
     "execution_count": 40,
     "metadata": {},
     "output_type": "execute_result"
    }
   ],
   "source": [
    "df[\"Month\"] = df[\"TransactionDate\"].dt.month\n",
    "df[\"Quarter\"] = df[\"TransactionDate\"].dt.to_period(\"Q\")\n",
    "\n",
    "quarterly_sales = df.groupby(\"Quarter\")[\"TotalValue\"].sum()\n",
    "\n",
    "quarterly_sales"
   ]
  },
  {
   "cell_type": "code",
   "execution_count": 41,
   "id": "FxrPYyScO6Bj",
   "metadata": {
    "colab": {
     "base_uri": "https://localhost:8080/",
     "height": 491
    },
    "id": "FxrPYyScO6Bj",
    "outputId": "747b1994-9c41-46c0-c75d-c0b5f71d42b4"
   },
   "outputs": [
    {
     "data": {
      "text/plain": [
       "Month\n",
       "1     66376.39\n",
       "2     51459.27\n",
       "3     47828.73\n",
       "4     57519.06\n",
       "5     64527.74\n",
       "6     48771.18\n",
       "7     71366.39\n",
       "8     63436.74\n",
       "9     70603.75\n",
       "10    47063.22\n",
       "11    38224.37\n",
       "12    62818.72\n",
       "Name: TotalValue, dtype: float64"
      ]
     },
     "execution_count": 41,
     "metadata": {},
     "output_type": "execute_result"
    }
   ],
   "source": [
    "Monthly_sales = df.groupby(\"Month\")[\"TotalValue\"].sum()\n",
    "\n",
    "Monthly_sales"
   ]
  },
  {
   "cell_type": "code",
   "execution_count": 42,
   "id": "OE6rSTy5KGi5",
   "metadata": {
    "id": "OE6rSTy5KGi5"
   },
   "outputs": [],
   "source": [
    "# Quarter 3 give highest sales\n",
    "# There is drop in sale during month October and november."
   ]
  },
  {
   "cell_type": "code",
   "execution_count": 43,
   "id": "jZsPJta_CyfS",
   "metadata": {
    "colab": {
     "base_uri": "https://localhost:8080/"
    },
    "id": "jZsPJta_CyfS",
    "outputId": "56f7769b-8d79-42c8-d0ef-0b73acce4446"
   },
   "outputs": [
    {
     "name": "stdout",
     "output_type": "stream",
     "text": [
      "Region\n",
      "South America    219352.56\n",
      "Europe           166254.63\n",
      "North America    152313.40\n",
      "Asia             152074.97\n",
      "Name: TotalValue, dtype: float64\n"
     ]
    }
   ],
   "source": [
    "regional_sales = df.groupby(\"Region\")[\"TotalValue\"].sum().sort_values(ascending=False)\n",
    "print(regional_sales)\n"
   ]
  },
  {
   "cell_type": "code",
   "execution_count": 44,
   "id": "UywvlvRRCyiF",
   "metadata": {
    "colab": {
     "base_uri": "https://localhost:8080/"
    },
    "id": "UywvlvRRCyiF",
    "outputId": "9057c749-3fb8-4c1d-85fb-f389d88bdbb2"
   },
   "outputs": [
    {
     "name": "stdout",
     "output_type": "stream",
     "text": [
      "SignupMonth\n",
      "2022-01     6\n",
      "2022-02    34\n",
      "2022-03    46\n",
      "2022-04    42\n",
      "2022-05    57\n",
      "2022-06    24\n",
      "2022-07    15\n",
      "2022-08    13\n",
      "2022-09    30\n",
      "2022-10    22\n",
      "2022-11    14\n",
      "2022-12    29\n",
      "2023-01    30\n",
      "2023-02    30\n",
      "2023-03    34\n",
      "2023-04    32\n",
      "2023-05    16\n",
      "2023-06    16\n",
      "2023-07    12\n",
      "2023-08    14\n",
      "2023-09    23\n",
      "2023-10    27\n",
      "2023-11    19\n",
      "2023-12    28\n",
      "2024-01    43\n",
      "2024-02    35\n",
      "2024-03    20\n",
      "2024-04    48\n",
      "2024-05    34\n",
      "2024-06    14\n",
      "2024-07    36\n",
      "2024-08    20\n",
      "2024-09    58\n",
      "2024-10    31\n",
      "2024-11    43\n",
      "2024-12     5\n",
      "Freq: M, Name: count, dtype: int64\n"
     ]
    }
   ],
   "source": [
    "df[\"SignupMonth\"] = df[\"SignupDate\"].dt.to_period(\"M\")\n",
    "signup_trends = df[\"SignupMonth\"].value_counts().sort_index()\n",
    "print(signup_trends)\n"
   ]
  },
  {
   "cell_type": "code",
   "execution_count": null,
   "id": "02a4758f-df57-49b6-8187-22daf5046253",
   "metadata": {},
   "outputs": [],
   "source": [
    "# Category-Wise Profitability"
   ]
  },
  {
   "cell_type": "code",
   "execution_count": 45,
   "id": "qtqyc7BYK3_w",
   "metadata": {
    "colab": {
     "base_uri": "https://localhost:8080/"
    },
    "id": "qtqyc7BYK3_w",
    "outputId": "e10790b0-bea4-47c8-978c-fa1db00dbce6"
   },
   "outputs": [
    {
     "data": {
      "text/plain": [
       "(Category\n",
       " Books          192147.47\n",
       " Electronics    180783.50\n",
       " Clothing       166170.66\n",
       " Home Decor     150893.93\n",
       " Name: TotalValue, dtype: float64,\n",
       " Category\n",
       " Electronics    288.722008\n",
       " Clothing       283.104254\n",
       " Books          280.526222\n",
       " Home Decor     237.616250\n",
       " Name: Price, dtype: float64)"
      ]
     },
     "execution_count": 45,
     "metadata": {},
     "output_type": "execute_result"
    }
   ],
   "source": [
    "\n",
    "category_revenue = df.groupby(\"Category\")[\"TotalValue\"].sum().sort_values(ascending=False)\n",
    "\n",
    "\n",
    "category_avg_price = df.groupby(\"Category\")[\"Price\"].mean().sort_values(ascending=False)\n",
    "\n",
    "category_revenue, category_avg_price\n"
   ]
  },
  {
   "cell_type": "code",
   "execution_count": 46,
   "id": "tAaVZi3pCylb",
   "metadata": {
    "colab": {
     "base_uri": "https://localhost:8080/",
     "height": 1000
    },
    "id": "tAaVZi3pCylb",
    "outputId": "8e4166c5-49a8-4e32-fd1f-d2ec5cf88345"
   },
   "outputs": [
    {
     "data": {
      "image/png": "[encoded data removed]",
      "text/plain": [
       "<Figure size 1000x500 with 1 Axes>"
      ]
     },
     "metadata": {},
     "output_type": "display_data"
    },
    {
     "data": {
      "image/png": "[encoded data removed]",
      "text/plain": [
       "<Figure size 1000x500 with 1 Axes>"
      ]
     },
     "metadata": {},
     "output_type": "display_data"
    }
   ],
   "source": [
    "\n",
    "\n",
    "plt.figure(figsize=(10, 5))\n",
    "sns.barplot(x=top_products.index, y=top_products.values)\n",
    "plt.title(\"Top 5 Best-Selling Products\")\n",
    "plt.xticks(rotation=45)\n",
    "plt.show()\n",
    "\n",
    "plt.figure(figsize=(10, 5))\n",
    "sns.barplot(x=category_revenue.index, y=category_revenue.values)\n",
    "plt.title(\"Revenue Contribution by Product Category\")\n",
    "plt.xticks(rotation=45)\n",
    "plt.show()\n"
   ]
  },
  {
   "cell_type": "code",
   "execution_count": 47,
   "id": "m6h0VF_5DYDe",
   "metadata": {
    "id": "m6h0VF_5DYDe"
   },
   "outputs": [
    {
     "data": {
      "image/png": "[encoded data removed]",
      "text/plain": [
       "<Figure size 1000x500 with 1 Axes>"
      ]
     },
     "metadata": {},
     "output_type": "display_data"
    }
   ],
   "source": [
    "\n",
    "plt.figure(figsize=(10,5))\n",
    "sns.histplot(df[\"Price\"], bins=20, kde=True)\n",
    "plt.title(\"Price Sensitivity Analysis\")\n",
    "plt.xlabel(\"Product Price ($)\")\n",
    "plt.ylabel(\"Number of Purchases\")\n",
    "plt.show()\n"
   ]
  },
  {
   "cell_type": "code",
   "execution_count": null,
   "id": "e55ba042-e451-4b00-ae9b-3ca076315598",
   "metadata": {},
   "outputs": [],
   "source": [
    "#The majority of purchases fall within the $100-$300 range, suggesting price sensitivity.\n",
    "#Discounting premium products (above $400) can increase sales in this segment."
   ]
  }
 ],
 "metadata": {
  "colab": {
   "provenance": []
  },
  "kernelspec": {
   "display_name": "Python 3 (ipykernel)",
   "language": "python",
   "name": "python3"
  },
  "language_info": {
   "codemirror_mode": {
    "name": "ipython",
    "version": 3
   },
   "file_extension": ".py",
   "mimetype": "text/x-python",
   "name": "python",
   "nbconvert_exporter": "python",
   "pygments_lexer": "ipython3",
   "version": "3.11.4"
  }
 },
 "nbformat": 4,
 "nbformat_minor": 5
}
