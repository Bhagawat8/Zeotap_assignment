{
 "cells": [
  {
   "cell_type": "code",
   "execution_count": 129,
   "id": "ac31ef5e-1897-4a1c-9293-6661f3feac2d",
   "metadata": {},
   "outputs": [],
   "source": [
    "import pandas as pd\n",
    "import numpy as np"
   ]
  },
  {
   "cell_type": "code",
   "execution_count": 130,
   "id": "334aed93-4e06-468d-833b-dacc6f85f0e6",
   "metadata": {},
   "outputs": [],
   "source": [
    "\n",
    "from sklearn.preprocessing import StandardScaler, LabelEncoder\n",
    "from sklearn.cluster import KMeans, DBSCAN\n",
    "from sklearn.metrics import davies_bouldin_score, silhouette_score\n",
    "import plotly.express as px"
   ]
  },
  {
   "cell_type": "code",
   "execution_count": 131,
   "id": "ee736677-6f4e-475d-bd32-9428e600fd0b",
   "metadata": {},
   "outputs": [],
   "source": [
    "customers = pd.read_csv(\"Customers.csv\")"
   ]
  },
  {
   "cell_type": "code",
   "execution_count": 132,
   "id": "d9d4268a-a916-4310-aa14-695346616f5a",
   "metadata": {},
   "outputs": [],
   "source": [
    "transactions = pd.read_csv(\"Transactions.csv\")"
   ]
  },
  {
   "cell_type": "code",
   "execution_count": 133,
   "id": "2b577e43-cd1c-4f1a-876f-630053a7ae7f",
   "metadata": {},
   "outputs": [],
   "source": [
    "merged_data = transactions.merge(customers, on=\"CustomerID\", how=\"left\")"
   ]
  },
  {
   "cell_type": "code",
   "execution_count": 134,
   "id": "9273a4d8-730c-4cd8-aff7-c7af491f04f3",
   "metadata": {},
   "outputs": [],
   "source": [
    "df = merged_data.copy()"
   ]
  },
  {
   "cell_type": "code",
   "execution_count": 135,
   "id": "eadd35da-1147-4c6b-8100-06bbcba5ef9c",
   "metadata": {},
   "outputs": [],
   "source": [
    "df[\"TransactionDate\"] = pd.to_datetime(df[\"TransactionDate\"])\n",
    "df[\"SignupDate\"] = pd.to_datetime(df[\"SignupDate\"])"
   ]
  },
  {
   "cell_type": "code",
   "execution_count": 136,
   "id": "511ac582-7998-4ad3-8bfb-ab6384b7d771",
   "metadata": {},
   "outputs": [
    {
     "data": {
      "text/html": [
       "<div>\n",
       "<style scoped>\n",
       "    .dataframe tbody tr th:only-of-type {\n",
       "        vertical-align: middle;\n",
       "    }\n",
       "\n",
       "    .dataframe tbody tr th {\n",
       "        vertical-align: top;\n",
       "    }\n",
       "\n",
       "    .dataframe thead th {\n",
       "        text-align: right;\n",
       "    }\n",
       "</style>\n",
       "<table border=\"1\" class=\"dataframe\">\n",
       "  <thead>\n",
       "    <tr style=\"text-align: right;\">\n",
       "      <th></th>\n",
       "      <th>TransactionID</th>\n",
       "      <th>CustomerID</th>\n",
       "      <th>ProductID</th>\n",
       "      <th>TransactionDate</th>\n",
       "      <th>Quantity</th>\n",
       "      <th>TotalValue</th>\n",
       "      <th>Price</th>\n",
       "      <th>CustomerName</th>\n",
       "      <th>Region</th>\n",
       "      <th>SignupDate</th>\n",
       "    </tr>\n",
       "  </thead>\n",
       "  <tbody>\n",
       "    <tr>\n",
       "      <th>559</th>\n",
       "      <td>T00819</td>\n",
       "      <td>C0075</td>\n",
       "      <td>P096</td>\n",
       "      <td>2024-10-08 21:31:59</td>\n",
       "      <td>2</td>\n",
       "      <td>614.94</td>\n",
       "      <td>307.47</td>\n",
       "      <td>Misty Higgins</td>\n",
       "      <td>Europe</td>\n",
       "      <td>2023-05-01</td>\n",
       "    </tr>\n",
       "    <tr>\n",
       "      <th>133</th>\n",
       "      <td>T00642</td>\n",
       "      <td>C0162</td>\n",
       "      <td>P060</td>\n",
       "      <td>2024-08-06 20:12:35</td>\n",
       "      <td>4</td>\n",
       "      <td>622.60</td>\n",
       "      <td>155.65</td>\n",
       "      <td>Edwin Watson</td>\n",
       "      <td>Asia</td>\n",
       "      <td>2022-03-29</td>\n",
       "    </tr>\n",
       "    <tr>\n",
       "      <th>240</th>\n",
       "      <td>T00102</td>\n",
       "      <td>C0153</td>\n",
       "      <td>P003</td>\n",
       "      <td>2024-07-20 16:04:49</td>\n",
       "      <td>2</td>\n",
       "      <td>88.24</td>\n",
       "      <td>44.12</td>\n",
       "      <td>Justin Smith</td>\n",
       "      <td>South America</td>\n",
       "      <td>2022-03-20</td>\n",
       "    </tr>\n",
       "    <tr>\n",
       "      <th>208</th>\n",
       "      <td>T00504</td>\n",
       "      <td>C0021</td>\n",
       "      <td>P085</td>\n",
       "      <td>2024-04-05 03:20:25</td>\n",
       "      <td>1</td>\n",
       "      <td>416.35</td>\n",
       "      <td>416.35</td>\n",
       "      <td>Robert Blanchard</td>\n",
       "      <td>Asia</td>\n",
       "      <td>2023-04-17</td>\n",
       "    </tr>\n",
       "    <tr>\n",
       "      <th>476</th>\n",
       "      <td>T00882</td>\n",
       "      <td>C0156</td>\n",
       "      <td>P059</td>\n",
       "      <td>2024-09-21 14:11:57</td>\n",
       "      <td>3</td>\n",
       "      <td>909.60</td>\n",
       "      <td>303.20</td>\n",
       "      <td>William Adams</td>\n",
       "      <td>North America</td>\n",
       "      <td>2023-08-19</td>\n",
       "    </tr>\n",
       "    <tr>\n",
       "      <th>575</th>\n",
       "      <td>T00371</td>\n",
       "      <td>C0155</td>\n",
       "      <td>P048</td>\n",
       "      <td>2024-05-15 23:20:02</td>\n",
       "      <td>4</td>\n",
       "      <td>1665.60</td>\n",
       "      <td>416.40</td>\n",
       "      <td>Michelle Brown</td>\n",
       "      <td>South America</td>\n",
       "      <td>2023-03-23</td>\n",
       "    </tr>\n",
       "  </tbody>\n",
       "</table>\n",
       "</div>"
      ],
      "text/plain": [
       "    TransactionID CustomerID ProductID     TransactionDate  Quantity  \\\n",
       "559        T00819      C0075      P096 2024-10-08 21:31:59         2   \n",
       "133        T00642      C0162      P060 2024-08-06 20:12:35         4   \n",
       "240        T00102      C0153      P003 2024-07-20 16:04:49         2   \n",
       "208        T00504      C0021      P085 2024-04-05 03:20:25         1   \n",
       "476        T00882      C0156      P059 2024-09-21 14:11:57         3   \n",
       "575        T00371      C0155      P048 2024-05-15 23:20:02         4   \n",
       "\n",
       "     TotalValue   Price      CustomerName         Region SignupDate  \n",
       "559      614.94  307.47     Misty Higgins         Europe 2023-05-01  \n",
       "133      622.60  155.65      Edwin Watson           Asia 2022-03-29  \n",
       "240       88.24   44.12      Justin Smith  South America 2022-03-20  \n",
       "208      416.35  416.35  Robert Blanchard           Asia 2023-04-17  \n",
       "476      909.60  303.20     William Adams  North America 2023-08-19  \n",
       "575     1665.60  416.40    Michelle Brown  South America 2023-03-23  "
      ]
     },
     "execution_count": 136,
     "metadata": {},
     "output_type": "execute_result"
    }
   ],
   "source": [
    "df.sample(6)"
   ]
  },
  {
   "cell_type": "code",
   "execution_count": 137,
   "id": "d4a9f1e6-3d35-4cd8-8c9c-c8d717ae4a0f",
   "metadata": {},
   "outputs": [
    {
     "name": "stdout",
     "output_type": "stream",
     "text": [
      "<class 'pandas.core.frame.DataFrame'>\n",
      "RangeIndex: 1000 entries, 0 to 999\n",
      "Data columns (total 10 columns):\n",
      " #   Column           Non-Null Count  Dtype         \n",
      "---  ------           --------------  -----         \n",
      " 0   TransactionID    1000 non-null   object        \n",
      " 1   CustomerID       1000 non-null   object        \n",
      " 2   ProductID        1000 non-null   object        \n",
      " 3   TransactionDate  1000 non-null   datetime64[ns]\n",
      " 4   Quantity         1000 non-null   int64         \n",
      " 5   TotalValue       1000 non-null   float64       \n",
      " 6   Price            1000 non-null   float64       \n",
      " 7   CustomerName     1000 non-null   object        \n",
      " 8   Region           1000 non-null   object        \n",
      " 9   SignupDate       1000 non-null   datetime64[ns]\n",
      "dtypes: datetime64[ns](2), float64(2), int64(1), object(5)\n",
      "memory usage: 78.3+ KB\n"
     ]
    }
   ],
   "source": [
    "df.info()"
   ]
  },
  {
   "cell_type": "code",
   "execution_count": 138,
   "id": "f3cdc0e8-cded-46cc-904a-8609bc934786",
   "metadata": {},
   "outputs": [],
   "source": [
    "customer_spending = df.groupby(\"CustomerID\")[\"TotalValue\"].sum().reset_index()\n",
    "customer_spending.rename(columns={\"TotalValue\": \"TotalSpending\"}, inplace=True)"
   ]
  },
  {
   "cell_type": "code",
   "execution_count": 139,
   "id": "b6ea52dd-e8b0-40a0-9b67-42d6a5be6fa9",
   "metadata": {},
   "outputs": [],
   "source": [
    "total_transactions = df.groupby(\"CustomerID\")[\"TransactionID\"].count().reset_index()\n",
    "total_transactions.rename(columns={\"TransactionID\": \"TransactionCount\"}, inplace=True)\n"
   ]
  },
  {
   "cell_type": "code",
   "execution_count": 140,
   "id": "279aa71b-ea59-49c8-9048-9c113f30f78f",
   "metadata": {},
   "outputs": [],
   "source": [
    "avg_quantity = df.groupby(\"CustomerID\")[\"Quantity\"].mean().reset_index()\n",
    "avg_quantity.rename(columns={\"Quantity\": \"AvgQuantity\"}, inplace=True)"
   ]
  },
  {
   "cell_type": "code",
   "execution_count": 141,
   "id": "647f08bb-0aaa-48e0-bb88-124763498f95",
   "metadata": {},
   "outputs": [],
   "source": [
    "customers[\"SignupYear\"] = pd.to_datetime(customers[\"SignupDate\"]).dt.year\n",
    "customers[\"SignupMonth\"] = pd.to_datetime(customers[\"SignupDate\"]).dt.month\n",
    "signup_info = customers[[\"CustomerID\", \"SignupYear\", \"SignupMonth\"]]"
   ]
  },
  {
   "cell_type": "code",
   "execution_count": 142,
   "id": "67ced4c5-9714-41a9-a7c2-1a94c3db2b1f",
   "metadata": {},
   "outputs": [],
   "source": [
    "num_product_types = df.groupby(\"CustomerID\")[\"ProductID\"].nunique().reset_index()\n",
    "num_product_types.rename(columns={\"ProductID\": \"NumProductTypes\"}, inplace=True)"
   ]
  },
  {
   "cell_type": "code",
   "execution_count": 143,
   "id": "c1e1b141-92c9-4df5-83d6-761934f9b9c4",
   "metadata": {},
   "outputs": [],
   "source": [
    "customer_features = pd.merge(customer_spending, total_transactions, on=\"CustomerID\")\n",
    "customer_features = pd.merge(customer_features, avg_quantity, on=\"CustomerID\")\n",
    "customer_features = pd.merge(customer_features, signup_info, on=\"CustomerID\")\n",
    "customer_features = pd.merge(customer_features, num_product_types, on=\"CustomerID\")"
   ]
  },
  {
   "cell_type": "code",
   "execution_count": 144,
   "id": "e12e05ae-6be8-4a3b-9ec6-847435a8ae6a",
   "metadata": {},
   "outputs": [],
   "source": [
    "customer_region = customers[[\"CustomerID\", \"Region\"]]\n",
    "customer_features = pd.merge(customer_features, customer_region, on=\"CustomerID\")"
   ]
  },
  {
   "cell_type": "code",
   "execution_count": 145,
   "id": "43d7dfd3-9270-4d72-af13-f0f1b64f8861",
   "metadata": {},
   "outputs": [
    {
     "data": {
      "text/html": [
       "<div>\n",
       "<style scoped>\n",
       "    .dataframe tbody tr th:only-of-type {\n",
       "        vertical-align: middle;\n",
       "    }\n",
       "\n",
       "    .dataframe tbody tr th {\n",
       "        vertical-align: top;\n",
       "    }\n",
       "\n",
       "    .dataframe thead th {\n",
       "        text-align: right;\n",
       "    }\n",
       "</style>\n",
       "<table border=\"1\" class=\"dataframe\">\n",
       "  <thead>\n",
       "    <tr style=\"text-align: right;\">\n",
       "      <th></th>\n",
       "      <th>CustomerID</th>\n",
       "      <th>TotalSpending</th>\n",
       "      <th>TransactionCount</th>\n",
       "      <th>AvgQuantity</th>\n",
       "      <th>SignupYear</th>\n",
       "      <th>SignupMonth</th>\n",
       "      <th>NumProductTypes</th>\n",
       "      <th>Region</th>\n",
       "    </tr>\n",
       "  </thead>\n",
       "  <tbody>\n",
       "    <tr>\n",
       "      <th>0</th>\n",
       "      <td>C0001</td>\n",
       "      <td>3354.52</td>\n",
       "      <td>5</td>\n",
       "      <td>2.400000</td>\n",
       "      <td>2022</td>\n",
       "      <td>7</td>\n",
       "      <td>5</td>\n",
       "      <td>South America</td>\n",
       "    </tr>\n",
       "    <tr>\n",
       "      <th>1</th>\n",
       "      <td>C0002</td>\n",
       "      <td>1862.74</td>\n",
       "      <td>4</td>\n",
       "      <td>2.500000</td>\n",
       "      <td>2022</td>\n",
       "      <td>2</td>\n",
       "      <td>4</td>\n",
       "      <td>Asia</td>\n",
       "    </tr>\n",
       "    <tr>\n",
       "      <th>2</th>\n",
       "      <td>C0003</td>\n",
       "      <td>2725.38</td>\n",
       "      <td>4</td>\n",
       "      <td>3.500000</td>\n",
       "      <td>2024</td>\n",
       "      <td>3</td>\n",
       "      <td>4</td>\n",
       "      <td>South America</td>\n",
       "    </tr>\n",
       "    <tr>\n",
       "      <th>3</th>\n",
       "      <td>C0004</td>\n",
       "      <td>5354.88</td>\n",
       "      <td>8</td>\n",
       "      <td>2.875000</td>\n",
       "      <td>2022</td>\n",
       "      <td>10</td>\n",
       "      <td>8</td>\n",
       "      <td>South America</td>\n",
       "    </tr>\n",
       "    <tr>\n",
       "      <th>4</th>\n",
       "      <td>C0005</td>\n",
       "      <td>2034.24</td>\n",
       "      <td>3</td>\n",
       "      <td>2.333333</td>\n",
       "      <td>2022</td>\n",
       "      <td>8</td>\n",
       "      <td>3</td>\n",
       "      <td>Asia</td>\n",
       "    </tr>\n",
       "    <tr>\n",
       "      <th>...</th>\n",
       "      <td>...</td>\n",
       "      <td>...</td>\n",
       "      <td>...</td>\n",
       "      <td>...</td>\n",
       "      <td>...</td>\n",
       "      <td>...</td>\n",
       "      <td>...</td>\n",
       "      <td>...</td>\n",
       "    </tr>\n",
       "    <tr>\n",
       "      <th>194</th>\n",
       "      <td>C0196</td>\n",
       "      <td>4982.88</td>\n",
       "      <td>4</td>\n",
       "      <td>3.000000</td>\n",
       "      <td>2022</td>\n",
       "      <td>6</td>\n",
       "      <td>3</td>\n",
       "      <td>Europe</td>\n",
       "    </tr>\n",
       "    <tr>\n",
       "      <th>195</th>\n",
       "      <td>C0197</td>\n",
       "      <td>1928.65</td>\n",
       "      <td>3</td>\n",
       "      <td>3.000000</td>\n",
       "      <td>2023</td>\n",
       "      <td>3</td>\n",
       "      <td>3</td>\n",
       "      <td>Europe</td>\n",
       "    </tr>\n",
       "    <tr>\n",
       "      <th>196</th>\n",
       "      <td>C0198</td>\n",
       "      <td>931.83</td>\n",
       "      <td>2</td>\n",
       "      <td>1.500000</td>\n",
       "      <td>2022</td>\n",
       "      <td>2</td>\n",
       "      <td>2</td>\n",
       "      <td>Europe</td>\n",
       "    </tr>\n",
       "    <tr>\n",
       "      <th>197</th>\n",
       "      <td>C0199</td>\n",
       "      <td>1979.28</td>\n",
       "      <td>4</td>\n",
       "      <td>2.250000</td>\n",
       "      <td>2022</td>\n",
       "      <td>12</td>\n",
       "      <td>4</td>\n",
       "      <td>Europe</td>\n",
       "    </tr>\n",
       "    <tr>\n",
       "      <th>198</th>\n",
       "      <td>C0200</td>\n",
       "      <td>4758.60</td>\n",
       "      <td>5</td>\n",
       "      <td>3.200000</td>\n",
       "      <td>2023</td>\n",
       "      <td>6</td>\n",
       "      <td>5</td>\n",
       "      <td>Asia</td>\n",
       "    </tr>\n",
       "  </tbody>\n",
       "</table>\n",
       "<p>199 rows × 8 columns</p>\n",
       "</div>"
      ],
      "text/plain": [
       "    CustomerID  TotalSpending  TransactionCount  AvgQuantity  SignupYear  \\\n",
       "0        C0001        3354.52                 5     2.400000        2022   \n",
       "1        C0002        1862.74                 4     2.500000        2022   \n",
       "2        C0003        2725.38                 4     3.500000        2024   \n",
       "3        C0004        5354.88                 8     2.875000        2022   \n",
       "4        C0005        2034.24                 3     2.333333        2022   \n",
       "..         ...            ...               ...          ...         ...   \n",
       "194      C0196        4982.88                 4     3.000000        2022   \n",
       "195      C0197        1928.65                 3     3.000000        2023   \n",
       "196      C0198         931.83                 2     1.500000        2022   \n",
       "197      C0199        1979.28                 4     2.250000        2022   \n",
       "198      C0200        4758.60                 5     3.200000        2023   \n",
       "\n",
       "     SignupMonth  NumProductTypes         Region  \n",
       "0              7                5  South America  \n",
       "1              2                4           Asia  \n",
       "2              3                4  South America  \n",
       "3             10                8  South America  \n",
       "4              8                3           Asia  \n",
       "..           ...              ...            ...  \n",
       "194            6                3         Europe  \n",
       "195            3                3         Europe  \n",
       "196            2                2         Europe  \n",
       "197           12                4         Europe  \n",
       "198            6                5           Asia  \n",
       "\n",
       "[199 rows x 8 columns]"
      ]
     },
     "execution_count": 145,
     "metadata": {},
     "output_type": "execute_result"
    }
   ],
   "source": [
    "customer_features"
   ]
  },
  {
   "cell_type": "code",
   "execution_count": 146,
   "id": "7d94c1d0-5117-4252-a8db-5d2efe83a884",
   "metadata": {},
   "outputs": [],
   "source": [
    "le = LabelEncoder()\n",
    "customer_features[\"Region\"] = le.fit_transform(customer_features[\"Region\"])"
   ]
  },
  {
   "cell_type": "code",
   "execution_count": 147,
   "id": "1c3dcd35-f343-4ccf-8c18-2418391784d3",
   "metadata": {},
   "outputs": [],
   "source": [
    "scaler = StandardScaler()\n",
    "numerical_features = [\"TotalSpending\", \"TransactionCount\", \"AvgQuantity\", \"NumProductTypes\"]\n",
    "customer_features[numerical_features] = scaler.fit_transform(customer_features[numerical_features])"
   ]
  },
  {
   "cell_type": "code",
   "execution_count": 148,
   "id": "4993cbe9-fce7-4c45-93f1-ac9402d2800c",
   "metadata": {},
   "outputs": [],
   "source": [
    "kmeans_results = {}\n",
    "kmeans_db_indexes = []\n",
    "kmeans_silhouette_scores = []"
   ]
  },
  {
   "cell_type": "code",
   "execution_count": 149,
   "id": "726ff5bb-0a4a-4c39-ad2b-761ac8b7bc4f",
   "metadata": {},
   "outputs": [],
   "source": [
    "for k in range(2, 11):\n",
    "    kmeans = KMeans(n_clusters=k, random_state=42)\n",
    "    customer_features[f\"KMeans_Cluster_{k}\"] = kmeans.fit_predict(customer_features[numerical_features])\n",
    "    db_index = davies_bouldin_score(customer_features[numerical_features], kmeans.labels_)\n",
    "    silhouette_avg = silhouette_score(customer_features[numerical_features], kmeans.labels_)\n",
    "    kmeans_results[k] = kmeans\n",
    "    kmeans_db_indexes.append(db_index)\n",
    "    kmeans_silhouette_scores.append(silhouette_avg)"
   ]
  },
  {
   "cell_type": "code",
   "execution_count": 150,
   "id": "71a4cbf7-8765-4ff9-be2c-c4232b09e971",
   "metadata": {},
   "outputs": [],
   "source": [
    "eps_values = [0.5, 1.0, 1.5]\n",
    "min_samples_values = [5, 10]\n",
    "dbscan_results = []\n",
    "dbscan_db_indexes = []"
   ]
  },
  {
   "cell_type": "code",
   "execution_count": 151,
   "id": "078eff5a-b6ca-421c-8ae3-19c431ee5e67",
   "metadata": {},
   "outputs": [],
   "source": [
    "for eps in eps_values:\n",
    "    for min_samples in min_samples_values:\n",
    "        dbscan = DBSCAN(eps=eps, min_samples=min_samples)\n",
    "        labels = dbscan.fit_predict(customer_features[numerical_features])\n",
    "        if len(set(labels)) > 1:  # Avoid scenarios where all points are assigned to the same cluster\n",
    "            db_index = davies_bouldin_score(customer_features[numerical_features], labels)\n",
    "            dbscan_results.append((eps, min_samples, labels, db_index))\n",
    "            dbscan_db_indexes.append(db_index)"
   ]
  },
  {
   "cell_type": "code",
   "execution_count": 152,
   "id": "38de4aaa-e93b-460c-a9a5-3ac3f98c8ea1",
   "metadata": {},
   "outputs": [],
   "source": [
    "best_k = kmeans_db_indexes.index(min(kmeans_db_indexes)) + 2\n",
    "best_kmeans = kmeans_results[best_k]\n",
    "customer_features[\"Best_KMeans_Cluster\"] = best_kmeans.labels_"
   ]
  },
  {
   "cell_type": "code",
   "execution_count": 153,
   "id": "b6c5d1a1-b588-4540-8515-9dab3bf4cb44",
   "metadata": {},
   "outputs": [
    {
     "data": {
      "application/vnd.plotly.v1+json": {
       "config": {
        "plotlyServerURL": "https://plot.ly"
       },
       "data": [
        {
         "customdata": [
          [
           "C0001",
           3
          ],
          [
           "C0016",
           2
          ],
          [
           "C0019",
           1
          ],
          [
           "C0025",
           3
          ],
          [
           "C0042",
           2
          ],
          [
           "C0055",
           2
          ],
          [
           "C0056",
           0
          ],
          [
           "C0069",
           1
          ],
          [
           "C0076",
           3
          ],
          [
           "C0088",
           0
          ],
          [
           "C0094",
           2
          ],
          [
           "C0103",
           1
          ],
          [
           "C0116",
           2
          ],
          [
           "C0118",
           3
          ],
          [
           "C0119",
           1
          ],
          [
           "C0121",
           1
          ],
          [
           "C0127",
           1
          ],
          [
           "C0137",
           3
          ],
          [
           "C0146",
           0
          ],
          [
           "C0152",
           3
          ],
          [
           "C0154",
           2
          ],
          [
           "C0157",
           2
          ],
          [
           "C0158",
           3
          ],
          [
           "C0164",
           1
          ],
          [
           "C0172",
           1
          ],
          [
           "C0174",
           3
          ],
          [
           "C0177",
           0
          ],
          [
           "C0178",
           0
          ],
          [
           "C0189",
           2
          ],
          [
           "C0191",
           3
          ],
          [
           "C0192",
           3
          ],
          [
           "C0199",
           1
          ]
         ],
         "hovertemplate": "Cluster=1<br>TotalSpending=%{x}<br>TransactionCount=%{y}<br>CustomerID=%{customdata[0]}<br>Region=%{customdata[1]}<extra></extra>",
         "legendgroup": "1",
         "marker": {
          "color": "#636efa",
          "opacity": 0.7,
          "size": 8,
          "symbol": "circle"
         },
         "mode": "markers",
         "name": "1",
         "orientation": "v",
         "showlegend": true,
         "type": "scatter",
         "x": [
          -0.06170142816431181,
          0.22269726987216107,
          -0.7010104460431852,
          -1.0270432754656091,
          -0.5824863723683196,
          -0.33348571193511645,
          -0.15556010985136345,
          -0.32199270049878975,
          -0.6204663716079277,
          -0.7286024259026959,
          -1.258347652226029,
          -0.5496320045974588,
          -0.38764126320576625,
          -0.017802610088861078,
          -1.2448689372431117,
          -1.3636227617415497,
          -0.12824164287705786,
          -0.07371958434023292,
          -0.49041646495051056,
          -0.04455764051964389,
          0.1292597980283258,
          -0.8704352676547574,
          0.13632190072432662,
          -0.2076643144829735,
          -0.6923236768090647,
          -0.3147391387831453,
          -0.5237795666878534,
          -0.41491049786073503,
          -0.4508063289150788,
          -0.25674346660421277,
          -0.7628790606766243,
          -0.8139931486637912
         ],
         "xaxis": "x",
         "y": [
          -0.011458189609547545,
          -0.011458189609547545,
          0.44457775685043677,
          -0.46749413606953183,
          -0.9235300825295161,
          -0.011458189609547545,
          -0.011458189609547545,
          -0.011458189609547545,
          -0.011458189609547545,
          -0.011458189609547545,
          -0.46749413606953183,
          -0.011458189609547545,
          0.44457775685043677,
          0.44457775685043677,
          -0.011458189609547545,
          -0.46749413606953183,
          0.44457775685043677,
          -0.011458189609547545,
          -0.46749413606953183,
          -0.011458189609547545,
          0.44457775685043677,
          -0.011458189609547545,
          -0.46749413606953183,
          -0.011458189609547545,
          0.44457775685043677,
          -0.011458189609547545,
          -0.46749413606953183,
          -0.46749413606953183,
          -0.011458189609547545,
          -0.011458189609547545,
          -0.46749413606953183,
          -0.46749413606953183
         ],
         "yaxis": "y"
        },
        {
         "customdata": [
          [
           "C0002",
           0
          ],
          [
           "C0005",
           0
          ],
          [
           "C0007",
           0
          ],
          [
           "C0010",
           1
          ],
          [
           "C0026",
           2
          ],
          [
           "C0027",
           0
          ],
          [
           "C0029",
           2
          ],
          [
           "C0030",
           2
          ],
          [
           "C0031",
           3
          ],
          [
           "C0035",
           2
          ],
          [
           "C0036",
           2
          ],
          [
           "C0038",
           2
          ],
          [
           "C0044",
           1
          ],
          [
           "C0050",
           2
          ],
          [
           "C0052",
           3
          ],
          [
           "C0062",
           1
          ],
          [
           "C0063",
           1
          ],
          [
           "C0066",
           1
          ],
          [
           "C0070",
           1
          ],
          [
           "C0071",
           3
          ],
          [
           "C0072",
           2
          ],
          [
           "C0074",
           1
          ],
          [
           "C0077",
           3
          ],
          [
           "C0085",
           3
          ],
          [
           "C0086",
           1
          ],
          [
           "C0092",
           0
          ],
          [
           "C0095",
           3
          ],
          [
           "C0106",
           0
          ],
          [
           "C0111",
           1
          ],
          [
           "C0112",
           3
          ],
          [
           "C0115",
           0
          ],
          [
           "C0120",
           3
          ],
          [
           "C0125",
           2
          ],
          [
           "C0129",
           3
          ],
          [
           "C0131",
           2
          ],
          [
           "C0132",
           1
          ],
          [
           "C0133",
           3
          ],
          [
           "C0135",
           1
          ],
          [
           "C0140",
           0
          ],
          [
           "C0142",
           0
          ],
          [
           "C0159",
           0
          ],
          [
           "C0160",
           2
          ],
          [
           "C0166",
           1
          ],
          [
           "C0167",
           1
          ],
          [
           "C0185",
           2
          ],
          [
           "C0186",
           0
          ],
          [
           "C0190",
           3
          ],
          [
           "C0193",
           0
          ],
          [
           "C0197",
           1
          ]
         ],
         "hovertemplate": "Cluster=3<br>TotalSpending=%{x}<br>TransactionCount=%{y}<br>CustomerID=%{customdata[0]}<br>Region=%{customdata[1]}<extra></extra>",
         "legendgroup": "3",
         "marker": {
          "color": "#EF553B",
          "opacity": 0.7,
          "size": 8,
          "symbol": "circle"
         },
         "mode": "markers",
         "name": "3",
         "orientation": "v",
         "showlegend": true,
         "type": "scatter",
         "x": [
          -0.877743531947443,
          -0.7839286123220244,
          -0.4854822925014072,
          -0.9571662035533585,
          0.04471149495366286,
          -0.494716087505938,
          -0.9197934029189061,
          -0.5019696492215825,
          -0.7997157760560744,
          -0.48122096174990836,
          -0.8694177997217936,
          -0.4214638665902541,
          -0.12975690426109548,
          -0.21798122051291757,
          -0.5357047284828045,
          -0.9998396839030899,
          -1.1428158095153096,
          0.1815937534835081,
          -0.18698674036145282,
          -1.1304202055578052,
          -0.25585728485614767,
          -0.2254262412482057,
          -1.438685637957293,
          -0.4753568454911068,
          -0.3898293662874089,
          -0.24690794325223037,
          -1.1941815293568652,
          -0.28883746855420295,
          -0.8174175299865616,
          -0.8248078481448089,
          -0.18059200910535284,
          -0.5455457220924914,
          -0.2698775553517715,
          -0.6168833528117381,
          -0.8333906824825512,
          -0.8840233877917568,
          -0.318907475153674,
          -0.18146725033800976,
          -0.8638490773790137,
          -0.6718977345419327,
          -0.7630486386654517,
          -0.2956041773341823,
          -0.5809218786649449,
          -0.6383212927541297,
          -0.02351902938965204,
          -0.9330478373359552,
          -0.2649215018718515,
          -0.25055113488316466,
          -0.8416890634196801
         ],
         "xaxis": "x",
         "y": [
          -0.46749413606953183,
          -0.9235300825295161,
          -0.9235300825295161,
          -0.46749413606953183,
          -0.46749413606953183,
          -0.46749413606953183,
          -0.46749413606953183,
          -0.011458189609547545,
          -0.46749413606953183,
          -0.46749413606953183,
          -0.9235300825295161,
          -0.011458189609547545,
          -0.9235300825295161,
          -0.9235300825295161,
          -0.46749413606953183,
          -0.9235300825295161,
          -1.3795660289895004,
          -0.9235300825295161,
          -0.46749413606953183,
          -0.9235300825295161,
          -0.011458189609547545,
          -0.9235300825295161,
          -0.9235300825295161,
          -0.9235300825295161,
          -0.011458189609547545,
          -0.46749413606953183,
          -1.3795660289895004,
          -0.011458189609547545,
          -0.011458189609547545,
          -0.9235300825295161,
          -0.9235300825295161,
          -0.9235300825295161,
          -0.46749413606953183,
          -0.9235300825295161,
          -0.9235300825295161,
          -0.9235300825295161,
          -0.46749413606953183,
          -0.46749413606953183,
          -1.3795660289895004,
          -0.46749413606953183,
          -0.9235300825295161,
          -0.011458189609547545,
          -0.46749413606953183,
          -0.9235300825295161,
          -0.9235300825295161,
          -0.9235300825295161,
          -0.011458189609547545,
          -0.46749413606953183,
          -0.9235300825295161
         ],
         "yaxis": "y"
        },
        {
         "customdata": [
          [
           "C0003",
           3
          ],
          [
           "C0006",
           3
          ],
          [
           "C0018",
           2
          ],
          [
           "C0037",
           1
          ],
          [
           "C0039",
           3
          ],
          [
           "C0053",
           1
          ],
          [
           "C0079",
           2
          ],
          [
           "C0091",
           3
          ],
          [
           "C0096",
           3
          ],
          [
           "C0114",
           1
          ],
          [
           "C0117",
           2
          ],
          [
           "C0134",
           0
          ],
          [
           "C0136",
           0
          ],
          [
           "C0138",
           0
          ],
          [
           "C0148",
           3
          ],
          [
           "C0149",
           1
          ],
          [
           "C0163",
           3
          ],
          [
           "C0168",
           3
          ],
          [
           "C0169",
           3
          ],
          [
           "C0170",
           1
          ],
          [
           "C0171",
           3
          ],
          [
           "C0182",
           1
          ],
          [
           "C0196",
           1
          ],
          [
           "C0200",
           0
          ]
         ],
         "hovertemplate": "Cluster=2<br>TotalSpending=%{x}<br>TransactionCount=%{y}<br>CustomerID=%{customdata[0]}<br>Region=%{customdata[1]}<extra></extra>",
         "legendgroup": "2",
         "marker": {
          "color": "#00cc96",
          "opacity": 0.7,
          "size": 8,
          "symbol": "circle"
         },
         "mode": "markers",
         "name": "2",
         "orientation": "v",
         "showlegend": true,
         "type": "scatter",
         "x": [
          -0.40585722136043945,
          0.4158794206926657,
          0.7190848647158556,
          0.4296644701070133,
          0.4224601407107056,
          1.0115303118350685,
          0.429002568924816,
          -0.18032943673555574,
          1.4253334261198742,
          1.2653338585324767,
          0.3068571846498327,
          -0.4310751093763682,
          0.4549480012153911,
          1.172241012924,
          1.0888414639671993,
          0.5128178574671288,
          1.2625166758148618,
          0.8678649337521316,
          0.5831325499957078,
          0.8010785574427008,
          0.9179287322601103,
          0.8278992309659325,
          0.8290534553414993,
          0.7063665155538091
         ],
         "xaxis": "x",
         "y": [
          -0.46749413606953183,
          -0.46749413606953183,
          -0.011458189609547545,
          -0.011458189609547545,
          0.44457775685043677,
          0.44457775685043677,
          -0.46749413606953183,
          0.44457775685043677,
          -0.011458189609547545,
          -0.011458189609547545,
          -0.46749413606953183,
          -0.011458189609547545,
          0.44457775685043677,
          -0.011458189609547545,
          -0.011458189609547545,
          -0.011458189609547545,
          0.44457775685043677,
          -0.46749413606953183,
          0.44457775685043677,
          -0.011458189609547545,
          -0.011458189609547545,
          -0.011458189609547545,
          -0.46749413606953183,
          -0.011458189609547545
         ],
         "yaxis": "y"
        },
        {
         "customdata": [
          [
           "C0004",
           3
          ],
          [
           "C0013",
           3
          ],
          [
           "C0017",
           1
          ],
          [
           "C0028",
           0
          ],
          [
           "C0041",
           1
          ],
          [
           "C0045",
           0
          ],
          [
           "C0046",
           2
          ],
          [
           "C0054",
           0
          ],
          [
           "C0059",
           2
          ],
          [
           "C0065",
           2
          ],
          [
           "C0068",
           2
          ],
          [
           "C0075",
           1
          ],
          [
           "C0082",
           3
          ],
          [
           "C0087",
           3
          ],
          [
           "C0099",
           3
          ],
          [
           "C0101",
           0
          ],
          [
           "C0102",
           3
          ],
          [
           "C0104",
           3
          ],
          [
           "C0109",
           2
          ],
          [
           "C0113",
           3
          ],
          [
           "C0141",
           1
          ],
          [
           "C0143",
           0
          ],
          [
           "C0145",
           0
          ],
          [
           "C0156",
           2
          ],
          [
           "C0162",
           0
          ],
          [
           "C0165",
           3
          ],
          [
           "C0173",
           0
          ],
          [
           "C0175",
           0
          ],
          [
           "C0188",
           3
          ]
         ],
         "hovertemplate": "Cluster=0<br>TotalSpending=%{x}<br>TransactionCount=%{y}<br>CustomerID=%{customdata[0]}<br>Region=%{customdata[1]}<extra></extra>",
         "legendgroup": "0",
         "marker": {
          "color": "#ab63fa",
          "opacity": 0.7,
          "size": 8,
          "symbol": "circle"
         },
         "mode": "markers",
         "name": "0",
         "orientation": "v",
         "showlegend": true,
         "type": "scatter",
         "x": [
          1.032547041934244,
          1.385750641372963,
          0.7037517323712461,
          1.8337702175969515,
          1.467377826833633,
          1.3973694687364842,
          1.1818577259678182,
          2.5015902186296253,
          1.972556125807826,
          2.2955310811736545,
          1.3583227692445752,
          1.3028270048364194,
          2.245866611478076,
          1.715973688196732,
          1.7769615913398105,
          1.1398242657694675,
          1.4578486379130806,
          1.7022269305863138,
          1.1049568431634955,
          0.7356323942707764,
          3.942171644490543,
          1.409858067074958,
          1.2603231024755157,
          2.2795305773891443,
          0.7302387201745276,
          1.7727932549692818,
          1.2804372400535133,
          1.500609642386077,
          1.9933649861142457
         ],
         "xaxis": "x",
         "y": [
          1.3566496497704053,
          0.900613703310421,
          1.3566496497704053,
          1.3566496497704053,
          0.900613703310421,
          0.900613703310421,
          0.900613703310421,
          1.3566496497704053,
          1.3566496497704053,
          2.2687215426903737,
          1.3566496497704053,
          1.8126855962303896,
          0.900613703310421,
          0.900613703310421,
          1.3566496497704053,
          1.3566496497704053,
          1.3566496497704053,
          1.3566496497704053,
          2.7247574891503583,
          1.3566496497704053,
          2.2687215426903737,
          0.900613703310421,
          1.3566496497704053,
          2.7247574891503583,
          1.3566496497704053,
          1.8126855962303896,
          1.3566496497704053,
          2.2687215426903737,
          1.3566496497704053
         ],
         "yaxis": "y"
        },
        {
         "customdata": [
          [
           "C0008",
           2
          ],
          [
           "C0021",
           0
          ],
          [
           "C0024",
           2
          ],
          [
           "C0047",
           2
          ],
          [
           "C0049",
           2
          ],
          [
           "C0084",
           0
          ],
          [
           "C0093",
           0
          ],
          [
           "C0098",
           2
          ],
          [
           "C0139",
           2
          ],
          [
           "C0147",
           3
          ],
          [
           "C0161",
           0
          ],
          [
           "C0184",
           3
          ],
          [
           "C0194",
           2
          ]
         ],
         "hovertemplate": "Cluster=4<br>TotalSpending=%{x}<br>TransactionCount=%{y}<br>CustomerID=%{customdata[0]}<br>Region=%{customdata[1]}<extra></extra>",
         "legendgroup": "4",
         "marker": {
          "color": "#FFA15A",
          "opacity": 0.7,
          "size": 8,
          "symbol": "circle"
         },
         "mode": "markers",
         "name": "4",
         "orientation": "v",
         "showlegend": true,
         "type": "scatter",
         "x": [
          0.4399704356215487,
          1.0681255980417497,
          0.08736309427257756,
          -0.3264509605276362,
          -0.6300830846517461,
          0.5326858334484423,
          0.9997856685443527,
          -0.16919199204999577,
          0.12927620880143798,
          -0.2838376530126501,
          -0.17804833927294347,
          -0.040553411880237936,
          0.2198253845775054
         ],
         "xaxis": "x",
         "y": [
          2.2687215426903737,
          1.3566496497704053,
          0.900613703310421,
          0.900613703310421,
          1.3566496497704053,
          1.8126855962303896,
          1.8126855962303896,
          1.3566496497704053,
          1.3566496497704053,
          1.8126855962303896,
          1.3566496497704053,
          0.900613703310421,
          0.900613703310421
         ],
         "yaxis": "y"
        },
        {
         "customdata": [
          [
           "C0009",
           1
          ],
          [
           "C0014",
           1
          ],
          [
           "C0015",
           2
          ],
          [
           "C0032",
           3
          ],
          [
           "C0033",
           2
          ],
          [
           "C0043",
           0
          ],
          [
           "C0058",
           2
          ],
          [
           "C0060",
           1
          ],
          [
           "C0061",
           1
          ],
          [
           "C0078",
           0
          ],
          [
           "C0083",
           3
          ],
          [
           "C0097",
           0
          ],
          [
           "C0123",
           0
          ],
          [
           "C0128",
           0
          ],
          [
           "C0130",
           3
          ],
          [
           "C0150",
           3
          ],
          [
           "C0198",
           1
          ]
         ],
         "hovertemplate": "Cluster=5<br>TotalSpending=%{x}<br>TransactionCount=%{y}<br>CustomerID=%{customdata[0]}<br>Region=%{customdata[1]}<extra></extra>",
         "legendgroup": "5",
         "marker": {
          "color": "#19d3f3",
          "opacity": 0.7,
          "size": 8,
          "symbol": "circle"
         },
         "mode": "markers",
         "name": "5",
         "orientation": "v",
         "showlegend": true,
         "type": "scatter",
         "x": [
          -1.4063017123489852,
          -1.7223950835230486,
          -1.2635389267872257,
          -1.528561972035755,
          -1.8241528173348291,
          -1.2778491209411669,
          -1.6799021216775527,
          -1.8516572730710743,
          -0.7270269916839133,
          -1.3521352205629271,
          -1.5450821503021555,
          -1.8214723910598172,
          -1.1308414154010213,
          -1.4737554600983167,
          -1.5677508982279706,
          -1.5792493799220015,
          -1.3869752918803786
         ],
         "xaxis": "x",
         "y": [
          -0.9235300825295161,
          -1.8356019754494848,
          -1.3795660289895004,
          -0.9235300825295161,
          -1.8356019754494848,
          -0.9235300825295161,
          -1.8356019754494848,
          -1.8356019754494848,
          -0.9235300825295161,
          -1.8356019754494848,
          -0.9235300825295161,
          -1.8356019754494848,
          -1.3795660289895004,
          -1.3795660289895004,
          -1.8356019754494848,
          -1.8356019754494848,
          -1.3795660289895004
         ],
         "yaxis": "y"
        },
        {
         "customdata": [
          [
           "C0011",
           3
          ],
          [
           "C0012",
           3
          ],
          [
           "C0022",
           0
          ],
          [
           "C0023",
           1
          ],
          [
           "C0034",
           2
          ],
          [
           "C0048",
           3
          ],
          [
           "C0051",
           1
          ],
          [
           "C0057",
           1
          ],
          [
           "C0064",
           1
          ],
          [
           "C0067",
           2
          ],
          [
           "C0081",
           1
          ],
          [
           "C0090",
           0
          ],
          [
           "C0100",
           1
          ],
          [
           "C0105",
           1
          ],
          [
           "C0107",
           3
          ],
          [
           "C0108",
           3
          ],
          [
           "C0122",
           2
          ],
          [
           "C0124",
           1
          ],
          [
           "C0126",
           3
          ],
          [
           "C0153",
           3
          ],
          [
           "C0155",
           3
          ],
          [
           "C0179",
           1
          ],
          [
           "C0181",
           3
          ],
          [
           "C0183",
           2
          ],
          [
           "C0187",
           3
          ],
          [
           "C0195",
           3
          ]
         ],
         "hovertemplate": "Cluster=6<br>TotalSpending=%{x}<br>TransactionCount=%{y}<br>CustomerID=%{customdata[0]}<br>Region=%{customdata[1]}<extra></extra>",
         "legendgroup": "6",
         "marker": {
          "color": "#FF6692",
          "opacity": 0.7,
          "size": 8,
          "symbol": "circle"
         },
         "mode": "markers",
         "name": "6",
         "orientation": "v",
         "showlegend": true,
         "type": "scatter",
         "x": [
          0.1436958081094616,
          0.9649237161960846,
          0.6497329375431989,
          0.9252041750065709,
          -0.21559071789622303,
          0.20985310478291982,
          1.2211013547370748,
          0.5848173893685725,
          0.3131479810095544,
          0.341084587104424,
          0.041117535642065106,
          0.36696984656025367,
          0.8403057754388452,
          0.7330887244383668,
          0.08566731438430474,
          0.7555660133445387,
          0.8781052561742182,
          0.43598808801295963,
          0.6007741310914498,
          0.6988120896644384,
          1.0451012833651672,
          0.10148182940687522,
          -0.06548684649555322,
          0.20945924622822454,
          0.6264132289505948,
          0.3112333908131173
         ],
         "xaxis": "x",
         "y": [
          -0.011458189609547545,
          0.900613703310421,
          0.44457775685043677,
          0.44457775685043677,
          0.44457775685043677,
          -0.011458189609547545,
          0.900613703310421,
          0.44457775685043677,
          -0.011458189609547545,
          0.44457775685043677,
          0.44457775685043677,
          0.900613703310421,
          0.44457775685043677,
          0.44457775685043677,
          -0.011458189609547545,
          0.900613703310421,
          0.900613703310421,
          0.900613703310421,
          0.44457775685043677,
          0.44457775685043677,
          0.900613703310421,
          0.44457775685043677,
          0.44457775685043677,
          -0.011458189609547545,
          -0.011458189609547545,
          0.44457775685043677
         ],
         "yaxis": "y"
        },
        {
         "customdata": [
          [
           "C0020",
           2
          ],
          [
           "C0040",
           0
          ],
          [
           "C0073",
           1
          ],
          [
           "C0080",
           0
          ],
          [
           "C0089",
           1
          ],
          [
           "C0110",
           0
          ],
          [
           "C0144",
           2
          ],
          [
           "C0151",
           3
          ],
          [
           "C0176",
           2
          ]
         ],
         "hovertemplate": "Cluster=7<br>TotalSpending=%{x}<br>TransactionCount=%{y}<br>CustomerID=%{customdata[0]}<br>Region=%{customdata[1]}<extra></extra>",
         "legendgroup": "7",
         "marker": {
          "color": "#B6E880",
          "opacity": 0.7,
          "size": 8,
          "symbol": "circle"
         },
         "mode": "markers",
         "name": "7",
         "orientation": "v",
         "showlegend": true,
         "type": "scatter",
         "x": [
          -1.3921282746376464,
          0.27465377754576,
          -0.7695418345602255,
          -1.3455709113179999,
          -0.49839210068309714,
          -1.3812369915487712,
          -1.1830167333827848,
          -1.7741984239809327,
          -0.6214181964484421
         ],
         "xaxis": "x",
         "y": [
          -1.8356019754494848,
          -0.9235300825295161,
          -0.9235300825295161,
          -1.8356019754494848,
          -1.3795660289895004,
          -1.8356019754494848,
          -1.3795660289895004,
          -1.8356019754494848,
          -0.9235300825295161
         ],
         "yaxis": "y"
        }
       ],
       "layout": {
        "autosize": true,
        "legend": {
         "title": {
          "font": {
           "size": 14
          },
          "text": "Cluster"
         },
         "tracegroupgap": 0
        },
        "template": {
         "data": {
          "bar": [
           {
            "error_x": {
             "color": "#2a3f5f"
            },
            "error_y": {
             "color": "#2a3f5f"
            },
            "marker": {
             "line": {
              "color": "#E5ECF6",
              "width": 0.5
             },
             "pattern": {
              "fillmode": "overlay",
              "size": 10,
              "solidity": 0.2
             }
            },
            "type": "bar"
           }
          ],
          "barpolar": [
           {
            "marker": {
             "line": {
              "color": "#E5ECF6",
              "width": 0.5
             },
             "pattern": {
              "fillmode": "overlay",
              "size": 10,
              "solidity": 0.2
             }
            },
            "type": "barpolar"
           }
          ],
          "carpet": [
           {
            "aaxis": {
             "endlinecolor": "#2a3f5f",
             "gridcolor": "white",
             "linecolor": "white",
             "minorgridcolor": "white",
             "startlinecolor": "#2a3f5f"
            },
            "baxis": {
             "endlinecolor": "#2a3f5f",
             "gridcolor": "white",
             "linecolor": "white",
             "minorgridcolor": "white",
             "startlinecolor": "#2a3f5f"
            },
            "type": "carpet"
           }
          ],
          "choropleth": [
           {
            "colorbar": {
             "outlinewidth": 0,
             "ticks": ""
            },
            "type": "choropleth"
           }
          ],
          "contour": [
           {
            "colorbar": {
             "outlinewidth": 0,
             "ticks": ""
            },
            "colorscale": [
             [
              0,
              "#0d0887"
             ],
             [
              0.1111111111111111,
              "#46039f"
             ],
             [
              0.2222222222222222,
              "#7201a8"
             ],
             [
              0.3333333333333333,
              "#9c179e"
             ],
             [
              0.4444444444444444,
              "#bd3786"
             ],
             [
              0.5555555555555556,
              "#d8576b"
             ],
             [
              0.6666666666666666,
              "#ed7953"
             ],
             [
              0.7777777777777778,
              "#fb9f3a"
             ],
             [
              0.8888888888888888,
              "#fdca26"
             ],
             [
              1,
              "#f0f921"
             ]
            ],
            "type": "contour"
           }
          ],
          "contourcarpet": [
           {
            "colorbar": {
             "outlinewidth": 0,
             "ticks": ""
            },
            "type": "contourcarpet"
           }
          ],
          "heatmap": [
           {
            "colorbar": {
             "outlinewidth": 0,
             "ticks": ""
            },
            "colorscale": [
             [
              0,
              "#0d0887"
             ],
             [
              0.1111111111111111,
              "#46039f"
             ],
             [
              0.2222222222222222,
              "#7201a8"
             ],
             [
              0.3333333333333333,
              "#9c179e"
             ],
             [
              0.4444444444444444,
              "#bd3786"
             ],
             [
              0.5555555555555556,
              "#d8576b"
             ],
             [
              0.6666666666666666,
              "#ed7953"
             ],
             [
              0.7777777777777778,
              "#fb9f3a"
             ],
             [
              0.8888888888888888,
              "#fdca26"
             ],
             [
              1,
              "#f0f921"
             ]
            ],
            "type": "heatmap"
           }
          ],
          "heatmapgl": [
           {
            "colorbar": {
             "outlinewidth": 0,
             "ticks": ""
            },
            "colorscale": [
             [
              0,
              "#0d0887"
             ],
             [
              0.1111111111111111,
              "#46039f"
             ],
             [
              0.2222222222222222,
              "#7201a8"
             ],
             [
              0.3333333333333333,
              "#9c179e"
             ],
             [
              0.4444444444444444,
              "#bd3786"
             ],
             [
              0.5555555555555556,
              "#d8576b"
             ],
             [
              0.6666666666666666,
              "#ed7953"
             ],
             [
              0.7777777777777778,
              "#fb9f3a"
             ],
             [
              0.8888888888888888,
              "#fdca26"
             ],
             [
              1,
              "#f0f921"
             ]
            ],
            "type": "heatmapgl"
           }
          ],
          "histogram": [
           {
            "marker": {
             "pattern": {
              "fillmode": "overlay",
              "size": 10,
              "solidity": 0.2
             }
            },
            "type": "histogram"
           }
          ],
          "histogram2d": [
           {
            "colorbar": {
             "outlinewidth": 0,
             "ticks": ""
            },
            "colorscale": [
             [
              0,
              "#0d0887"
             ],
             [
              0.1111111111111111,
              "#46039f"
             ],
             [
              0.2222222222222222,
              "#7201a8"
             ],
             [
              0.3333333333333333,
              "#9c179e"
             ],
             [
              0.4444444444444444,
              "#bd3786"
             ],
             [
              0.5555555555555556,
              "#d8576b"
             ],
             [
              0.6666666666666666,
              "#ed7953"
             ],
             [
              0.7777777777777778,
              "#fb9f3a"
             ],
             [
              0.8888888888888888,
              "#fdca26"
             ],
             [
              1,
              "#f0f921"
             ]
            ],
            "type": "histogram2d"
           }
          ],
          "histogram2dcontour": [
           {
            "colorbar": {
             "outlinewidth": 0,
             "ticks": ""
            },
            "colorscale": [
             [
              0,
              "#0d0887"
             ],
             [
              0.1111111111111111,
              "#46039f"
             ],
             [
              0.2222222222222222,
              "#7201a8"
             ],
             [
              0.3333333333333333,
              "#9c179e"
             ],
             [
              0.4444444444444444,
              "#bd3786"
             ],
             [
              0.5555555555555556,
              "#d8576b"
             ],
             [
              0.6666666666666666,
              "#ed7953"
             ],
             [
              0.7777777777777778,
              "#fb9f3a"
             ],
             [
              0.8888888888888888,
              "#fdca26"
             ],
             [
              1,
              "#f0f921"
             ]
            ],
            "type": "histogram2dcontour"
           }
          ],
          "mesh3d": [
           {
            "colorbar": {
             "outlinewidth": 0,
             "ticks": ""
            },
            "type": "mesh3d"
           }
          ],
          "parcoords": [
           {
            "line": {
             "colorbar": {
              "outlinewidth": 0,
              "ticks": ""
             }
            },
            "type": "parcoords"
           }
          ],
          "pie": [
           {
            "automargin": true,
            "type": "pie"
           }
          ],
          "scatter": [
           {
            "fillpattern": {
             "fillmode": "overlay",
             "size": 10,
             "solidity": 0.2
            },
            "type": "scatter"
           }
          ],
          "scatter3d": [
           {
            "line": {
             "colorbar": {
              "outlinewidth": 0,
              "ticks": ""
             }
            },
            "marker": {
             "colorbar": {
              "outlinewidth": 0,
              "ticks": ""
             }
            },
            "type": "scatter3d"
           }
          ],
          "scattercarpet": [
           {
            "marker": {
             "colorbar": {
              "outlinewidth": 0,
              "ticks": ""
             }
            },
            "type": "scattercarpet"
           }
          ],
          "scattergeo": [
           {
            "marker": {
             "colorbar": {
              "outlinewidth": 0,
              "ticks": ""
             }
            },
            "type": "scattergeo"
           }
          ],
          "scattergl": [
           {
            "marker": {
             "colorbar": {
              "outlinewidth": 0,
              "ticks": ""
             }
            },
            "type": "scattergl"
           }
          ],
          "scattermapbox": [
           {
            "marker": {
             "colorbar": {
              "outlinewidth": 0,
              "ticks": ""
             }
            },
            "type": "scattermapbox"
           }
          ],
          "scatterpolar": [
           {
            "marker": {
             "colorbar": {
              "outlinewidth": 0,
              "ticks": ""
             }
            },
            "type": "scatterpolar"
           }
          ],
          "scatterpolargl": [
           {
            "marker": {
             "colorbar": {
              "outlinewidth": 0,
              "ticks": ""
             }
            },
            "type": "scatterpolargl"
           }
          ],
          "scatterternary": [
           {
            "marker": {
             "colorbar": {
              "outlinewidth": 0,
              "ticks": ""
             }
            },
            "type": "scatterternary"
           }
          ],
          "surface": [
           {
            "colorbar": {
             "outlinewidth": 0,
             "ticks": ""
            },
            "colorscale": [
             [
              0,
              "#0d0887"
             ],
             [
              0.1111111111111111,
              "#46039f"
             ],
             [
              0.2222222222222222,
              "#7201a8"
             ],
             [
              0.3333333333333333,
              "#9c179e"
             ],
             [
              0.4444444444444444,
              "#bd3786"
             ],
             [
              0.5555555555555556,
              "#d8576b"
             ],
             [
              0.6666666666666666,
              "#ed7953"
             ],
             [
              0.7777777777777778,
              "#fb9f3a"
             ],
             [
              0.8888888888888888,
              "#fdca26"
             ],
             [
              1,
              "#f0f921"
             ]
            ],
            "type": "surface"
           }
          ],
          "table": [
           {
            "cells": {
             "fill": {
              "color": "#EBF0F8"
             },
             "line": {
              "color": "white"
             }
            },
            "header": {
             "fill": {
              "color": "#C8D4E3"
             },
             "line": {
              "color": "white"
             }
            },
            "type": "table"
           }
          ]
         },
         "layout": {
          "annotationdefaults": {
           "arrowcolor": "#2a3f5f",
           "arrowhead": 0,
           "arrowwidth": 1
          },
          "autotypenumbers": "strict",
          "coloraxis": {
           "colorbar": {
            "outlinewidth": 0,
            "ticks": ""
           }
          },
          "colorscale": {
           "diverging": [
            [
             0,
             "#8e0152"
            ],
            [
             0.1,
             "#c51b7d"
            ],
            [
             0.2,
             "#de77ae"
            ],
            [
             0.3,
             "#f1b6da"
            ],
            [
             0.4,
             "#fde0ef"
            ],
            [
             0.5,
             "#f7f7f7"
            ],
            [
             0.6,
             "#e6f5d0"
            ],
            [
             0.7,
             "#b8e186"
            ],
            [
             0.8,
             "#7fbc41"
            ],
            [
             0.9,
             "#4d9221"
            ],
            [
             1,
             "#276419"
            ]
           ],
           "sequential": [
            [
             0,
             "#0d0887"
            ],
            [
             0.1111111111111111,
             "#46039f"
            ],
            [
             0.2222222222222222,
             "#7201a8"
            ],
            [
             0.3333333333333333,
             "#9c179e"
            ],
            [
             0.4444444444444444,
             "#bd3786"
            ],
            [
             0.5555555555555556,
             "#d8576b"
            ],
            [
             0.6666666666666666,
             "#ed7953"
            ],
            [
             0.7777777777777778,
             "#fb9f3a"
            ],
            [
             0.8888888888888888,
             "#fdca26"
            ],
            [
             1,
             "#f0f921"
            ]
           ],
           "sequentialminus": [
            [
             0,
             "#0d0887"
            ],
            [
             0.1111111111111111,
             "#46039f"
            ],
            [
             0.2222222222222222,
             "#7201a8"
            ],
            [
             0.3333333333333333,
             "#9c179e"
            ],
            [
             0.4444444444444444,
             "#bd3786"
            ],
            [
             0.5555555555555556,
             "#d8576b"
            ],
            [
             0.6666666666666666,
             "#ed7953"
            ],
            [
             0.7777777777777778,
             "#fb9f3a"
            ],
            [
             0.8888888888888888,
             "#fdca26"
            ],
            [
             1,
             "#f0f921"
            ]
           ]
          },
          "colorway": [
           "#636efa",
           "#EF553B",
           "#00cc96",
           "#ab63fa",
           "#FFA15A",
           "#19d3f3",
           "#FF6692",
           "#B6E880",
           "#FF97FF",
           "#FECB52"
          ],
          "font": {
           "color": "#2a3f5f"
          },
          "geo": {
           "bgcolor": "white",
           "lakecolor": "white",
           "landcolor": "#E5ECF6",
           "showlakes": true,
           "showland": true,
           "subunitcolor": "white"
          },
          "hoverlabel": {
           "align": "left"
          },
          "hovermode": "closest",
          "mapbox": {
           "style": "light"
          },
          "paper_bgcolor": "white",
          "plot_bgcolor": "#E5ECF6",
          "polar": {
           "angularaxis": {
            "gridcolor": "white",
            "linecolor": "white",
            "ticks": ""
           },
           "bgcolor": "#E5ECF6",
           "radialaxis": {
            "gridcolor": "white",
            "linecolor": "white",
            "ticks": ""
           }
          },
          "scene": {
           "xaxis": {
            "backgroundcolor": "#E5ECF6",
            "gridcolor": "white",
            "gridwidth": 2,
            "linecolor": "white",
            "showbackground": true,
            "ticks": "",
            "zerolinecolor": "white"
           },
           "yaxis": {
            "backgroundcolor": "#E5ECF6",
            "gridcolor": "white",
            "gridwidth": 2,
            "linecolor": "white",
            "showbackground": true,
            "ticks": "",
            "zerolinecolor": "white"
           },
           "zaxis": {
            "backgroundcolor": "#E5ECF6",
            "gridcolor": "white",
            "gridwidth": 2,
            "linecolor": "white",
            "showbackground": true,
            "ticks": "",
            "zerolinecolor": "white"
           }
          },
          "shapedefaults": {
           "line": {
            "color": "#2a3f5f"
           }
          },
          "ternary": {
           "aaxis": {
            "gridcolor": "white",
            "linecolor": "white",
            "ticks": ""
           },
           "baxis": {
            "gridcolor": "white",
            "linecolor": "white",
            "ticks": ""
           },
           "bgcolor": "#E5ECF6",
           "caxis": {
            "gridcolor": "white",
            "linecolor": "white",
            "ticks": ""
           }
          },
          "title": {
           "x": 0.05
          },
          "xaxis": {
           "automargin": true,
           "gridcolor": "white",
           "linecolor": "white",
           "ticks": "",
           "title": {
            "standoff": 15
           },
           "zerolinecolor": "white",
           "zerolinewidth": 2
          },
          "yaxis": {
           "automargin": true,
           "gridcolor": "white",
           "linecolor": "white",
           "ticks": "",
           "title": {
            "standoff": 15
           },
           "zerolinecolor": "white",
           "zerolinewidth": 2
          }
         }
        },
        "title": {
         "font": {
          "size": 20
         },
         "text": "K-Means Clustering with K=8"
        },
        "xaxis": {
         "anchor": "y",
         "autorange": true,
         "domain": [
          0,
          1
         ],
         "range": [
          -2.2411583767726957,
          4.331672748192164
         ],
         "title": {
          "text": "TotalSpending"
         },
         "type": "linear"
        },
        "yaxis": {
         "anchor": "x",
         "autorange": true,
         "domain": [
          0,
          1
         ],
         "range": [
          -2.255635084031049,
          3.1447905977319226
         ],
         "title": {
          "text": "TransactionCount"
         },
         "type": "linear"
        }
       }
      },
      "text/html": [
       "<div>                            <div id=\"a8f372c8-ad83-40db-996f-b37559f108e4\" class=\"plotly-graph-div\" style=\"height:525px; width:100%;\"></div>            <script type=\"text/javascript\">                require([\"plotly\"], function(Plotly) {                    window.PLOTLYENV=window.PLOTLYENV || {};                                    if (document.getElementById(\"a8f372c8-ad83-40db-996f-b37559f108e4\")) {                    Plotly.newPlot(                        \"a8f372c8-ad83-40db-996f-b37559f108e4\",                        [{\"customdata\":[[\"C0001\",3],[\"C0016\",2],[\"C0019\",1],[\"C0025\",3],[\"C0042\",2],[\"C0055\",2],[\"C0056\",0],[\"C0069\",1],[\"C0076\",3],[\"C0088\",0],[\"C0094\",2],[\"C0103\",1],[\"C0116\",2],[\"C0118\",3],[\"C0119\",1],[\"C0121\",1],[\"C0127\",1],[\"C0137\",3],[\"C0146\",0],[\"C0152\",3],[\"C0154\",2],[\"C0157\",2],[\"C0158\",3],[\"C0164\",1],[\"C0172\",1],[\"C0174\",3],[\"C0177\",0],[\"C0178\",0],[\"C0189\",2],[\"C0191\",3],[\"C0192\",3],[\"C0199\",1]],\"hovertemplate\":\"Cluster=1\\u003cbr\\u003eTotalSpending=%{x}\\u003cbr\\u003eTransactionCount=%{y}\\u003cbr\\u003eCustomerID=%{customdata[0]}\\u003cbr\\u003eRegion=%{customdata[1]}\\u003cextra\\u003e\\u003c\\u002fextra\\u003e\",\"legendgroup\":\"1\",\"marker\":{\"color\":\"#636efa\",\"symbol\":\"circle\",\"opacity\":0.7,\"size\":8},\"mode\":\"markers\",\"name\":\"1\",\"orientation\":\"v\",\"showlegend\":true,\"x\":[-0.06170142816431181,0.22269726987216107,-0.7010104460431852,-1.0270432754656091,-0.5824863723683196,-0.33348571193511645,-0.15556010985136345,-0.32199270049878975,-0.6204663716079277,-0.7286024259026959,-1.258347652226029,-0.5496320045974588,-0.38764126320576625,-0.017802610088861078,-1.2448689372431117,-1.3636227617415497,-0.12824164287705786,-0.07371958434023292,-0.49041646495051056,-0.04455764051964389,0.1292597980283258,-0.8704352676547574,0.13632190072432662,-0.2076643144829735,-0.6923236768090647,-0.3147391387831453,-0.5237795666878534,-0.41491049786073503,-0.4508063289150788,-0.25674346660421277,-0.7628790606766243,-0.8139931486637912],\"xaxis\":\"x\",\"y\":[-0.011458189609547545,-0.011458189609547545,0.44457775685043677,-0.46749413606953183,-0.9235300825295161,-0.011458189609547545,-0.011458189609547545,-0.011458189609547545,-0.011458189609547545,-0.011458189609547545,-0.46749413606953183,-0.011458189609547545,0.44457775685043677,0.44457775685043677,-0.011458189609547545,-0.46749413606953183,0.44457775685043677,-0.011458189609547545,-0.46749413606953183,-0.011458189609547545,0.44457775685043677,-0.011458189609547545,-0.46749413606953183,-0.011458189609547545,0.44457775685043677,-0.011458189609547545,-0.46749413606953183,-0.46749413606953183,-0.011458189609547545,-0.011458189609547545,-0.46749413606953183,-0.46749413606953183],\"yaxis\":\"y\",\"type\":\"scatter\"},{\"customdata\":[[\"C0002\",0],[\"C0005\",0],[\"C0007\",0],[\"C0010\",1],[\"C0026\",2],[\"C0027\",0],[\"C0029\",2],[\"C0030\",2],[\"C0031\",3],[\"C0035\",2],[\"C0036\",2],[\"C0038\",2],[\"C0044\",1],[\"C0050\",2],[\"C0052\",3],[\"C0062\",1],[\"C0063\",1],[\"C0066\",1],[\"C0070\",1],[\"C0071\",3],[\"C0072\",2],[\"C0074\",1],[\"C0077\",3],[\"C0085\",3],[\"C0086\",1],[\"C0092\",0],[\"C0095\",3],[\"C0106\",0],[\"C0111\",1],[\"C0112\",3],[\"C0115\",0],[\"C0120\",3],[\"C0125\",2],[\"C0129\",3],[\"C0131\",2],[\"C0132\",1],[\"C0133\",3],[\"C0135\",1],[\"C0140\",0],[\"C0142\",0],[\"C0159\",0],[\"C0160\",2],[\"C0166\",1],[\"C0167\",1],[\"C0185\",2],[\"C0186\",0],[\"C0190\",3],[\"C0193\",0],[\"C0197\",1]],\"hovertemplate\":\"Cluster=3\\u003cbr\\u003eTotalSpending=%{x}\\u003cbr\\u003eTransactionCount=%{y}\\u003cbr\\u003eCustomerID=%{customdata[0]}\\u003cbr\\u003eRegion=%{customdata[1]}\\u003cextra\\u003e\\u003c\\u002fextra\\u003e\",\"legendgroup\":\"3\",\"marker\":{\"color\":\"#EF553B\",\"symbol\":\"circle\",\"opacity\":0.7,\"size\":8},\"mode\":\"markers\",\"name\":\"3\",\"orientation\":\"v\",\"showlegend\":true,\"x\":[-0.877743531947443,-0.7839286123220244,-0.4854822925014072,-0.9571662035533585,0.04471149495366286,-0.494716087505938,-0.9197934029189061,-0.5019696492215825,-0.7997157760560744,-0.48122096174990836,-0.8694177997217936,-0.4214638665902541,-0.12975690426109548,-0.21798122051291757,-0.5357047284828045,-0.9998396839030899,-1.1428158095153096,0.1815937534835081,-0.18698674036145282,-1.1304202055578052,-0.25585728485614767,-0.2254262412482057,-1.438685637957293,-0.4753568454911068,-0.3898293662874089,-0.24690794325223037,-1.1941815293568652,-0.28883746855420295,-0.8174175299865616,-0.8248078481448089,-0.18059200910535284,-0.5455457220924914,-0.2698775553517715,-0.6168833528117381,-0.8333906824825512,-0.8840233877917568,-0.318907475153674,-0.18146725033800976,-0.8638490773790137,-0.6718977345419327,-0.7630486386654517,-0.2956041773341823,-0.5809218786649449,-0.6383212927541297,-0.02351902938965204,-0.9330478373359552,-0.2649215018718515,-0.25055113488316466,-0.8416890634196801],\"xaxis\":\"x\",\"y\":[-0.46749413606953183,-0.9235300825295161,-0.9235300825295161,-0.46749413606953183,-0.46749413606953183,-0.46749413606953183,-0.46749413606953183,-0.011458189609547545,-0.46749413606953183,-0.46749413606953183,-0.9235300825295161,-0.011458189609547545,-0.9235300825295161,-0.9235300825295161,-0.46749413606953183,-0.9235300825295161,-1.3795660289895004,-0.9235300825295161,-0.46749413606953183,-0.9235300825295161,-0.011458189609547545,-0.9235300825295161,-0.9235300825295161,-0.9235300825295161,-0.011458189609547545,-0.46749413606953183,-1.3795660289895004,-0.011458189609547545,-0.011458189609547545,-0.9235300825295161,-0.9235300825295161,-0.9235300825295161,-0.46749413606953183,-0.9235300825295161,-0.9235300825295161,-0.9235300825295161,-0.46749413606953183,-0.46749413606953183,-1.3795660289895004,-0.46749413606953183,-0.9235300825295161,-0.011458189609547545,-0.46749413606953183,-0.9235300825295161,-0.9235300825295161,-0.9235300825295161,-0.011458189609547545,-0.46749413606953183,-0.9235300825295161],\"yaxis\":\"y\",\"type\":\"scatter\"},{\"customdata\":[[\"C0003\",3],[\"C0006\",3],[\"C0018\",2],[\"C0037\",1],[\"C0039\",3],[\"C0053\",1],[\"C0079\",2],[\"C0091\",3],[\"C0096\",3],[\"C0114\",1],[\"C0117\",2],[\"C0134\",0],[\"C0136\",0],[\"C0138\",0],[\"C0148\",3],[\"C0149\",1],[\"C0163\",3],[\"C0168\",3],[\"C0169\",3],[\"C0170\",1],[\"C0171\",3],[\"C0182\",1],[\"C0196\",1],[\"C0200\",0]],\"hovertemplate\":\"Cluster=2\\u003cbr\\u003eTotalSpending=%{x}\\u003cbr\\u003eTransactionCount=%{y}\\u003cbr\\u003eCustomerID=%{customdata[0]}\\u003cbr\\u003eRegion=%{customdata[1]}\\u003cextra\\u003e\\u003c\\u002fextra\\u003e\",\"legendgroup\":\"2\",\"marker\":{\"color\":\"#00cc96\",\"symbol\":\"circle\",\"opacity\":0.7,\"size\":8},\"mode\":\"markers\",\"name\":\"2\",\"orientation\":\"v\",\"showlegend\":true,\"x\":[-0.40585722136043945,0.4158794206926657,0.7190848647158556,0.4296644701070133,0.4224601407107056,1.0115303118350685,0.429002568924816,-0.18032943673555574,1.4253334261198742,1.2653338585324767,0.3068571846498327,-0.4310751093763682,0.4549480012153911,1.172241012924,1.0888414639671993,0.5128178574671288,1.2625166758148618,0.8678649337521316,0.5831325499957078,0.8010785574427008,0.9179287322601103,0.8278992309659325,0.8290534553414993,0.7063665155538091],\"xaxis\":\"x\",\"y\":[-0.46749413606953183,-0.46749413606953183,-0.011458189609547545,-0.011458189609547545,0.44457775685043677,0.44457775685043677,-0.46749413606953183,0.44457775685043677,-0.011458189609547545,-0.011458189609547545,-0.46749413606953183,-0.011458189609547545,0.44457775685043677,-0.011458189609547545,-0.011458189609547545,-0.011458189609547545,0.44457775685043677,-0.46749413606953183,0.44457775685043677,-0.011458189609547545,-0.011458189609547545,-0.011458189609547545,-0.46749413606953183,-0.011458189609547545],\"yaxis\":\"y\",\"type\":\"scatter\"},{\"customdata\":[[\"C0004\",3],[\"C0013\",3],[\"C0017\",1],[\"C0028\",0],[\"C0041\",1],[\"C0045\",0],[\"C0046\",2],[\"C0054\",0],[\"C0059\",2],[\"C0065\",2],[\"C0068\",2],[\"C0075\",1],[\"C0082\",3],[\"C0087\",3],[\"C0099\",3],[\"C0101\",0],[\"C0102\",3],[\"C0104\",3],[\"C0109\",2],[\"C0113\",3],[\"C0141\",1],[\"C0143\",0],[\"C0145\",0],[\"C0156\",2],[\"C0162\",0],[\"C0165\",3],[\"C0173\",0],[\"C0175\",0],[\"C0188\",3]],\"hovertemplate\":\"Cluster=0\\u003cbr\\u003eTotalSpending=%{x}\\u003cbr\\u003eTransactionCount=%{y}\\u003cbr\\u003eCustomerID=%{customdata[0]}\\u003cbr\\u003eRegion=%{customdata[1]}\\u003cextra\\u003e\\u003c\\u002fextra\\u003e\",\"legendgroup\":\"0\",\"marker\":{\"color\":\"#ab63fa\",\"symbol\":\"circle\",\"opacity\":0.7,\"size\":8},\"mode\":\"markers\",\"name\":\"0\",\"orientation\":\"v\",\"showlegend\":true,\"x\":[1.032547041934244,1.385750641372963,0.7037517323712461,1.8337702175969515,1.467377826833633,1.3973694687364842,1.1818577259678182,2.5015902186296253,1.972556125807826,2.2955310811736545,1.3583227692445752,1.3028270048364194,2.245866611478076,1.715973688196732,1.7769615913398105,1.1398242657694675,1.4578486379130806,1.7022269305863138,1.1049568431634955,0.7356323942707764,3.942171644490543,1.409858067074958,1.2603231024755157,2.2795305773891443,0.7302387201745276,1.7727932549692818,1.2804372400535133,1.500609642386077,1.9933649861142457],\"xaxis\":\"x\",\"y\":[1.3566496497704053,0.900613703310421,1.3566496497704053,1.3566496497704053,0.900613703310421,0.900613703310421,0.900613703310421,1.3566496497704053,1.3566496497704053,2.2687215426903737,1.3566496497704053,1.8126855962303896,0.900613703310421,0.900613703310421,1.3566496497704053,1.3566496497704053,1.3566496497704053,1.3566496497704053,2.7247574891503583,1.3566496497704053,2.2687215426903737,0.900613703310421,1.3566496497704053,2.7247574891503583,1.3566496497704053,1.8126855962303896,1.3566496497704053,2.2687215426903737,1.3566496497704053],\"yaxis\":\"y\",\"type\":\"scatter\"},{\"customdata\":[[\"C0008\",2],[\"C0021\",0],[\"C0024\",2],[\"C0047\",2],[\"C0049\",2],[\"C0084\",0],[\"C0093\",0],[\"C0098\",2],[\"C0139\",2],[\"C0147\",3],[\"C0161\",0],[\"C0184\",3],[\"C0194\",2]],\"hovertemplate\":\"Cluster=4\\u003cbr\\u003eTotalSpending=%{x}\\u003cbr\\u003eTransactionCount=%{y}\\u003cbr\\u003eCustomerID=%{customdata[0]}\\u003cbr\\u003eRegion=%{customdata[1]}\\u003cextra\\u003e\\u003c\\u002fextra\\u003e\",\"legendgroup\":\"4\",\"marker\":{\"color\":\"#FFA15A\",\"symbol\":\"circle\",\"opacity\":0.7,\"size\":8},\"mode\":\"markers\",\"name\":\"4\",\"orientation\":\"v\",\"showlegend\":true,\"x\":[0.4399704356215487,1.0681255980417497,0.08736309427257756,-0.3264509605276362,-0.6300830846517461,0.5326858334484423,0.9997856685443527,-0.16919199204999577,0.12927620880143798,-0.2838376530126501,-0.17804833927294347,-0.040553411880237936,0.2198253845775054],\"xaxis\":\"x\",\"y\":[2.2687215426903737,1.3566496497704053,0.900613703310421,0.900613703310421,1.3566496497704053,1.8126855962303896,1.8126855962303896,1.3566496497704053,1.3566496497704053,1.8126855962303896,1.3566496497704053,0.900613703310421,0.900613703310421],\"yaxis\":\"y\",\"type\":\"scatter\"},{\"customdata\":[[\"C0009\",1],[\"C0014\",1],[\"C0015\",2],[\"C0032\",3],[\"C0033\",2],[\"C0043\",0],[\"C0058\",2],[\"C0060\",1],[\"C0061\",1],[\"C0078\",0],[\"C0083\",3],[\"C0097\",0],[\"C0123\",0],[\"C0128\",0],[\"C0130\",3],[\"C0150\",3],[\"C0198\",1]],\"hovertemplate\":\"Cluster=5\\u003cbr\\u003eTotalSpending=%{x}\\u003cbr\\u003eTransactionCount=%{y}\\u003cbr\\u003eCustomerID=%{customdata[0]}\\u003cbr\\u003eRegion=%{customdata[1]}\\u003cextra\\u003e\\u003c\\u002fextra\\u003e\",\"legendgroup\":\"5\",\"marker\":{\"color\":\"#19d3f3\",\"symbol\":\"circle\",\"opacity\":0.7,\"size\":8},\"mode\":\"markers\",\"name\":\"5\",\"orientation\":\"v\",\"showlegend\":true,\"x\":[-1.4063017123489852,-1.7223950835230486,-1.2635389267872257,-1.528561972035755,-1.8241528173348291,-1.2778491209411669,-1.6799021216775527,-1.8516572730710743,-0.7270269916839133,-1.3521352205629271,-1.5450821503021555,-1.8214723910598172,-1.1308414154010213,-1.4737554600983167,-1.5677508982279706,-1.5792493799220015,-1.3869752918803786],\"xaxis\":\"x\",\"y\":[-0.9235300825295161,-1.8356019754494848,-1.3795660289895004,-0.9235300825295161,-1.8356019754494848,-0.9235300825295161,-1.8356019754494848,-1.8356019754494848,-0.9235300825295161,-1.8356019754494848,-0.9235300825295161,-1.8356019754494848,-1.3795660289895004,-1.3795660289895004,-1.8356019754494848,-1.8356019754494848,-1.3795660289895004],\"yaxis\":\"y\",\"type\":\"scatter\"},{\"customdata\":[[\"C0011\",3],[\"C0012\",3],[\"C0022\",0],[\"C0023\",1],[\"C0034\",2],[\"C0048\",3],[\"C0051\",1],[\"C0057\",1],[\"C0064\",1],[\"C0067\",2],[\"C0081\",1],[\"C0090\",0],[\"C0100\",1],[\"C0105\",1],[\"C0107\",3],[\"C0108\",3],[\"C0122\",2],[\"C0124\",1],[\"C0126\",3],[\"C0153\",3],[\"C0155\",3],[\"C0179\",1],[\"C0181\",3],[\"C0183\",2],[\"C0187\",3],[\"C0195\",3]],\"hovertemplate\":\"Cluster=6\\u003cbr\\u003eTotalSpending=%{x}\\u003cbr\\u003eTransactionCount=%{y}\\u003cbr\\u003eCustomerID=%{customdata[0]}\\u003cbr\\u003eRegion=%{customdata[1]}\\u003cextra\\u003e\\u003c\\u002fextra\\u003e\",\"legendgroup\":\"6\",\"marker\":{\"color\":\"#FF6692\",\"symbol\":\"circle\",\"opacity\":0.7,\"size\":8},\"mode\":\"markers\",\"name\":\"6\",\"orientation\":\"v\",\"showlegend\":true,\"x\":[0.1436958081094616,0.9649237161960846,0.6497329375431989,0.9252041750065709,-0.21559071789622303,0.20985310478291982,1.2211013547370748,0.5848173893685725,0.3131479810095544,0.341084587104424,0.041117535642065106,0.36696984656025367,0.8403057754388452,0.7330887244383668,0.08566731438430474,0.7555660133445387,0.8781052561742182,0.43598808801295963,0.6007741310914498,0.6988120896644384,1.0451012833651672,0.10148182940687522,-0.06548684649555322,0.20945924622822454,0.6264132289505948,0.3112333908131173],\"xaxis\":\"x\",\"y\":[-0.011458189609547545,0.900613703310421,0.44457775685043677,0.44457775685043677,0.44457775685043677,-0.011458189609547545,0.900613703310421,0.44457775685043677,-0.011458189609547545,0.44457775685043677,0.44457775685043677,0.900613703310421,0.44457775685043677,0.44457775685043677,-0.011458189609547545,0.900613703310421,0.900613703310421,0.900613703310421,0.44457775685043677,0.44457775685043677,0.900613703310421,0.44457775685043677,0.44457775685043677,-0.011458189609547545,-0.011458189609547545,0.44457775685043677],\"yaxis\":\"y\",\"type\":\"scatter\"},{\"customdata\":[[\"C0020\",2],[\"C0040\",0],[\"C0073\",1],[\"C0080\",0],[\"C0089\",1],[\"C0110\",0],[\"C0144\",2],[\"C0151\",3],[\"C0176\",2]],\"hovertemplate\":\"Cluster=7\\u003cbr\\u003eTotalSpending=%{x}\\u003cbr\\u003eTransactionCount=%{y}\\u003cbr\\u003eCustomerID=%{customdata[0]}\\u003cbr\\u003eRegion=%{customdata[1]}\\u003cextra\\u003e\\u003c\\u002fextra\\u003e\",\"legendgroup\":\"7\",\"marker\":{\"color\":\"#B6E880\",\"symbol\":\"circle\",\"opacity\":0.7,\"size\":8},\"mode\":\"markers\",\"name\":\"7\",\"orientation\":\"v\",\"showlegend\":true,\"x\":[-1.3921282746376464,0.27465377754576,-0.7695418345602255,-1.3455709113179999,-0.49839210068309714,-1.3812369915487712,-1.1830167333827848,-1.7741984239809327,-0.6214181964484421],\"xaxis\":\"x\",\"y\":[-1.8356019754494848,-0.9235300825295161,-0.9235300825295161,-1.8356019754494848,-1.3795660289895004,-1.8356019754494848,-1.3795660289895004,-1.8356019754494848,-0.9235300825295161],\"yaxis\":\"y\",\"type\":\"scatter\"}],                        {\"template\":{\"data\":{\"histogram2dcontour\":[{\"type\":\"histogram2dcontour\",\"colorbar\":{\"outlinewidth\":0,\"ticks\":\"\"},\"colorscale\":[[0.0,\"#0d0887\"],[0.1111111111111111,\"#46039f\"],[0.2222222222222222,\"#7201a8\"],[0.3333333333333333,\"#9c179e\"],[0.4444444444444444,\"#bd3786\"],[0.5555555555555556,\"#d8576b\"],[0.6666666666666666,\"#ed7953\"],[0.7777777777777778,\"#fb9f3a\"],[0.8888888888888888,\"#fdca26\"],[1.0,\"#f0f921\"]]}],\"choropleth\":[{\"type\":\"choropleth\",\"colorbar\":{\"outlinewidth\":0,\"ticks\":\"\"}}],\"histogram2d\":[{\"type\":\"histogram2d\",\"colorbar\":{\"outlinewidth\":0,\"ticks\":\"\"},\"colorscale\":[[0.0,\"#0d0887\"],[0.1111111111111111,\"#46039f\"],[0.2222222222222222,\"#7201a8\"],[0.3333333333333333,\"#9c179e\"],[0.4444444444444444,\"#bd3786\"],[0.5555555555555556,\"#d8576b\"],[0.6666666666666666,\"#ed7953\"],[0.7777777777777778,\"#fb9f3a\"],[0.8888888888888888,\"#fdca26\"],[1.0,\"#f0f921\"]]}],\"heatmap\":[{\"type\":\"heatmap\",\"colorbar\":{\"outlinewidth\":0,\"ticks\":\"\"},\"colorscale\":[[0.0,\"#0d0887\"],[0.1111111111111111,\"#46039f\"],[0.2222222222222222,\"#7201a8\"],[0.3333333333333333,\"#9c179e\"],[0.4444444444444444,\"#bd3786\"],[0.5555555555555556,\"#d8576b\"],[0.6666666666666666,\"#ed7953\"],[0.7777777777777778,\"#fb9f3a\"],[0.8888888888888888,\"#fdca26\"],[1.0,\"#f0f921\"]]}],\"heatmapgl\":[{\"type\":\"heatmapgl\",\"colorbar\":{\"outlinewidth\":0,\"ticks\":\"\"},\"colorscale\":[[0.0,\"#0d0887\"],[0.1111111111111111,\"#46039f\"],[0.2222222222222222,\"#7201a8\"],[0.3333333333333333,\"#9c179e\"],[0.4444444444444444,\"#bd3786\"],[0.5555555555555556,\"#d8576b\"],[0.6666666666666666,\"#ed7953\"],[0.7777777777777778,\"#fb9f3a\"],[0.8888888888888888,\"#fdca26\"],[1.0,\"#f0f921\"]]}],\"contourcarpet\":[{\"type\":\"contourcarpet\",\"colorbar\":{\"outlinewidth\":0,\"ticks\":\"\"}}],\"contour\":[{\"type\":\"contour\",\"colorbar\":{\"outlinewidth\":0,\"ticks\":\"\"},\"colorscale\":[[0.0,\"#0d0887\"],[0.1111111111111111,\"#46039f\"],[0.2222222222222222,\"#7201a8\"],[0.3333333333333333,\"#9c179e\"],[0.4444444444444444,\"#bd3786\"],[0.5555555555555556,\"#d8576b\"],[0.6666666666666666,\"#ed7953\"],[0.7777777777777778,\"#fb9f3a\"],[0.8888888888888888,\"#fdca26\"],[1.0,\"#f0f921\"]]}],\"surface\":[{\"type\":\"surface\",\"colorbar\":{\"outlinewidth\":0,\"ticks\":\"\"},\"colorscale\":[[0.0,\"#0d0887\"],[0.1111111111111111,\"#46039f\"],[0.2222222222222222,\"#7201a8\"],[0.3333333333333333,\"#9c179e\"],[0.4444444444444444,\"#bd3786\"],[0.5555555555555556,\"#d8576b\"],[0.6666666666666666,\"#ed7953\"],[0.7777777777777778,\"#fb9f3a\"],[0.8888888888888888,\"#fdca26\"],[1.0,\"#f0f921\"]]}],\"mesh3d\":[{\"type\":\"mesh3d\",\"colorbar\":{\"outlinewidth\":0,\"ticks\":\"\"}}],\"scatter\":[{\"fillpattern\":{\"fillmode\":\"overlay\",\"size\":10,\"solidity\":0.2},\"type\":\"scatter\"}],\"parcoords\":[{\"type\":\"parcoords\",\"line\":{\"colorbar\":{\"outlinewidth\":0,\"ticks\":\"\"}}}],\"scatterpolargl\":[{\"type\":\"scatterpolargl\",\"marker\":{\"colorbar\":{\"outlinewidth\":0,\"ticks\":\"\"}}}],\"bar\":[{\"error_x\":{\"color\":\"#2a3f5f\"},\"error_y\":{\"color\":\"#2a3f5f\"},\"marker\":{\"line\":{\"color\":\"#E5ECF6\",\"width\":0.5},\"pattern\":{\"fillmode\":\"overlay\",\"size\":10,\"solidity\":0.2}},\"type\":\"bar\"}],\"scattergeo\":[{\"type\":\"scattergeo\",\"marker\":{\"colorbar\":{\"outlinewidth\":0,\"ticks\":\"\"}}}],\"scatterpolar\":[{\"type\":\"scatterpolar\",\"marker\":{\"colorbar\":{\"outlinewidth\":0,\"ticks\":\"\"}}}],\"histogram\":[{\"marker\":{\"pattern\":{\"fillmode\":\"overlay\",\"size\":10,\"solidity\":0.2}},\"type\":\"histogram\"}],\"scattergl\":[{\"type\":\"scattergl\",\"marker\":{\"colorbar\":{\"outlinewidth\":0,\"ticks\":\"\"}}}],\"scatter3d\":[{\"type\":\"scatter3d\",\"line\":{\"colorbar\":{\"outlinewidth\":0,\"ticks\":\"\"}},\"marker\":{\"colorbar\":{\"outlinewidth\":0,\"ticks\":\"\"}}}],\"scattermapbox\":[{\"type\":\"scattermapbox\",\"marker\":{\"colorbar\":{\"outlinewidth\":0,\"ticks\":\"\"}}}],\"scatterternary\":[{\"type\":\"scatterternary\",\"marker\":{\"colorbar\":{\"outlinewidth\":0,\"ticks\":\"\"}}}],\"scattercarpet\":[{\"type\":\"scattercarpet\",\"marker\":{\"colorbar\":{\"outlinewidth\":0,\"ticks\":\"\"}}}],\"carpet\":[{\"aaxis\":{\"endlinecolor\":\"#2a3f5f\",\"gridcolor\":\"white\",\"linecolor\":\"white\",\"minorgridcolor\":\"white\",\"startlinecolor\":\"#2a3f5f\"},\"baxis\":{\"endlinecolor\":\"#2a3f5f\",\"gridcolor\":\"white\",\"linecolor\":\"white\",\"minorgridcolor\":\"white\",\"startlinecolor\":\"#2a3f5f\"},\"type\":\"carpet\"}],\"table\":[{\"cells\":{\"fill\":{\"color\":\"#EBF0F8\"},\"line\":{\"color\":\"white\"}},\"header\":{\"fill\":{\"color\":\"#C8D4E3\"},\"line\":{\"color\":\"white\"}},\"type\":\"table\"}],\"barpolar\":[{\"marker\":{\"line\":{\"color\":\"#E5ECF6\",\"width\":0.5},\"pattern\":{\"fillmode\":\"overlay\",\"size\":10,\"solidity\":0.2}},\"type\":\"barpolar\"}],\"pie\":[{\"automargin\":true,\"type\":\"pie\"}]},\"layout\":{\"autotypenumbers\":\"strict\",\"colorway\":[\"#636efa\",\"#EF553B\",\"#00cc96\",\"#ab63fa\",\"#FFA15A\",\"#19d3f3\",\"#FF6692\",\"#B6E880\",\"#FF97FF\",\"#FECB52\"],\"font\":{\"color\":\"#2a3f5f\"},\"hovermode\":\"closest\",\"hoverlabel\":{\"align\":\"left\"},\"paper_bgcolor\":\"white\",\"plot_bgcolor\":\"#E5ECF6\",\"polar\":{\"bgcolor\":\"#E5ECF6\",\"angularaxis\":{\"gridcolor\":\"white\",\"linecolor\":\"white\",\"ticks\":\"\"},\"radialaxis\":{\"gridcolor\":\"white\",\"linecolor\":\"white\",\"ticks\":\"\"}},\"ternary\":{\"bgcolor\":\"#E5ECF6\",\"aaxis\":{\"gridcolor\":\"white\",\"linecolor\":\"white\",\"ticks\":\"\"},\"baxis\":{\"gridcolor\":\"white\",\"linecolor\":\"white\",\"ticks\":\"\"},\"caxis\":{\"gridcolor\":\"white\",\"linecolor\":\"white\",\"ticks\":\"\"}},\"coloraxis\":{\"colorbar\":{\"outlinewidth\":0,\"ticks\":\"\"}},\"colorscale\":{\"sequential\":[[0.0,\"#0d0887\"],[0.1111111111111111,\"#46039f\"],[0.2222222222222222,\"#7201a8\"],[0.3333333333333333,\"#9c179e\"],[0.4444444444444444,\"#bd3786\"],[0.5555555555555556,\"#d8576b\"],[0.6666666666666666,\"#ed7953\"],[0.7777777777777778,\"#fb9f3a\"],[0.8888888888888888,\"#fdca26\"],[1.0,\"#f0f921\"]],\"sequentialminus\":[[0.0,\"#0d0887\"],[0.1111111111111111,\"#46039f\"],[0.2222222222222222,\"#7201a8\"],[0.3333333333333333,\"#9c179e\"],[0.4444444444444444,\"#bd3786\"],[0.5555555555555556,\"#d8576b\"],[0.6666666666666666,\"#ed7953\"],[0.7777777777777778,\"#fb9f3a\"],[0.8888888888888888,\"#fdca26\"],[1.0,\"#f0f921\"]],\"diverging\":[[0,\"#8e0152\"],[0.1,\"#c51b7d\"],[0.2,\"#de77ae\"],[0.3,\"#f1b6da\"],[0.4,\"#fde0ef\"],[0.5,\"#f7f7f7\"],[0.6,\"#e6f5d0\"],[0.7,\"#b8e186\"],[0.8,\"#7fbc41\"],[0.9,\"#4d9221\"],[1,\"#276419\"]]},\"xaxis\":{\"gridcolor\":\"white\",\"linecolor\":\"white\",\"ticks\":\"\",\"title\":{\"standoff\":15},\"zerolinecolor\":\"white\",\"automargin\":true,\"zerolinewidth\":2},\"yaxis\":{\"gridcolor\":\"white\",\"linecolor\":\"white\",\"ticks\":\"\",\"title\":{\"standoff\":15},\"zerolinecolor\":\"white\",\"automargin\":true,\"zerolinewidth\":2},\"scene\":{\"xaxis\":{\"backgroundcolor\":\"#E5ECF6\",\"gridcolor\":\"white\",\"linecolor\":\"white\",\"showbackground\":true,\"ticks\":\"\",\"zerolinecolor\":\"white\",\"gridwidth\":2},\"yaxis\":{\"backgroundcolor\":\"#E5ECF6\",\"gridcolor\":\"white\",\"linecolor\":\"white\",\"showbackground\":true,\"ticks\":\"\",\"zerolinecolor\":\"white\",\"gridwidth\":2},\"zaxis\":{\"backgroundcolor\":\"#E5ECF6\",\"gridcolor\":\"white\",\"linecolor\":\"white\",\"showbackground\":true,\"ticks\":\"\",\"zerolinecolor\":\"white\",\"gridwidth\":2}},\"shapedefaults\":{\"line\":{\"color\":\"#2a3f5f\"}},\"annotationdefaults\":{\"arrowcolor\":\"#2a3f5f\",\"arrowhead\":0,\"arrowwidth\":1},\"geo\":{\"bgcolor\":\"white\",\"landcolor\":\"#E5ECF6\",\"subunitcolor\":\"white\",\"showland\":true,\"showlakes\":true,\"lakecolor\":\"white\"},\"title\":{\"x\":0.05},\"mapbox\":{\"style\":\"light\"}}},\"xaxis\":{\"anchor\":\"y\",\"domain\":[0.0,1.0],\"title\":{\"text\":\"TotalSpending\"}},\"yaxis\":{\"anchor\":\"x\",\"domain\":[0.0,1.0],\"title\":{\"text\":\"TransactionCount\"}},\"legend\":{\"title\":{\"text\":\"Cluster\",\"font\":{\"size\":14}},\"tracegroupgap\":0},\"title\":{\"text\":\"K-Means Clustering with K=8\",\"font\":{\"size\":20}}},                        {\"responsive\": true}                    ).then(function(){\n",
       "                            \n",
       "var gd = document.getElementById('a8f372c8-ad83-40db-996f-b37559f108e4');\n",
       "var x = new MutationObserver(function (mutations, observer) {{\n",
       "        var display = window.getComputedStyle(gd).display;\n",
       "        if (!display || display === 'none') {{\n",
       "            console.log([gd, 'removed!']);\n",
       "            Plotly.purge(gd);\n",
       "            observer.disconnect();\n",
       "        }}\n",
       "}});\n",
       "\n",
       "// Listen for the removal of the full notebook cells\n",
       "var notebookContainer = gd.closest('#notebook-container');\n",
       "if (notebookContainer) {{\n",
       "    x.observe(notebookContainer, {childList: true});\n",
       "}}\n",
       "\n",
       "// Listen for the clearing of the current output cell\n",
       "var outputEl = gd.closest('.output');\n",
       "if (outputEl) {{\n",
       "    x.observe(outputEl, {childList: true});\n",
       "}}\n",
       "\n",
       "                        })                };                });            </script>        </div>"
      ]
     },
     "metadata": {},
     "output_type": "display_data"
    }
   ],
   "source": [
    "fig_kmeans = px.scatter(\n",
    "    customer_features,\n",
    "    x=\"TotalSpending\",\n",
    "    y=\"TransactionCount\",\n",
    "    color=customer_features[\"Best_KMeans_Cluster\"].astype(str),\n",
    "    title=f\"K-Means Clustering with K={best_k}\",\n",
    "    labels={\"color\": \"Cluster\"},\n",
    "    hover_data=[\"CustomerID\", \"Region\"]\n",
    ")\n",
    "fig_kmeans.update_traces(marker=dict(size=8, opacity=0.7))\n",
    "fig_kmeans.update_layout(title_font_size=20, legend_title_font_size=14)\n",
    "fig_kmeans.show()"
   ]
  },
  {
   "cell_type": "code",
   "execution_count": 154,
   "id": "bd5523f2-02c2-45e0-bb94-4fdb2bc7eefe",
   "metadata": {},
   "outputs": [],
   "source": [
    "best_dbscan = dbscan_results[np.argmin(dbscan_db_indexes)]\n",
    "customer_features[\"Best_DBSCAN_Cluster\"] = best_dbscan[2]"
   ]
  },
  {
   "cell_type": "code",
   "execution_count": 155,
   "id": "7d4ea5a4-856c-4e86-b949-1c04d5b5c9bd",
   "metadata": {},
   "outputs": [
    {
     "data": {
      "application/vnd.plotly.v1+json": {
       "config": {
        "plotlyServerURL": "https://plot.ly"
       },
       "data": [
        {
         "customdata": [
          [
           "C0001",
           3
          ],
          [
           "C0002",
           0
          ],
          [
           "C0003",
           3
          ],
          [
           "C0004",
           3
          ],
          [
           "C0005",
           0
          ],
          [
           "C0006",
           3
          ],
          [
           "C0007",
           0
          ],
          [
           "C0008",
           2
          ],
          [
           "C0009",
           1
          ],
          [
           "C0010",
           1
          ],
          [
           "C0011",
           3
          ],
          [
           "C0012",
           3
          ],
          [
           "C0013",
           3
          ],
          [
           "C0014",
           1
          ],
          [
           "C0015",
           2
          ],
          [
           "C0016",
           2
          ],
          [
           "C0017",
           1
          ],
          [
           "C0018",
           2
          ],
          [
           "C0019",
           1
          ],
          [
           "C0020",
           2
          ],
          [
           "C0021",
           0
          ],
          [
           "C0022",
           0
          ],
          [
           "C0023",
           1
          ],
          [
           "C0024",
           2
          ],
          [
           "C0025",
           3
          ],
          [
           "C0026",
           2
          ],
          [
           "C0027",
           0
          ],
          [
           "C0028",
           0
          ],
          [
           "C0029",
           2
          ],
          [
           "C0030",
           2
          ],
          [
           "C0031",
           3
          ],
          [
           "C0032",
           3
          ],
          [
           "C0033",
           2
          ],
          [
           "C0034",
           2
          ],
          [
           "C0035",
           2
          ],
          [
           "C0036",
           2
          ],
          [
           "C0037",
           1
          ],
          [
           "C0038",
           2
          ],
          [
           "C0039",
           3
          ],
          [
           "C0040",
           0
          ],
          [
           "C0041",
           1
          ],
          [
           "C0042",
           2
          ],
          [
           "C0043",
           0
          ],
          [
           "C0044",
           1
          ],
          [
           "C0045",
           0
          ],
          [
           "C0046",
           2
          ],
          [
           "C0047",
           2
          ],
          [
           "C0048",
           3
          ],
          [
           "C0049",
           2
          ],
          [
           "C0050",
           2
          ],
          [
           "C0051",
           1
          ],
          [
           "C0052",
           3
          ],
          [
           "C0053",
           1
          ],
          [
           "C0054",
           0
          ],
          [
           "C0055",
           2
          ],
          [
           "C0056",
           0
          ],
          [
           "C0057",
           1
          ],
          [
           "C0058",
           2
          ],
          [
           "C0059",
           2
          ],
          [
           "C0060",
           1
          ],
          [
           "C0061",
           1
          ],
          [
           "C0062",
           1
          ],
          [
           "C0063",
           1
          ],
          [
           "C0064",
           1
          ],
          [
           "C0065",
           2
          ],
          [
           "C0066",
           1
          ],
          [
           "C0067",
           2
          ],
          [
           "C0068",
           2
          ],
          [
           "C0069",
           1
          ],
          [
           "C0070",
           1
          ],
          [
           "C0071",
           3
          ],
          [
           "C0072",
           2
          ],
          [
           "C0073",
           1
          ],
          [
           "C0074",
           1
          ],
          [
           "C0075",
           1
          ],
          [
           "C0076",
           3
          ],
          [
           "C0077",
           3
          ],
          [
           "C0078",
           0
          ],
          [
           "C0079",
           2
          ],
          [
           "C0080",
           0
          ],
          [
           "C0081",
           1
          ],
          [
           "C0082",
           3
          ],
          [
           "C0083",
           3
          ],
          [
           "C0084",
           0
          ],
          [
           "C0085",
           3
          ],
          [
           "C0086",
           1
          ],
          [
           "C0087",
           3
          ],
          [
           "C0088",
           0
          ],
          [
           "C0089",
           1
          ],
          [
           "C0090",
           0
          ],
          [
           "C0091",
           3
          ],
          [
           "C0092",
           0
          ],
          [
           "C0093",
           0
          ],
          [
           "C0094",
           2
          ],
          [
           "C0095",
           3
          ],
          [
           "C0096",
           3
          ],
          [
           "C0097",
           0
          ],
          [
           "C0098",
           2
          ],
          [
           "C0099",
           3
          ],
          [
           "C0100",
           1
          ],
          [
           "C0101",
           0
          ],
          [
           "C0102",
           3
          ],
          [
           "C0103",
           1
          ],
          [
           "C0104",
           3
          ],
          [
           "C0105",
           1
          ],
          [
           "C0106",
           0
          ],
          [
           "C0107",
           3
          ],
          [
           "C0108",
           3
          ],
          [
           "C0109",
           2
          ],
          [
           "C0110",
           0
          ],
          [
           "C0111",
           1
          ],
          [
           "C0112",
           3
          ],
          [
           "C0113",
           3
          ],
          [
           "C0114",
           1
          ],
          [
           "C0115",
           0
          ],
          [
           "C0116",
           2
          ],
          [
           "C0117",
           2
          ],
          [
           "C0118",
           3
          ],
          [
           "C0119",
           1
          ],
          [
           "C0120",
           3
          ],
          [
           "C0121",
           1
          ],
          [
           "C0122",
           2
          ],
          [
           "C0123",
           0
          ],
          [
           "C0124",
           1
          ],
          [
           "C0125",
           2
          ],
          [
           "C0126",
           3
          ],
          [
           "C0127",
           1
          ],
          [
           "C0128",
           0
          ],
          [
           "C0129",
           3
          ],
          [
           "C0130",
           3
          ],
          [
           "C0131",
           2
          ],
          [
           "C0132",
           1
          ],
          [
           "C0133",
           3
          ],
          [
           "C0134",
           0
          ],
          [
           "C0135",
           1
          ],
          [
           "C0136",
           0
          ],
          [
           "C0137",
           3
          ],
          [
           "C0138",
           0
          ],
          [
           "C0139",
           2
          ],
          [
           "C0140",
           0
          ],
          [
           "C0142",
           0
          ],
          [
           "C0143",
           0
          ],
          [
           "C0144",
           2
          ],
          [
           "C0145",
           0
          ],
          [
           "C0146",
           0
          ],
          [
           "C0147",
           3
          ],
          [
           "C0148",
           3
          ],
          [
           "C0149",
           1
          ],
          [
           "C0150",
           3
          ],
          [
           "C0151",
           3
          ],
          [
           "C0152",
           3
          ],
          [
           "C0153",
           3
          ],
          [
           "C0154",
           2
          ],
          [
           "C0155",
           3
          ],
          [
           "C0156",
           2
          ],
          [
           "C0157",
           2
          ],
          [
           "C0158",
           3
          ],
          [
           "C0159",
           0
          ],
          [
           "C0160",
           2
          ],
          [
           "C0161",
           0
          ],
          [
           "C0162",
           0
          ],
          [
           "C0163",
           3
          ],
          [
           "C0164",
           1
          ],
          [
           "C0165",
           3
          ],
          [
           "C0166",
           1
          ],
          [
           "C0167",
           1
          ],
          [
           "C0168",
           3
          ],
          [
           "C0169",
           3
          ],
          [
           "C0170",
           1
          ],
          [
           "C0171",
           3
          ],
          [
           "C0172",
           1
          ],
          [
           "C0173",
           0
          ],
          [
           "C0174",
           3
          ],
          [
           "C0175",
           0
          ],
          [
           "C0176",
           2
          ],
          [
           "C0177",
           0
          ],
          [
           "C0178",
           0
          ],
          [
           "C0179",
           1
          ],
          [
           "C0181",
           3
          ],
          [
           "C0182",
           1
          ],
          [
           "C0183",
           2
          ],
          [
           "C0184",
           3
          ],
          [
           "C0185",
           2
          ],
          [
           "C0186",
           0
          ],
          [
           "C0187",
           3
          ],
          [
           "C0188",
           3
          ],
          [
           "C0189",
           2
          ],
          [
           "C0190",
           3
          ],
          [
           "C0191",
           3
          ],
          [
           "C0192",
           3
          ],
          [
           "C0193",
           0
          ],
          [
           "C0194",
           2
          ],
          [
           "C0195",
           3
          ],
          [
           "C0196",
           1
          ],
          [
           "C0197",
           1
          ],
          [
           "C0198",
           1
          ],
          [
           "C0199",
           1
          ],
          [
           "C0200",
           0
          ]
         ],
         "hovertemplate": "Cluster=0<br>TotalSpending=%{x}<br>TransactionCount=%{y}<br>CustomerID=%{customdata[0]}<br>Region=%{customdata[1]}<extra></extra>",
         "legendgroup": "0",
         "marker": {
          "color": "#636efa",
          "opacity": 0.7,
          "size": 8,
          "symbol": "circle"
         },
         "mode": "markers",
         "name": "0",
         "orientation": "v",
         "showlegend": true,
         "type": "scatter",
         "x": [
          -0.06170142816431181,
          -0.877743531947443,
          -0.40585722136043945,
          1.032547041934244,
          -0.7839286123220244,
          0.4158794206926657,
          -0.4854822925014072,
          0.4399704356215487,
          -1.4063017123489852,
          -0.9571662035533585,
          0.1436958081094616,
          0.9649237161960846,
          1.385750641372963,
          -1.7223950835230486,
          -1.2635389267872257,
          0.22269726987216107,
          0.7037517323712461,
          0.7190848647158556,
          -0.7010104460431852,
          -1.3921282746376464,
          1.0681255980417497,
          0.6497329375431989,
          0.9252041750065709,
          0.08736309427257756,
          -1.0270432754656091,
          0.04471149495366286,
          -0.494716087505938,
          1.8337702175969515,
          -0.9197934029189061,
          -0.5019696492215825,
          -0.7997157760560744,
          -1.528561972035755,
          -1.8241528173348291,
          -0.21559071789622303,
          -0.48122096174990836,
          -0.8694177997217936,
          0.4296644701070133,
          -0.4214638665902541,
          0.4224601407107056,
          0.27465377754576,
          1.467377826833633,
          -0.5824863723683196,
          -1.2778491209411669,
          -0.12975690426109548,
          1.3973694687364842,
          1.1818577259678182,
          -0.3264509605276362,
          0.20985310478291982,
          -0.6300830846517461,
          -0.21798122051291757,
          1.2211013547370748,
          -0.5357047284828045,
          1.0115303118350685,
          2.5015902186296253,
          -0.33348571193511645,
          -0.15556010985136345,
          0.5848173893685725,
          -1.6799021216775527,
          1.972556125807826,
          -1.8516572730710743,
          -0.7270269916839133,
          -0.9998396839030899,
          -1.1428158095153096,
          0.3131479810095544,
          2.2955310811736545,
          0.1815937534835081,
          0.341084587104424,
          1.3583227692445752,
          -0.32199270049878975,
          -0.18698674036145282,
          -1.1304202055578052,
          -0.25585728485614767,
          -0.7695418345602255,
          -0.2254262412482057,
          1.3028270048364194,
          -0.6204663716079277,
          -1.438685637957293,
          -1.3521352205629271,
          0.429002568924816,
          -1.3455709113179999,
          0.041117535642065106,
          2.245866611478076,
          -1.5450821503021555,
          0.5326858334484423,
          -0.4753568454911068,
          -0.3898293662874089,
          1.715973688196732,
          -0.7286024259026959,
          -0.49839210068309714,
          0.36696984656025367,
          -0.18032943673555574,
          -0.24690794325223037,
          0.9997856685443527,
          -1.258347652226029,
          -1.1941815293568652,
          1.4253334261198742,
          -1.8214723910598172,
          -0.16919199204999577,
          1.7769615913398105,
          0.8403057754388452,
          1.1398242657694675,
          1.4578486379130806,
          -0.5496320045974588,
          1.7022269305863138,
          0.7330887244383668,
          -0.28883746855420295,
          0.08566731438430474,
          0.7555660133445387,
          1.1049568431634955,
          -1.3812369915487712,
          -0.8174175299865616,
          -0.8248078481448089,
          0.7356323942707764,
          1.2653338585324767,
          -0.18059200910535284,
          -0.38764126320576625,
          0.3068571846498327,
          -0.017802610088861078,
          -1.2448689372431117,
          -0.5455457220924914,
          -1.3636227617415497,
          0.8781052561742182,
          -1.1308414154010213,
          0.43598808801295963,
          -0.2698775553517715,
          0.6007741310914498,
          -0.12824164287705786,
          -1.4737554600983167,
          -0.6168833528117381,
          -1.5677508982279706,
          -0.8333906824825512,
          -0.8840233877917568,
          -0.318907475153674,
          -0.4310751093763682,
          -0.18146725033800976,
          0.4549480012153911,
          -0.07371958434023292,
          1.172241012924,
          0.12927620880143798,
          -0.8638490773790137,
          -0.6718977345419327,
          1.409858067074958,
          -1.1830167333827848,
          1.2603231024755157,
          -0.49041646495051056,
          -0.2838376530126501,
          1.0888414639671993,
          0.5128178574671288,
          -1.5792493799220015,
          -1.7741984239809327,
          -0.04455764051964389,
          0.6988120896644384,
          0.1292597980283258,
          1.0451012833651672,
          2.2795305773891443,
          -0.8704352676547574,
          0.13632190072432662,
          -0.7630486386654517,
          -0.2956041773341823,
          -0.17804833927294347,
          0.7302387201745276,
          1.2625166758148618,
          -0.2076643144829735,
          1.7727932549692818,
          -0.5809218786649449,
          -0.6383212927541297,
          0.8678649337521316,
          0.5831325499957078,
          0.8010785574427008,
          0.9179287322601103,
          -0.6923236768090647,
          1.2804372400535133,
          -0.3147391387831453,
          1.500609642386077,
          -0.6214181964484421,
          -0.5237795666878534,
          -0.41491049786073503,
          0.10148182940687522,
          -0.06548684649555322,
          0.8278992309659325,
          0.20945924622822454,
          -0.040553411880237936,
          -0.02351902938965204,
          -0.9330478373359552,
          0.6264132289505948,
          1.9933649861142457,
          -0.4508063289150788,
          -0.2649215018718515,
          -0.25674346660421277,
          -0.7628790606766243,
          -0.25055113488316466,
          0.2198253845775054,
          0.3112333908131173,
          0.8290534553414993,
          -0.8416890634196801,
          -1.3869752918803786,
          -0.8139931486637912,
          0.7063665155538091
         ],
         "xaxis": "x",
         "y": [
          -0.011458189609547545,
          -0.46749413606953183,
          -0.46749413606953183,
          1.3566496497704053,
          -0.9235300825295161,
          -0.46749413606953183,
          -0.9235300825295161,
          2.2687215426903737,
          -0.9235300825295161,
          -0.46749413606953183,
          -0.011458189609547545,
          0.900613703310421,
          0.900613703310421,
          -1.8356019754494848,
          -1.3795660289895004,
          -0.011458189609547545,
          1.3566496497704053,
          -0.011458189609547545,
          0.44457775685043677,
          -1.8356019754494848,
          1.3566496497704053,
          0.44457775685043677,
          0.44457775685043677,
          0.900613703310421,
          -0.46749413606953183,
          -0.46749413606953183,
          -0.46749413606953183,
          1.3566496497704053,
          -0.46749413606953183,
          -0.011458189609547545,
          -0.46749413606953183,
          -0.9235300825295161,
          -1.8356019754494848,
          0.44457775685043677,
          -0.46749413606953183,
          -0.9235300825295161,
          -0.011458189609547545,
          -0.011458189609547545,
          0.44457775685043677,
          -0.9235300825295161,
          0.900613703310421,
          -0.9235300825295161,
          -0.9235300825295161,
          -0.9235300825295161,
          0.900613703310421,
          0.900613703310421,
          0.900613703310421,
          -0.011458189609547545,
          1.3566496497704053,
          -0.9235300825295161,
          0.900613703310421,
          -0.46749413606953183,
          0.44457775685043677,
          1.3566496497704053,
          -0.011458189609547545,
          -0.011458189609547545,
          0.44457775685043677,
          -1.8356019754494848,
          1.3566496497704053,
          -1.8356019754494848,
          -0.9235300825295161,
          -0.9235300825295161,
          -1.3795660289895004,
          -0.011458189609547545,
          2.2687215426903737,
          -0.9235300825295161,
          0.44457775685043677,
          1.3566496497704053,
          -0.011458189609547545,
          -0.46749413606953183,
          -0.9235300825295161,
          -0.011458189609547545,
          -0.9235300825295161,
          -0.9235300825295161,
          1.8126855962303896,
          -0.011458189609547545,
          -0.9235300825295161,
          -1.8356019754494848,
          -0.46749413606953183,
          -1.8356019754494848,
          0.44457775685043677,
          0.900613703310421,
          -0.9235300825295161,
          1.8126855962303896,
          -0.9235300825295161,
          -0.011458189609547545,
          0.900613703310421,
          -0.011458189609547545,
          -1.3795660289895004,
          0.900613703310421,
          0.44457775685043677,
          -0.46749413606953183,
          1.8126855962303896,
          -0.46749413606953183,
          -1.3795660289895004,
          -0.011458189609547545,
          -1.8356019754494848,
          1.3566496497704053,
          1.3566496497704053,
          0.44457775685043677,
          1.3566496497704053,
          1.3566496497704053,
          -0.011458189609547545,
          1.3566496497704053,
          0.44457775685043677,
          -0.011458189609547545,
          -0.011458189609547545,
          0.900613703310421,
          2.7247574891503583,
          -1.8356019754494848,
          -0.011458189609547545,
          -0.9235300825295161,
          1.3566496497704053,
          -0.011458189609547545,
          -0.9235300825295161,
          0.44457775685043677,
          -0.46749413606953183,
          0.44457775685043677,
          -0.011458189609547545,
          -0.9235300825295161,
          -0.46749413606953183,
          0.900613703310421,
          -1.3795660289895004,
          0.900613703310421,
          -0.46749413606953183,
          0.44457775685043677,
          0.44457775685043677,
          -1.3795660289895004,
          -0.9235300825295161,
          -1.8356019754494848,
          -0.9235300825295161,
          -0.9235300825295161,
          -0.46749413606953183,
          -0.011458189609547545,
          -0.46749413606953183,
          0.44457775685043677,
          -0.011458189609547545,
          -0.011458189609547545,
          1.3566496497704053,
          -1.3795660289895004,
          -0.46749413606953183,
          0.900613703310421,
          -1.3795660289895004,
          1.3566496497704053,
          -0.46749413606953183,
          1.8126855962303896,
          -0.011458189609547545,
          -0.011458189609547545,
          -1.8356019754494848,
          -1.8356019754494848,
          -0.011458189609547545,
          0.44457775685043677,
          0.44457775685043677,
          0.900613703310421,
          2.7247574891503583,
          -0.011458189609547545,
          -0.46749413606953183,
          -0.9235300825295161,
          -0.011458189609547545,
          1.3566496497704053,
          1.3566496497704053,
          0.44457775685043677,
          -0.011458189609547545,
          1.8126855962303896,
          -0.46749413606953183,
          -0.9235300825295161,
          -0.46749413606953183,
          0.44457775685043677,
          -0.011458189609547545,
          -0.011458189609547545,
          0.44457775685043677,
          1.3566496497704053,
          -0.011458189609547545,
          2.2687215426903737,
          -0.9235300825295161,
          -0.46749413606953183,
          -0.46749413606953183,
          0.44457775685043677,
          0.44457775685043677,
          -0.011458189609547545,
          -0.011458189609547545,
          0.900613703310421,
          -0.9235300825295161,
          -0.9235300825295161,
          -0.011458189609547545,
          1.3566496497704053,
          -0.011458189609547545,
          -0.011458189609547545,
          -0.011458189609547545,
          -0.46749413606953183,
          -0.46749413606953183,
          0.900613703310421,
          0.44457775685043677,
          -0.46749413606953183,
          -0.9235300825295161,
          -1.3795660289895004,
          -0.46749413606953183,
          -0.011458189609547545
         ],
         "yaxis": "y"
        },
        {
         "customdata": [
          [
           "C0141",
           1
          ]
         ],
         "hovertemplate": "Cluster=-1<br>TotalSpending=%{x}<br>TransactionCount=%{y}<br>CustomerID=%{customdata[0]}<br>Region=%{customdata[1]}<extra></extra>",
         "legendgroup": "-1",
         "marker": {
          "color": "#EF553B",
          "opacity": 0.7,
          "size": 8,
          "symbol": "circle"
         },
         "mode": "markers",
         "name": "-1",
         "orientation": "v",
         "showlegend": true,
         "type": "scatter",
         "x": [
          3.942171644490543
         ],
         "xaxis": "x",
         "y": [
          2.2687215426903737
         ],
         "yaxis": "y"
        }
       ],
       "layout": {
        "autosize": true,
        "legend": {
         "title": {
          "font": {
           "size": 14
          },
          "text": "Cluster"
         },
         "tracegroupgap": 0
        },
        "template": {
         "data": {
          "bar": [
           {
            "error_x": {
             "color": "#2a3f5f"
            },
            "error_y": {
             "color": "#2a3f5f"
            },
            "marker": {
             "line": {
              "color": "#E5ECF6",
              "width": 0.5
             },
             "pattern": {
              "fillmode": "overlay",
              "size": 10,
              "solidity": 0.2
             }
            },
            "type": "bar"
           }
          ],
          "barpolar": [
           {
            "marker": {
             "line": {
              "color": "#E5ECF6",
              "width": 0.5
             },
             "pattern": {
              "fillmode": "overlay",
              "size": 10,
              "solidity": 0.2
             }
            },
            "type": "barpolar"
           }
          ],
          "carpet": [
           {
            "aaxis": {
             "endlinecolor": "#2a3f5f",
             "gridcolor": "white",
             "linecolor": "white",
             "minorgridcolor": "white",
             "startlinecolor": "#2a3f5f"
            },
            "baxis": {
             "endlinecolor": "#2a3f5f",
             "gridcolor": "white",
             "linecolor": "white",
             "minorgridcolor": "white",
             "startlinecolor": "#2a3f5f"
            },
            "type": "carpet"
           }
          ],
          "choropleth": [
           {
            "colorbar": {
             "outlinewidth": 0,
             "ticks": ""
            },
            "type": "choropleth"
           }
          ],
          "contour": [
           {
            "colorbar": {
             "outlinewidth": 0,
             "ticks": ""
            },
            "colorscale": [
             [
              0,
              "#0d0887"
             ],
             [
              0.1111111111111111,
              "#46039f"
             ],
             [
              0.2222222222222222,
              "#7201a8"
             ],
             [
              0.3333333333333333,
              "#9c179e"
             ],
             [
              0.4444444444444444,
              "#bd3786"
             ],
             [
              0.5555555555555556,
              "#d8576b"
             ],
             [
              0.6666666666666666,
              "#ed7953"
             ],
             [
              0.7777777777777778,
              "#fb9f3a"
             ],
             [
              0.8888888888888888,
              "#fdca26"
             ],
             [
              1,
              "#f0f921"
             ]
            ],
            "type": "contour"
           }
          ],
          "contourcarpet": [
           {
            "colorbar": {
             "outlinewidth": 0,
             "ticks": ""
            },
            "type": "contourcarpet"
           }
          ],
          "heatmap": [
           {
            "colorbar": {
             "outlinewidth": 0,
             "ticks": ""
            },
            "colorscale": [
             [
              0,
              "#0d0887"
             ],
             [
              0.1111111111111111,
              "#46039f"
             ],
             [
              0.2222222222222222,
              "#7201a8"
             ],
             [
              0.3333333333333333,
              "#9c179e"
             ],
             [
              0.4444444444444444,
              "#bd3786"
             ],
             [
              0.5555555555555556,
              "#d8576b"
             ],
             [
              0.6666666666666666,
              "#ed7953"
             ],
             [
              0.7777777777777778,
              "#fb9f3a"
             ],
             [
              0.8888888888888888,
              "#fdca26"
             ],
             [
              1,
              "#f0f921"
             ]
            ],
            "type": "heatmap"
           }
          ],
          "heatmapgl": [
           {
            "colorbar": {
             "outlinewidth": 0,
             "ticks": ""
            },
            "colorscale": [
             [
              0,
              "#0d0887"
             ],
             [
              0.1111111111111111,
              "#46039f"
             ],
             [
              0.2222222222222222,
              "#7201a8"
             ],
             [
              0.3333333333333333,
              "#9c179e"
             ],
             [
              0.4444444444444444,
              "#bd3786"
             ],
             [
              0.5555555555555556,
              "#d8576b"
             ],
             [
              0.6666666666666666,
              "#ed7953"
             ],
             [
              0.7777777777777778,
              "#fb9f3a"
             ],
             [
              0.8888888888888888,
              "#fdca26"
             ],
             [
              1,
              "#f0f921"
             ]
            ],
            "type": "heatmapgl"
           }
          ],
          "histogram": [
           {
            "marker": {
             "pattern": {
              "fillmode": "overlay",
              "size": 10,
              "solidity": 0.2
             }
            },
            "type": "histogram"
           }
          ],
          "histogram2d": [
           {
            "colorbar": {
             "outlinewidth": 0,
             "ticks": ""
            },
            "colorscale": [
             [
              0,
              "#0d0887"
             ],
             [
              0.1111111111111111,
              "#46039f"
             ],
             [
              0.2222222222222222,
              "#7201a8"
             ],
             [
              0.3333333333333333,
              "#9c179e"
             ],
             [
              0.4444444444444444,
              "#bd3786"
             ],
             [
              0.5555555555555556,
              "#d8576b"
             ],
             [
              0.6666666666666666,
              "#ed7953"
             ],
             [
              0.7777777777777778,
              "#fb9f3a"
             ],
             [
              0.8888888888888888,
              "#fdca26"
             ],
             [
              1,
              "#f0f921"
             ]
            ],
            "type": "histogram2d"
           }
          ],
          "histogram2dcontour": [
           {
            "colorbar": {
             "outlinewidth": 0,
             "ticks": ""
            },
            "colorscale": [
             [
              0,
              "#0d0887"
             ],
             [
              0.1111111111111111,
              "#46039f"
             ],
             [
              0.2222222222222222,
              "#7201a8"
             ],
             [
              0.3333333333333333,
              "#9c179e"
             ],
             [
              0.4444444444444444,
              "#bd3786"
             ],
             [
              0.5555555555555556,
              "#d8576b"
             ],
             [
              0.6666666666666666,
              "#ed7953"
             ],
             [
              0.7777777777777778,
              "#fb9f3a"
             ],
             [
              0.8888888888888888,
              "#fdca26"
             ],
             [
              1,
              "#f0f921"
             ]
            ],
            "type": "histogram2dcontour"
           }
          ],
          "mesh3d": [
           {
            "colorbar": {
             "outlinewidth": 0,
             "ticks": ""
            },
            "type": "mesh3d"
           }
          ],
          "parcoords": [
           {
            "line": {
             "colorbar": {
              "outlinewidth": 0,
              "ticks": ""
             }
            },
            "type": "parcoords"
           }
          ],
          "pie": [
           {
            "automargin": true,
            "type": "pie"
           }
          ],
          "scatter": [
           {
            "fillpattern": {
             "fillmode": "overlay",
             "size": 10,
             "solidity": 0.2
            },
            "type": "scatter"
           }
          ],
          "scatter3d": [
           {
            "line": {
             "colorbar": {
              "outlinewidth": 0,
              "ticks": ""
             }
            },
            "marker": {
             "colorbar": {
              "outlinewidth": 0,
              "ticks": ""
             }
            },
            "type": "scatter3d"
           }
          ],
          "scattercarpet": [
           {
            "marker": {
             "colorbar": {
              "outlinewidth": 0,
              "ticks": ""
             }
            },
            "type": "scattercarpet"
           }
          ],
          "scattergeo": [
           {
            "marker": {
             "colorbar": {
              "outlinewidth": 0,
              "ticks": ""
             }
            },
            "type": "scattergeo"
           }
          ],
          "scattergl": [
           {
            "marker": {
             "colorbar": {
              "outlinewidth": 0,
              "ticks": ""
             }
            },
            "type": "scattergl"
           }
          ],
          "scattermapbox": [
           {
            "marker": {
             "colorbar": {
              "outlinewidth": 0,
              "ticks": ""
             }
            },
            "type": "scattermapbox"
           }
          ],
          "scatterpolar": [
           {
            "marker": {
             "colorbar": {
              "outlinewidth": 0,
              "ticks": ""
             }
            },
            "type": "scatterpolar"
           }
          ],
          "scatterpolargl": [
           {
            "marker": {
             "colorbar": {
              "outlinewidth": 0,
              "ticks": ""
             }
            },
            "type": "scatterpolargl"
           }
          ],
          "scatterternary": [
           {
            "marker": {
             "colorbar": {
              "outlinewidth": 0,
              "ticks": ""
             }
            },
            "type": "scatterternary"
           }
          ],
          "surface": [
           {
            "colorbar": {
             "outlinewidth": 0,
             "ticks": ""
            },
            "colorscale": [
             [
              0,
              "#0d0887"
             ],
             [
              0.1111111111111111,
              "#46039f"
             ],
             [
              0.2222222222222222,
              "#7201a8"
             ],
             [
              0.3333333333333333,
              "#9c179e"
             ],
             [
              0.4444444444444444,
              "#bd3786"
             ],
             [
              0.5555555555555556,
              "#d8576b"
             ],
             [
              0.6666666666666666,
              "#ed7953"
             ],
             [
              0.7777777777777778,
              "#fb9f3a"
             ],
             [
              0.8888888888888888,
              "#fdca26"
             ],
             [
              1,
              "#f0f921"
             ]
            ],
            "type": "surface"
           }
          ],
          "table": [
           {
            "cells": {
             "fill": {
              "color": "#EBF0F8"
             },
             "line": {
              "color": "white"
             }
            },
            "header": {
             "fill": {
              "color": "#C8D4E3"
             },
             "line": {
              "color": "white"
             }
            },
            "type": "table"
           }
          ]
         },
         "layout": {
          "annotationdefaults": {
           "arrowcolor": "#2a3f5f",
           "arrowhead": 0,
           "arrowwidth": 1
          },
          "autotypenumbers": "strict",
          "coloraxis": {
           "colorbar": {
            "outlinewidth": 0,
            "ticks": ""
           }
          },
          "colorscale": {
           "diverging": [
            [
             0,
             "#8e0152"
            ],
            [
             0.1,
             "#c51b7d"
            ],
            [
             0.2,
             "#de77ae"
            ],
            [
             0.3,
             "#f1b6da"
            ],
            [
             0.4,
             "#fde0ef"
            ],
            [
             0.5,
             "#f7f7f7"
            ],
            [
             0.6,
             "#e6f5d0"
            ],
            [
             0.7,
             "#b8e186"
            ],
            [
             0.8,
             "#7fbc41"
            ],
            [
             0.9,
             "#4d9221"
            ],
            [
             1,
             "#276419"
            ]
           ],
           "sequential": [
            [
             0,
             "#0d0887"
            ],
            [
             0.1111111111111111,
             "#46039f"
            ],
            [
             0.2222222222222222,
             "#7201a8"
            ],
            [
             0.3333333333333333,
             "#9c179e"
            ],
            [
             0.4444444444444444,
             "#bd3786"
            ],
            [
             0.5555555555555556,
             "#d8576b"
            ],
            [
             0.6666666666666666,
             "#ed7953"
            ],
            [
             0.7777777777777778,
             "#fb9f3a"
            ],
            [
             0.8888888888888888,
             "#fdca26"
            ],
            [
             1,
             "#f0f921"
            ]
           ],
           "sequentialminus": [
            [
             0,
             "#0d0887"
            ],
            [
             0.1111111111111111,
             "#46039f"
            ],
            [
             0.2222222222222222,
             "#7201a8"
            ],
            [
             0.3333333333333333,
             "#9c179e"
            ],
            [
             0.4444444444444444,
             "#bd3786"
            ],
            [
             0.5555555555555556,
             "#d8576b"
            ],
            [
             0.6666666666666666,
             "#ed7953"
            ],
            [
             0.7777777777777778,
             "#fb9f3a"
            ],
            [
             0.8888888888888888,
             "#fdca26"
            ],
            [
             1,
             "#f0f921"
            ]
           ]
          },
          "colorway": [
           "#636efa",
           "#EF553B",
           "#00cc96",
           "#ab63fa",
           "#FFA15A",
           "#19d3f3",
           "#FF6692",
           "#B6E880",
           "#FF97FF",
           "#FECB52"
          ],
          "font": {
           "color": "#2a3f5f"
          },
          "geo": {
           "bgcolor": "white",
           "lakecolor": "white",
           "landcolor": "#E5ECF6",
           "showlakes": true,
           "showland": true,
           "subunitcolor": "white"
          },
          "hoverlabel": {
           "align": "left"
          },
          "hovermode": "closest",
          "mapbox": {
           "style": "light"
          },
          "paper_bgcolor": "white",
          "plot_bgcolor": "#E5ECF6",
          "polar": {
           "angularaxis": {
            "gridcolor": "white",
            "linecolor": "white",
            "ticks": ""
           },
           "bgcolor": "#E5ECF6",
           "radialaxis": {
            "gridcolor": "white",
            "linecolor": "white",
            "ticks": ""
           }
          },
          "scene": {
           "xaxis": {
            "backgroundcolor": "#E5ECF6",
            "gridcolor": "white",
            "gridwidth": 2,
            "linecolor": "white",
            "showbackground": true,
            "ticks": "",
            "zerolinecolor": "white"
           },
           "yaxis": {
            "backgroundcolor": "#E5ECF6",
            "gridcolor": "white",
            "gridwidth": 2,
            "linecolor": "white",
            "showbackground": true,
            "ticks": "",
            "zerolinecolor": "white"
           },
           "zaxis": {
            "backgroundcolor": "#E5ECF6",
            "gridcolor": "white",
            "gridwidth": 2,
            "linecolor": "white",
            "showbackground": true,
            "ticks": "",
            "zerolinecolor": "white"
           }
          },
          "shapedefaults": {
           "line": {
            "color": "#2a3f5f"
           }
          },
          "ternary": {
           "aaxis": {
            "gridcolor": "white",
            "linecolor": "white",
            "ticks": ""
           },
           "baxis": {
            "gridcolor": "white",
            "linecolor": "white",
            "ticks": ""
           },
           "bgcolor": "#E5ECF6",
           "caxis": {
            "gridcolor": "white",
            "linecolor": "white",
            "ticks": ""
           }
          },
          "title": {
           "x": 0.05
          },
          "xaxis": {
           "automargin": true,
           "gridcolor": "white",
           "linecolor": "white",
           "ticks": "",
           "title": {
            "standoff": 15
           },
           "zerolinecolor": "white",
           "zerolinewidth": 2
          },
          "yaxis": {
           "automargin": true,
           "gridcolor": "white",
           "linecolor": "white",
           "ticks": "",
           "title": {
            "standoff": 15
           },
           "zerolinecolor": "white",
           "zerolinewidth": 2
          }
         }
        },
        "title": {
         "font": {
          "size": 20
         },
         "text": "DBSCAN Clustering with eps=1.5 & min_samples=5"
        },
        "xaxis": {
         "anchor": "y",
         "autorange": true,
         "domain": [
          0,
          1
         ],
         "range": [
          -2.2124156746899915,
          4.30293004610946
         ],
         "title": {
          "text": "TotalSpending"
         },
         "type": "linear"
        },
        "yaxis": {
         "anchor": "x",
         "autorange": true,
         "domain": [
          0,
          1
         ],
         "range": [
          -2.255635084031049,
          3.1447905977319226
         ],
         "title": {
          "text": "TransactionCount"
         },
         "type": "linear"
        }
       }
      },
      "image/png": "[encoded data removed]",
      "text/html": [
       "<div>                            <div id=\"017bd8be-bc00-44f4-947c-dba564d52d10\" class=\"plotly-graph-div\" style=\"height:525px; width:100%;\"></div>            <script type=\"text/javascript\">                require([\"plotly\"], function(Plotly) {                    window.PLOTLYENV=window.PLOTLYENV || {};                                    if (document.getElementById(\"017bd8be-bc00-44f4-947c-dba564d52d10\")) {                    Plotly.newPlot(                        \"017bd8be-bc00-44f4-947c-dba564d52d10\",                        [{\"customdata\":[[\"C0001\",3],[\"C0002\",0],[\"C0003\",3],[\"C0004\",3],[\"C0005\",0],[\"C0006\",3],[\"C0007\",0],[\"C0008\",2],[\"C0009\",1],[\"C0010\",1],[\"C0011\",3],[\"C0012\",3],[\"C0013\",3],[\"C0014\",1],[\"C0015\",2],[\"C0016\",2],[\"C0017\",1],[\"C0018\",2],[\"C0019\",1],[\"C0020\",2],[\"C0021\",0],[\"C0022\",0],[\"C0023\",1],[\"C0024\",2],[\"C0025\",3],[\"C0026\",2],[\"C0027\",0],[\"C0028\",0],[\"C0029\",2],[\"C0030\",2],[\"C0031\",3],[\"C0032\",3],[\"C0033\",2],[\"C0034\",2],[\"C0035\",2],[\"C0036\",2],[\"C0037\",1],[\"C0038\",2],[\"C0039\",3],[\"C0040\",0],[\"C0041\",1],[\"C0042\",2],[\"C0043\",0],[\"C0044\",1],[\"C0045\",0],[\"C0046\",2],[\"C0047\",2],[\"C0048\",3],[\"C0049\",2],[\"C0050\",2],[\"C0051\",1],[\"C0052\",3],[\"C0053\",1],[\"C0054\",0],[\"C0055\",2],[\"C0056\",0],[\"C0057\",1],[\"C0058\",2],[\"C0059\",2],[\"C0060\",1],[\"C0061\",1],[\"C0062\",1],[\"C0063\",1],[\"C0064\",1],[\"C0065\",2],[\"C0066\",1],[\"C0067\",2],[\"C0068\",2],[\"C0069\",1],[\"C0070\",1],[\"C0071\",3],[\"C0072\",2],[\"C0073\",1],[\"C0074\",1],[\"C0075\",1],[\"C0076\",3],[\"C0077\",3],[\"C0078\",0],[\"C0079\",2],[\"C0080\",0],[\"C0081\",1],[\"C0082\",3],[\"C0083\",3],[\"C0084\",0],[\"C0085\",3],[\"C0086\",1],[\"C0087\",3],[\"C0088\",0],[\"C0089\",1],[\"C0090\",0],[\"C0091\",3],[\"C0092\",0],[\"C0093\",0],[\"C0094\",2],[\"C0095\",3],[\"C0096\",3],[\"C0097\",0],[\"C0098\",2],[\"C0099\",3],[\"C0100\",1],[\"C0101\",0],[\"C0102\",3],[\"C0103\",1],[\"C0104\",3],[\"C0105\",1],[\"C0106\",0],[\"C0107\",3],[\"C0108\",3],[\"C0109\",2],[\"C0110\",0],[\"C0111\",1],[\"C0112\",3],[\"C0113\",3],[\"C0114\",1],[\"C0115\",0],[\"C0116\",2],[\"C0117\",2],[\"C0118\",3],[\"C0119\",1],[\"C0120\",3],[\"C0121\",1],[\"C0122\",2],[\"C0123\",0],[\"C0124\",1],[\"C0125\",2],[\"C0126\",3],[\"C0127\",1],[\"C0128\",0],[\"C0129\",3],[\"C0130\",3],[\"C0131\",2],[\"C0132\",1],[\"C0133\",3],[\"C0134\",0],[\"C0135\",1],[\"C0136\",0],[\"C0137\",3],[\"C0138\",0],[\"C0139\",2],[\"C0140\",0],[\"C0142\",0],[\"C0143\",0],[\"C0144\",2],[\"C0145\",0],[\"C0146\",0],[\"C0147\",3],[\"C0148\",3],[\"C0149\",1],[\"C0150\",3],[\"C0151\",3],[\"C0152\",3],[\"C0153\",3],[\"C0154\",2],[\"C0155\",3],[\"C0156\",2],[\"C0157\",2],[\"C0158\",3],[\"C0159\",0],[\"C0160\",2],[\"C0161\",0],[\"C0162\",0],[\"C0163\",3],[\"C0164\",1],[\"C0165\",3],[\"C0166\",1],[\"C0167\",1],[\"C0168\",3],[\"C0169\",3],[\"C0170\",1],[\"C0171\",3],[\"C0172\",1],[\"C0173\",0],[\"C0174\",3],[\"C0175\",0],[\"C0176\",2],[\"C0177\",0],[\"C0178\",0],[\"C0179\",1],[\"C0181\",3],[\"C0182\",1],[\"C0183\",2],[\"C0184\",3],[\"C0185\",2],[\"C0186\",0],[\"C0187\",3],[\"C0188\",3],[\"C0189\",2],[\"C0190\",3],[\"C0191\",3],[\"C0192\",3],[\"C0193\",0],[\"C0194\",2],[\"C0195\",3],[\"C0196\",1],[\"C0197\",1],[\"C0198\",1],[\"C0199\",1],[\"C0200\",0]],\"hovertemplate\":\"Cluster=0\\u003cbr\\u003eTotalSpending=%{x}\\u003cbr\\u003eTransactionCount=%{y}\\u003cbr\\u003eCustomerID=%{customdata[0]}\\u003cbr\\u003eRegion=%{customdata[1]}\\u003cextra\\u003e\\u003c\\u002fextra\\u003e\",\"legendgroup\":\"0\",\"marker\":{\"color\":\"#636efa\",\"symbol\":\"circle\",\"opacity\":0.7,\"size\":8},\"mode\":\"markers\",\"name\":\"0\",\"orientation\":\"v\",\"showlegend\":true,\"x\":[-0.06170142816431181,-0.877743531947443,-0.40585722136043945,1.032547041934244,-0.7839286123220244,0.4158794206926657,-0.4854822925014072,0.4399704356215487,-1.4063017123489852,-0.9571662035533585,0.1436958081094616,0.9649237161960846,1.385750641372963,-1.7223950835230486,-1.2635389267872257,0.22269726987216107,0.7037517323712461,0.7190848647158556,-0.7010104460431852,-1.3921282746376464,1.0681255980417497,0.6497329375431989,0.9252041750065709,0.08736309427257756,-1.0270432754656091,0.04471149495366286,-0.494716087505938,1.8337702175969515,-0.9197934029189061,-0.5019696492215825,-0.7997157760560744,-1.528561972035755,-1.8241528173348291,-0.21559071789622303,-0.48122096174990836,-0.8694177997217936,0.4296644701070133,-0.4214638665902541,0.4224601407107056,0.27465377754576,1.467377826833633,-0.5824863723683196,-1.2778491209411669,-0.12975690426109548,1.3973694687364842,1.1818577259678182,-0.3264509605276362,0.20985310478291982,-0.6300830846517461,-0.21798122051291757,1.2211013547370748,-0.5357047284828045,1.0115303118350685,2.5015902186296253,-0.33348571193511645,-0.15556010985136345,0.5848173893685725,-1.6799021216775527,1.972556125807826,-1.8516572730710743,-0.7270269916839133,-0.9998396839030899,-1.1428158095153096,0.3131479810095544,2.2955310811736545,0.1815937534835081,0.341084587104424,1.3583227692445752,-0.32199270049878975,-0.18698674036145282,-1.1304202055578052,-0.25585728485614767,-0.7695418345602255,-0.2254262412482057,1.3028270048364194,-0.6204663716079277,-1.438685637957293,-1.3521352205629271,0.429002568924816,-1.3455709113179999,0.041117535642065106,2.245866611478076,-1.5450821503021555,0.5326858334484423,-0.4753568454911068,-0.3898293662874089,1.715973688196732,-0.7286024259026959,-0.49839210068309714,0.36696984656025367,-0.18032943673555574,-0.24690794325223037,0.9997856685443527,-1.258347652226029,-1.1941815293568652,1.4253334261198742,-1.8214723910598172,-0.16919199204999577,1.7769615913398105,0.8403057754388452,1.1398242657694675,1.4578486379130806,-0.5496320045974588,1.7022269305863138,0.7330887244383668,-0.28883746855420295,0.08566731438430474,0.7555660133445387,1.1049568431634955,-1.3812369915487712,-0.8174175299865616,-0.8248078481448089,0.7356323942707764,1.2653338585324767,-0.18059200910535284,-0.38764126320576625,0.3068571846498327,-0.017802610088861078,-1.2448689372431117,-0.5455457220924914,-1.3636227617415497,0.8781052561742182,-1.1308414154010213,0.43598808801295963,-0.2698775553517715,0.6007741310914498,-0.12824164287705786,-1.4737554600983167,-0.6168833528117381,-1.5677508982279706,-0.8333906824825512,-0.8840233877917568,-0.318907475153674,-0.4310751093763682,-0.18146725033800976,0.4549480012153911,-0.07371958434023292,1.172241012924,0.12927620880143798,-0.8638490773790137,-0.6718977345419327,1.409858067074958,-1.1830167333827848,1.2603231024755157,-0.49041646495051056,-0.2838376530126501,1.0888414639671993,0.5128178574671288,-1.5792493799220015,-1.7741984239809327,-0.04455764051964389,0.6988120896644384,0.1292597980283258,1.0451012833651672,2.2795305773891443,-0.8704352676547574,0.13632190072432662,-0.7630486386654517,-0.2956041773341823,-0.17804833927294347,0.7302387201745276,1.2625166758148618,-0.2076643144829735,1.7727932549692818,-0.5809218786649449,-0.6383212927541297,0.8678649337521316,0.5831325499957078,0.8010785574427008,0.9179287322601103,-0.6923236768090647,1.2804372400535133,-0.3147391387831453,1.500609642386077,-0.6214181964484421,-0.5237795666878534,-0.41491049786073503,0.10148182940687522,-0.06548684649555322,0.8278992309659325,0.20945924622822454,-0.040553411880237936,-0.02351902938965204,-0.9330478373359552,0.6264132289505948,1.9933649861142457,-0.4508063289150788,-0.2649215018718515,-0.25674346660421277,-0.7628790606766243,-0.25055113488316466,0.2198253845775054,0.3112333908131173,0.8290534553414993,-0.8416890634196801,-1.3869752918803786,-0.8139931486637912,0.7063665155538091],\"xaxis\":\"x\",\"y\":[-0.011458189609547545,-0.46749413606953183,-0.46749413606953183,1.3566496497704053,-0.9235300825295161,-0.46749413606953183,-0.9235300825295161,2.2687215426903737,-0.9235300825295161,-0.46749413606953183,-0.011458189609547545,0.900613703310421,0.900613703310421,-1.8356019754494848,-1.3795660289895004,-0.011458189609547545,1.3566496497704053,-0.011458189609547545,0.44457775685043677,-1.8356019754494848,1.3566496497704053,0.44457775685043677,0.44457775685043677,0.900613703310421,-0.46749413606953183,-0.46749413606953183,-0.46749413606953183,1.3566496497704053,-0.46749413606953183,-0.011458189609547545,-0.46749413606953183,-0.9235300825295161,-1.8356019754494848,0.44457775685043677,-0.46749413606953183,-0.9235300825295161,-0.011458189609547545,-0.011458189609547545,0.44457775685043677,-0.9235300825295161,0.900613703310421,-0.9235300825295161,-0.9235300825295161,-0.9235300825295161,0.900613703310421,0.900613703310421,0.900613703310421,-0.011458189609547545,1.3566496497704053,-0.9235300825295161,0.900613703310421,-0.46749413606953183,0.44457775685043677,1.3566496497704053,-0.011458189609547545,-0.011458189609547545,0.44457775685043677,-1.8356019754494848,1.3566496497704053,-1.8356019754494848,-0.9235300825295161,-0.9235300825295161,-1.3795660289895004,-0.011458189609547545,2.2687215426903737,-0.9235300825295161,0.44457775685043677,1.3566496497704053,-0.011458189609547545,-0.46749413606953183,-0.9235300825295161,-0.011458189609547545,-0.9235300825295161,-0.9235300825295161,1.8126855962303896,-0.011458189609547545,-0.9235300825295161,-1.8356019754494848,-0.46749413606953183,-1.8356019754494848,0.44457775685043677,0.900613703310421,-0.9235300825295161,1.8126855962303896,-0.9235300825295161,-0.011458189609547545,0.900613703310421,-0.011458189609547545,-1.3795660289895004,0.900613703310421,0.44457775685043677,-0.46749413606953183,1.8126855962303896,-0.46749413606953183,-1.3795660289895004,-0.011458189609547545,-1.8356019754494848,1.3566496497704053,1.3566496497704053,0.44457775685043677,1.3566496497704053,1.3566496497704053,-0.011458189609547545,1.3566496497704053,0.44457775685043677,-0.011458189609547545,-0.011458189609547545,0.900613703310421,2.7247574891503583,-1.8356019754494848,-0.011458189609547545,-0.9235300825295161,1.3566496497704053,-0.011458189609547545,-0.9235300825295161,0.44457775685043677,-0.46749413606953183,0.44457775685043677,-0.011458189609547545,-0.9235300825295161,-0.46749413606953183,0.900613703310421,-1.3795660289895004,0.900613703310421,-0.46749413606953183,0.44457775685043677,0.44457775685043677,-1.3795660289895004,-0.9235300825295161,-1.8356019754494848,-0.9235300825295161,-0.9235300825295161,-0.46749413606953183,-0.011458189609547545,-0.46749413606953183,0.44457775685043677,-0.011458189609547545,-0.011458189609547545,1.3566496497704053,-1.3795660289895004,-0.46749413606953183,0.900613703310421,-1.3795660289895004,1.3566496497704053,-0.46749413606953183,1.8126855962303896,-0.011458189609547545,-0.011458189609547545,-1.8356019754494848,-1.8356019754494848,-0.011458189609547545,0.44457775685043677,0.44457775685043677,0.900613703310421,2.7247574891503583,-0.011458189609547545,-0.46749413606953183,-0.9235300825295161,-0.011458189609547545,1.3566496497704053,1.3566496497704053,0.44457775685043677,-0.011458189609547545,1.8126855962303896,-0.46749413606953183,-0.9235300825295161,-0.46749413606953183,0.44457775685043677,-0.011458189609547545,-0.011458189609547545,0.44457775685043677,1.3566496497704053,-0.011458189609547545,2.2687215426903737,-0.9235300825295161,-0.46749413606953183,-0.46749413606953183,0.44457775685043677,0.44457775685043677,-0.011458189609547545,-0.011458189609547545,0.900613703310421,-0.9235300825295161,-0.9235300825295161,-0.011458189609547545,1.3566496497704053,-0.011458189609547545,-0.011458189609547545,-0.011458189609547545,-0.46749413606953183,-0.46749413606953183,0.900613703310421,0.44457775685043677,-0.46749413606953183,-0.9235300825295161,-1.3795660289895004,-0.46749413606953183,-0.011458189609547545],\"yaxis\":\"y\",\"type\":\"scatter\"},{\"customdata\":[[\"C0141\",1]],\"hovertemplate\":\"Cluster=-1\\u003cbr\\u003eTotalSpending=%{x}\\u003cbr\\u003eTransactionCount=%{y}\\u003cbr\\u003eCustomerID=%{customdata[0]}\\u003cbr\\u003eRegion=%{customdata[1]}\\u003cextra\\u003e\\u003c\\u002fextra\\u003e\",\"legendgroup\":\"-1\",\"marker\":{\"color\":\"#EF553B\",\"symbol\":\"circle\",\"opacity\":0.7,\"size\":8},\"mode\":\"markers\",\"name\":\"-1\",\"orientation\":\"v\",\"showlegend\":true,\"x\":[3.942171644490543],\"xaxis\":\"x\",\"y\":[2.2687215426903737],\"yaxis\":\"y\",\"type\":\"scatter\"}],                        {\"template\":{\"data\":{\"histogram2dcontour\":[{\"type\":\"histogram2dcontour\",\"colorbar\":{\"outlinewidth\":0,\"ticks\":\"\"},\"colorscale\":[[0.0,\"#0d0887\"],[0.1111111111111111,\"#46039f\"],[0.2222222222222222,\"#7201a8\"],[0.3333333333333333,\"#9c179e\"],[0.4444444444444444,\"#bd3786\"],[0.5555555555555556,\"#d8576b\"],[0.6666666666666666,\"#ed7953\"],[0.7777777777777778,\"#fb9f3a\"],[0.8888888888888888,\"#fdca26\"],[1.0,\"#f0f921\"]]}],\"choropleth\":[{\"type\":\"choropleth\",\"colorbar\":{\"outlinewidth\":0,\"ticks\":\"\"}}],\"histogram2d\":[{\"type\":\"histogram2d\",\"colorbar\":{\"outlinewidth\":0,\"ticks\":\"\"},\"colorscale\":[[0.0,\"#0d0887\"],[0.1111111111111111,\"#46039f\"],[0.2222222222222222,\"#7201a8\"],[0.3333333333333333,\"#9c179e\"],[0.4444444444444444,\"#bd3786\"],[0.5555555555555556,\"#d8576b\"],[0.6666666666666666,\"#ed7953\"],[0.7777777777777778,\"#fb9f3a\"],[0.8888888888888888,\"#fdca26\"],[1.0,\"#f0f921\"]]}],\"heatmap\":[{\"type\":\"heatmap\",\"colorbar\":{\"outlinewidth\":0,\"ticks\":\"\"},\"colorscale\":[[0.0,\"#0d0887\"],[0.1111111111111111,\"#46039f\"],[0.2222222222222222,\"#7201a8\"],[0.3333333333333333,\"#9c179e\"],[0.4444444444444444,\"#bd3786\"],[0.5555555555555556,\"#d8576b\"],[0.6666666666666666,\"#ed7953\"],[0.7777777777777778,\"#fb9f3a\"],[0.8888888888888888,\"#fdca26\"],[1.0,\"#f0f921\"]]}],\"heatmapgl\":[{\"type\":\"heatmapgl\",\"colorbar\":{\"outlinewidth\":0,\"ticks\":\"\"},\"colorscale\":[[0.0,\"#0d0887\"],[0.1111111111111111,\"#46039f\"],[0.2222222222222222,\"#7201a8\"],[0.3333333333333333,\"#9c179e\"],[0.4444444444444444,\"#bd3786\"],[0.5555555555555556,\"#d8576b\"],[0.6666666666666666,\"#ed7953\"],[0.7777777777777778,\"#fb9f3a\"],[0.8888888888888888,\"#fdca26\"],[1.0,\"#f0f921\"]]}],\"contourcarpet\":[{\"type\":\"contourcarpet\",\"colorbar\":{\"outlinewidth\":0,\"ticks\":\"\"}}],\"contour\":[{\"type\":\"contour\",\"colorbar\":{\"outlinewidth\":0,\"ticks\":\"\"},\"colorscale\":[[0.0,\"#0d0887\"],[0.1111111111111111,\"#46039f\"],[0.2222222222222222,\"#7201a8\"],[0.3333333333333333,\"#9c179e\"],[0.4444444444444444,\"#bd3786\"],[0.5555555555555556,\"#d8576b\"],[0.6666666666666666,\"#ed7953\"],[0.7777777777777778,\"#fb9f3a\"],[0.8888888888888888,\"#fdca26\"],[1.0,\"#f0f921\"]]}],\"surface\":[{\"type\":\"surface\",\"colorbar\":{\"outlinewidth\":0,\"ticks\":\"\"},\"colorscale\":[[0.0,\"#0d0887\"],[0.1111111111111111,\"#46039f\"],[0.2222222222222222,\"#7201a8\"],[0.3333333333333333,\"#9c179e\"],[0.4444444444444444,\"#bd3786\"],[0.5555555555555556,\"#d8576b\"],[0.6666666666666666,\"#ed7953\"],[0.7777777777777778,\"#fb9f3a\"],[0.8888888888888888,\"#fdca26\"],[1.0,\"#f0f921\"]]}],\"mesh3d\":[{\"type\":\"mesh3d\",\"colorbar\":{\"outlinewidth\":0,\"ticks\":\"\"}}],\"scatter\":[{\"fillpattern\":{\"fillmode\":\"overlay\",\"size\":10,\"solidity\":0.2},\"type\":\"scatter\"}],\"parcoords\":[{\"type\":\"parcoords\",\"line\":{\"colorbar\":{\"outlinewidth\":0,\"ticks\":\"\"}}}],\"scatterpolargl\":[{\"type\":\"scatterpolargl\",\"marker\":{\"colorbar\":{\"outlinewidth\":0,\"ticks\":\"\"}}}],\"bar\":[{\"error_x\":{\"color\":\"#2a3f5f\"},\"error_y\":{\"color\":\"#2a3f5f\"},\"marker\":{\"line\":{\"color\":\"#E5ECF6\",\"width\":0.5},\"pattern\":{\"fillmode\":\"overlay\",\"size\":10,\"solidity\":0.2}},\"type\":\"bar\"}],\"scattergeo\":[{\"type\":\"scattergeo\",\"marker\":{\"colorbar\":{\"outlinewidth\":0,\"ticks\":\"\"}}}],\"scatterpolar\":[{\"type\":\"scatterpolar\",\"marker\":{\"colorbar\":{\"outlinewidth\":0,\"ticks\":\"\"}}}],\"histogram\":[{\"marker\":{\"pattern\":{\"fillmode\":\"overlay\",\"size\":10,\"solidity\":0.2}},\"type\":\"histogram\"}],\"scattergl\":[{\"type\":\"scattergl\",\"marker\":{\"colorbar\":{\"outlinewidth\":0,\"ticks\":\"\"}}}],\"scatter3d\":[{\"type\":\"scatter3d\",\"line\":{\"colorbar\":{\"outlinewidth\":0,\"ticks\":\"\"}},\"marker\":{\"colorbar\":{\"outlinewidth\":0,\"ticks\":\"\"}}}],\"scattermapbox\":[{\"type\":\"scattermapbox\",\"marker\":{\"colorbar\":{\"outlinewidth\":0,\"ticks\":\"\"}}}],\"scatterternary\":[{\"type\":\"scatterternary\",\"marker\":{\"colorbar\":{\"outlinewidth\":0,\"ticks\":\"\"}}}],\"scattercarpet\":[{\"type\":\"scattercarpet\",\"marker\":{\"colorbar\":{\"outlinewidth\":0,\"ticks\":\"\"}}}],\"carpet\":[{\"aaxis\":{\"endlinecolor\":\"#2a3f5f\",\"gridcolor\":\"white\",\"linecolor\":\"white\",\"minorgridcolor\":\"white\",\"startlinecolor\":\"#2a3f5f\"},\"baxis\":{\"endlinecolor\":\"#2a3f5f\",\"gridcolor\":\"white\",\"linecolor\":\"white\",\"minorgridcolor\":\"white\",\"startlinecolor\":\"#2a3f5f\"},\"type\":\"carpet\"}],\"table\":[{\"cells\":{\"fill\":{\"color\":\"#EBF0F8\"},\"line\":{\"color\":\"white\"}},\"header\":{\"fill\":{\"color\":\"#C8D4E3\"},\"line\":{\"color\":\"white\"}},\"type\":\"table\"}],\"barpolar\":[{\"marker\":{\"line\":{\"color\":\"#E5ECF6\",\"width\":0.5},\"pattern\":{\"fillmode\":\"overlay\",\"size\":10,\"solidity\":0.2}},\"type\":\"barpolar\"}],\"pie\":[{\"automargin\":true,\"type\":\"pie\"}]},\"layout\":{\"autotypenumbers\":\"strict\",\"colorway\":[\"#636efa\",\"#EF553B\",\"#00cc96\",\"#ab63fa\",\"#FFA15A\",\"#19d3f3\",\"#FF6692\",\"#B6E880\",\"#FF97FF\",\"#FECB52\"],\"font\":{\"color\":\"#2a3f5f\"},\"hovermode\":\"closest\",\"hoverlabel\":{\"align\":\"left\"},\"paper_bgcolor\":\"white\",\"plot_bgcolor\":\"#E5ECF6\",\"polar\":{\"bgcolor\":\"#E5ECF6\",\"angularaxis\":{\"gridcolor\":\"white\",\"linecolor\":\"white\",\"ticks\":\"\"},\"radialaxis\":{\"gridcolor\":\"white\",\"linecolor\":\"white\",\"ticks\":\"\"}},\"ternary\":{\"bgcolor\":\"#E5ECF6\",\"aaxis\":{\"gridcolor\":\"white\",\"linecolor\":\"white\",\"ticks\":\"\"},\"baxis\":{\"gridcolor\":\"white\",\"linecolor\":\"white\",\"ticks\":\"\"},\"caxis\":{\"gridcolor\":\"white\",\"linecolor\":\"white\",\"ticks\":\"\"}},\"coloraxis\":{\"colorbar\":{\"outlinewidth\":0,\"ticks\":\"\"}},\"colorscale\":{\"sequential\":[[0.0,\"#0d0887\"],[0.1111111111111111,\"#46039f\"],[0.2222222222222222,\"#7201a8\"],[0.3333333333333333,\"#9c179e\"],[0.4444444444444444,\"#bd3786\"],[0.5555555555555556,\"#d8576b\"],[0.6666666666666666,\"#ed7953\"],[0.7777777777777778,\"#fb9f3a\"],[0.8888888888888888,\"#fdca26\"],[1.0,\"#f0f921\"]],\"sequentialminus\":[[0.0,\"#0d0887\"],[0.1111111111111111,\"#46039f\"],[0.2222222222222222,\"#7201a8\"],[0.3333333333333333,\"#9c179e\"],[0.4444444444444444,\"#bd3786\"],[0.5555555555555556,\"#d8576b\"],[0.6666666666666666,\"#ed7953\"],[0.7777777777777778,\"#fb9f3a\"],[0.8888888888888888,\"#fdca26\"],[1.0,\"#f0f921\"]],\"diverging\":[[0,\"#8e0152\"],[0.1,\"#c51b7d\"],[0.2,\"#de77ae\"],[0.3,\"#f1b6da\"],[0.4,\"#fde0ef\"],[0.5,\"#f7f7f7\"],[0.6,\"#e6f5d0\"],[0.7,\"#b8e186\"],[0.8,\"#7fbc41\"],[0.9,\"#4d9221\"],[1,\"#276419\"]]},\"xaxis\":{\"gridcolor\":\"white\",\"linecolor\":\"white\",\"ticks\":\"\",\"title\":{\"standoff\":15},\"zerolinecolor\":\"white\",\"automargin\":true,\"zerolinewidth\":2},\"yaxis\":{\"gridcolor\":\"white\",\"linecolor\":\"white\",\"ticks\":\"\",\"title\":{\"standoff\":15},\"zerolinecolor\":\"white\",\"automargin\":true,\"zerolinewidth\":2},\"scene\":{\"xaxis\":{\"backgroundcolor\":\"#E5ECF6\",\"gridcolor\":\"white\",\"linecolor\":\"white\",\"showbackground\":true,\"ticks\":\"\",\"zerolinecolor\":\"white\",\"gridwidth\":2},\"yaxis\":{\"backgroundcolor\":\"#E5ECF6\",\"gridcolor\":\"white\",\"linecolor\":\"white\",\"showbackground\":true,\"ticks\":\"\",\"zerolinecolor\":\"white\",\"gridwidth\":2},\"zaxis\":{\"backgroundcolor\":\"#E5ECF6\",\"gridcolor\":\"white\",\"linecolor\":\"white\",\"showbackground\":true,\"ticks\":\"\",\"zerolinecolor\":\"white\",\"gridwidth\":2}},\"shapedefaults\":{\"line\":{\"color\":\"#2a3f5f\"}},\"annotationdefaults\":{\"arrowcolor\":\"#2a3f5f\",\"arrowhead\":0,\"arrowwidth\":1},\"geo\":{\"bgcolor\":\"white\",\"landcolor\":\"#E5ECF6\",\"subunitcolor\":\"white\",\"showland\":true,\"showlakes\":true,\"lakecolor\":\"white\"},\"title\":{\"x\":0.05},\"mapbox\":{\"style\":\"light\"}}},\"xaxis\":{\"anchor\":\"y\",\"domain\":[0.0,1.0],\"title\":{\"text\":\"TotalSpending\"}},\"yaxis\":{\"anchor\":\"x\",\"domain\":[0.0,1.0],\"title\":{\"text\":\"TransactionCount\"}},\"legend\":{\"title\":{\"text\":\"Cluster\",\"font\":{\"size\":14}},\"tracegroupgap\":0},\"title\":{\"text\":\"DBSCAN Clustering with eps=1.5 & min_samples=5\",\"font\":{\"size\":20}}},                        {\"responsive\": true}                    ).then(function(){\n",
       "                            \n",
       "var gd = document.getElementById('017bd8be-bc00-44f4-947c-dba564d52d10');\n",
       "var x = new MutationObserver(function (mutations, observer) {{\n",
       "        var display = window.getComputedStyle(gd).display;\n",
       "        if (!display || display === 'none') {{\n",
       "            console.log([gd, 'removed!']);\n",
       "            Plotly.purge(gd);\n",
       "            observer.disconnect();\n",
       "        }}\n",
       "}});\n",
       "\n",
       "// Listen for the removal of the full notebook cells\n",
       "var notebookContainer = gd.closest('#notebook-container');\n",
       "if (notebookContainer) {{\n",
       "    x.observe(notebookContainer, {childList: true});\n",
       "}}\n",
       "\n",
       "// Listen for the clearing of the current output cell\n",
       "var outputEl = gd.closest('.output');\n",
       "if (outputEl) {{\n",
       "    x.observe(outputEl, {childList: true});\n",
       "}}\n",
       "\n",
       "                        })                };                });            </script>        </div>"
      ]
     },
     "metadata": {},
     "output_type": "display_data"
    }
   ],
   "source": [
    "fig_dbscan = px.scatter(\n",
    "    customer_features,\n",
    "    x=\"TotalSpending\",\n",
    "    y=\"TransactionCount\",\n",
    "    color=customer_features[\"Best_DBSCAN_Cluster\"].astype(str),\n",
    "    title=f\"DBSCAN Clustering with eps={best_dbscan[0]} & min_samples={best_dbscan[1]}\",\n",
    "    labels={\"color\": \"Cluster\"},\n",
    "    hover_data=[\"CustomerID\", \"Region\"]\n",
    ")\n",
    "fig_dbscan.update_traces(marker=dict(size=8, opacity=0.7))\n",
    "fig_dbscan.update_layout(title_font_size=20, legend_title_font_size=14)\n",
    "fig_dbscan.show()"
   ]
  },
  {
   "cell_type": "code",
   "execution_count": 156,
   "id": "875e75ff-9b2d-477e-a9f1-0d66a1a6ee7e",
   "metadata": {},
   "outputs": [
    {
     "name": "stdout",
     "output_type": "stream",
     "text": [
      "Clustering Report\n",
      "=================\n",
      "Best K for KMeans: 8\n",
      "DB Index for Best KMeans: 0.9190\n",
      "Silhouette Score for Best KMeans: 0.3009\n",
      "Best DBSCAN Config: eps=1.5, min_samples=5\n",
      "DB Index for Best DBSCAN: 0.3363\n"
     ]
    }
   ],
   "source": [
    "print(\"Clustering Report\")\n",
    "print(\"=================\")\n",
    "print(f\"Best K for KMeans: {best_k}\")\n",
    "print(f\"DB Index for Best KMeans: {min(kmeans_db_indexes):.4f}\")\n",
    "print(f\"Silhouette Score for Best KMeans: {kmeans_silhouette_scores[best_k-2]:.4f}\")\n",
    "print(f\"Best DBSCAN Config: eps={best_dbscan[0]}, min_samples={best_dbscan[1]}\")\n",
    "print(f\"DB Index for Best DBSCAN: {min(dbscan_db_indexes):.4f}\")\n"
   ]
  }
 ],
 "metadata": {
  "kernelspec": {
   "display_name": "Python 3 (ipykernel)",
   "language": "python",
   "name": "python3"
  },
  "language_info": {
   "codemirror_mode": {
    "name": "ipython",
    "version": 3
   },
   "file_extension": ".py",
   "mimetype": "text/x-python",
   "name": "python",
   "nbconvert_exporter": "python",
   "pygments_lexer": "ipython3",
   "version": "3.11.4"
  }
 },
 "nbformat": 4,
 "nbformat_minor": 5
}
